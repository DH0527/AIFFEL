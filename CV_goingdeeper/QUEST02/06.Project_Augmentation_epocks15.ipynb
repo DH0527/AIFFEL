{
 "cells": [
  {
   "cell_type": "markdown",
   "id": "00df7e6d",
   "metadata": {},
   "source": [
    "# 프로젝트: CutMix 또는 Mixup 비교실험 하기\n",
    "---\n",
    "## 1. Augmentation을 적용한 데이터셋 만들기\n",
    "---\n",
    "데이터셋에 CutMix 또는 Mixup augmentation을 적용  \n",
    "\n",
    "### 데이터 준비"
   ]
  },
  {
   "cell_type": "code",
   "execution_count": 1,
   "id": "298c330e",
   "metadata": {},
   "outputs": [
    {
     "name": "stdout",
     "output_type": "stream",
     "text": [
      "\u001b[1mDownloading and preparing dataset 778.12 MiB (download: 778.12 MiB, generated: Unknown size, total: 778.12 MiB) to /aiffel/tensorflow_datasets/stanford_dogs/0.2.0...\u001b[0m\n"
     ]
    },
    {
     "data": {
      "application/vnd.jupyter.widget-view+json": {
       "model_id": "5fce14aabc44426cab772a85ec0e5c9e",
       "version_major": 2,
       "version_minor": 0
      },
      "text/plain": [
       "Dl Completed...: 0 url [00:00, ? url/s]"
      ]
     },
     "metadata": {},
     "output_type": "display_data"
    },
    {
     "data": {
      "application/vnd.jupyter.widget-view+json": {
       "model_id": "8a2cfb17dee04bffa4f252baddf9eaa8",
       "version_major": 2,
       "version_minor": 0
      },
      "text/plain": [
       "Dl Size...: 0 MiB [00:00, ? MiB/s]"
      ]
     },
     "metadata": {},
     "output_type": "display_data"
    },
    {
     "data": {
      "application/vnd.jupyter.widget-view+json": {
       "model_id": "0c149db34d164e8e882ac7db588a2355",
       "version_major": 2,
       "version_minor": 0
      },
      "text/plain": [
       "Dl Completed...: 0 url [00:00, ? url/s]"
      ]
     },
     "metadata": {},
     "output_type": "display_data"
    },
    {
     "data": {
      "application/vnd.jupyter.widget-view+json": {
       "model_id": "fa21fa246f1b432ab7279eba031f1535",
       "version_major": 2,
       "version_minor": 0
      },
      "text/plain": [
       "Dl Size...: 0 MiB [00:00, ? MiB/s]"
      ]
     },
     "metadata": {},
     "output_type": "display_data"
    },
    {
     "data": {
      "application/vnd.jupyter.widget-view+json": {
       "model_id": "4ec9ed07a36645ea97e080149e158e0d",
       "version_major": 2,
       "version_minor": 0
      },
      "text/plain": [
       "Extraction completed...: 0 file [00:00, ? file/s]"
      ]
     },
     "metadata": {},
     "output_type": "display_data"
    },
    {
     "data": {
      "application/vnd.jupyter.widget-view+json": {
       "model_id": "",
       "version_major": 2,
       "version_minor": 0
      },
      "text/plain": [
       "Generating splits...:   0%|          | 0/2 [00:00<?, ? splits/s]"
      ]
     },
     "metadata": {},
     "output_type": "display_data"
    },
    {
     "data": {
      "application/vnd.jupyter.widget-view+json": {
       "model_id": "",
       "version_major": 2,
       "version_minor": 0
      },
      "text/plain": [
       "Generating train examples...:   0%|          | 0/12000 [00:00<?, ? examples/s]"
      ]
     },
     "metadata": {},
     "output_type": "display_data"
    },
    {
     "data": {
      "application/vnd.jupyter.widget-view+json": {
       "model_id": "",
       "version_major": 2,
       "version_minor": 0
      },
      "text/plain": [
       "Shuffling stanford_dogs-train.tfrecord...:   0%|          | 0/12000 [00:00<?, ? examples/s]"
      ]
     },
     "metadata": {},
     "output_type": "display_data"
    },
    {
     "data": {
      "application/vnd.jupyter.widget-view+json": {
       "model_id": "",
       "version_major": 2,
       "version_minor": 0
      },
      "text/plain": [
       "Generating test examples...:   0%|          | 0/8580 [00:00<?, ? examples/s]"
      ]
     },
     "metadata": {},
     "output_type": "display_data"
    },
    {
     "data": {
      "application/vnd.jupyter.widget-view+json": {
       "model_id": "",
       "version_major": 2,
       "version_minor": 0
      },
      "text/plain": [
       "Shuffling stanford_dogs-test.tfrecord...:   0%|          | 0/8580 [00:00<?, ? examples/s]"
      ]
     },
     "metadata": {},
     "output_type": "display_data"
    },
    {
     "name": "stdout",
     "output_type": "stream",
     "text": [
      "\u001b[1mDataset stanford_dogs downloaded and prepared to /aiffel/tensorflow_datasets/stanford_dogs/0.2.0. Subsequent calls will reuse this data.\u001b[0m\n"
     ]
    }
   ],
   "source": [
    "# TensorFlow and tf.keras\n",
    "import tensorflow as tf\n",
    "from tensorflow import keras\n",
    "\n",
    "# Helper libraries\n",
    "import numpy as np\n",
    "import matplotlib.pyplot as plt\n",
    "\n",
    "import tensorflow_datasets as tfds\n",
    "\n",
    "(ds_train, ds_test), ds_info = tfds.load(\n",
    "    'stanford_dogs',\n",
    "    split=['train', 'test'],\n",
    "    as_supervised=True,\n",
    "    shuffle_files=True,\n",
    "    with_info=True,\n",
    ")"
   ]
  },
  {
   "cell_type": "code",
   "execution_count": 2,
   "id": "01efe1a0",
   "metadata": {},
   "outputs": [
    {
     "name": "stdout",
     "output_type": "stream",
     "text": [
      "train: 12000\n",
      "test: 8580\n"
     ]
    }
   ],
   "source": [
    "print('train:', len(ds_train))\n",
    "print('test:', len(ds_test))"
   ]
  },
  {
   "cell_type": "markdown",
   "id": "2b01b413",
   "metadata": {},
   "source": [
    "#### 전처리 함수"
   ]
  },
  {
   "cell_type": "code",
   "execution_count": 3,
   "id": "0917e047",
   "metadata": {},
   "outputs": [],
   "source": [
    "def normalize_and_resize_img(image, label):\n",
    "    # Normalizes images: `uint8` -> `float32`\n",
    "    image = tf.image.resize(image, [224, 224])\n",
    "    return tf.cast(image, tf.float32) / 255., label\n",
    "\n",
    "# --------------------------------------------------------\n",
    "# augmentation\n",
    "# --------------------------------------------------------\n",
    "def augment(image, label):\n",
    "    image = tf.image.random_flip_left_right(image)\n",
    "    image = tf.image.random_flip_up_down(image)\n",
    "    image = tf.image.random_brightness(image, max_delta=0.2)\n",
    "    image = tf.clip_by_value(image, 0, 1)\n",
    "    return image, label\n",
    "\n",
    "# --------------------------------------------------------\n",
    "# Cutmix\n",
    "# --------------------------------------------------------\n",
    "def get_clip_box(image_a, image_b):\n",
    "    # image.shape = (height, width, channel)\n",
    "    image_size_x = image_a.shape[1]\n",
    "    image_size_y = image_a.shape[0]\n",
    "    \n",
    "    # get center of box\n",
    "    x = tf.cast(tf.random.uniform([], 0, image_size_x), tf.int32)\n",
    "    y = tf.cast(tf.random.uniform([], 0, image_size_y), tf.int32)\n",
    "\n",
    "    # get width, height of box\n",
    "    width = tf.cast(image_size_x*tf.math.sqrt(1-tf.random.uniform([], 0, 1)), tf.int32)\n",
    "    height = tf.cast(image_size_y*tf.math.sqrt(1-tf.random.uniform([], 0, 1)), tf.int32)\n",
    "    \n",
    "    # clip box in image and get minmax bbox\n",
    "    x_min = tf.math.maximum(0, x-width//2)\n",
    "    y_min = tf.math.maximum(0, y-height//2)\n",
    "    x_max = tf.math.minimum(image_size_x, x+width//2)\n",
    "    y_max = tf.math.minimum(image_size_y, y+height//2)\n",
    "    \n",
    "    return x_min, y_min, x_max, y_max\n",
    "\n",
    "def mix_2_images(image_a, image_b, x_min, y_min, x_max, y_max):\n",
    "    image_size_x = image_a.shape[1]\n",
    "    image_size_y = image_a.shape[0] \n",
    "    middle_left = image_a[y_min:y_max, 0:x_min, :] # image_b의 왼쪽 바깥 영역\n",
    "    middle_center = image_b[y_min:y_max, x_min:x_max, :]  # image_b의 안쪽 영역\n",
    "    middle_right = image_a[y_min:y_max, x_max:image_size_x, :] # image_b의 오른쪽 바깥 영역\n",
    "    middle = tf.concat([middle_left,middle_center,middle_right], axis=1)\n",
    "    top = image_a[0:y_min, :, :]\n",
    "    bottom = image_a[y_max:image_size_y, :, :]\n",
    "    mixed_img = tf.concat([top, middle, bottom],axis=0)\n",
    "    \n",
    "    return mixed_img\n",
    "\n",
    "def mix_2_labels(label_a, label_b, x_min, y_min, x_max, y_max, img_size=224, num_classes=120):\n",
    "    image_size_x = img_size\n",
    "    image_size_y = img_size\n",
    "    mixed_area = (x_max-x_min)*(y_max-y_min)\n",
    "    total_area = image_size_x*image_size_y\n",
    "    ratio = tf.cast(mixed_area/total_area, tf.float32)\n",
    "\n",
    "    if len(label_a.shape)==0:\n",
    "        label_a = tf.one_hot(label_a, num_classes)\n",
    "    if len(label_b.shape)==0:\n",
    "        label_b = tf.one_hot(label_b, num_classes)\n",
    "    mixed_label = (1-ratio)*label_a + ratio*label_b\n",
    "    return mixed_label\n",
    "\n",
    "def cutmix(image, label, prob=1.0, batch_size=16, img_size=224, num_classes=120):\n",
    "    mixed_imgs = []\n",
    "    mixed_labels = []\n",
    "\n",
    "    for i in range(batch_size):\n",
    "        image_a = image[i]\n",
    "        label_a = label[i]\n",
    "        j = tf.cast(tf.random.uniform([],0, batch_size),tf.int32)\n",
    "        image_b = image[j]\n",
    "        label_b = label[j]\n",
    "        x_min, y_min, x_max, y_max = get_clip_box(image_a, image_b)\n",
    "        mixed_imgs.append(mix_2_images(image_a, image_b, x_min, y_min, x_max, y_max))\n",
    "        mixed_labels.append(mix_2_labels(label_a, label_b, x_min, y_min, x_max, y_max))\n",
    "\n",
    "    mixed_imgs = tf.reshape(tf.stack(mixed_imgs), (batch_size, img_size, img_size, 3))\n",
    "    mixed_labels = tf.reshape(tf.stack(mixed_labels), (batch_size, num_classes))\n",
    "    return mixed_imgs, mixed_labels\n",
    "# --------------------------------------------------------\n",
    "# Mixup\n",
    "# --------------------------------------------------------\n",
    "def mixup_2_images(image_a, image_b, label_a, label_b, num_classes=120):\n",
    "    ratio = tf.random.uniform([], 0, 1)\n",
    "    \n",
    "    if len(label_a.shape)==0:\n",
    "        label_a = tf.one_hot(label_a, num_classes)\n",
    "    if len(label_b.shape)==0:\n",
    "        label_b = tf.one_hot(label_b, num_classes)\n",
    "    mixed_image= (1-ratio)*image_a + ratio*image_b\n",
    "    mixed_label = (1-ratio)*label_a + ratio*label_b\n",
    "    \n",
    "    return mixed_image, mixed_label\n",
    "\n",
    "def mixup(image, label, prob=1.0, batch_size=16, img_size=224, num_classes=120):\n",
    "    mixed_imgs = []\n",
    "    mixed_labels = []\n",
    "\n",
    "    for i in range(batch_size):\n",
    "        image_a = image[i]\n",
    "        label_a = label[i]\n",
    "        j = tf.cast(tf.random.uniform([],0,batch_size), tf.int32)\n",
    "        image_b = image[j]\n",
    "        label_b = label[j]\n",
    "        mixed_img, mixed_label = mixup_2_images(image_a, image_b, label_a, label_b)\n",
    "        mixed_imgs.append(mixed_img)\n",
    "        mixed_labels.append(mixed_label)\n",
    "\n",
    "    mixed_imgs = tf.reshape(tf.stack(mixed_imgs), (batch_size, img_size, img_size, 3))\n",
    "    mixed_labels = tf.reshape(tf.stack(mixed_labels), (batch_size, num_classes))\n",
    "    return mixed_imgs, mixed_labels\n",
    "\n",
    "# --------------------------------------------------------\n",
    "# 데이터 가공 함수\n",
    "# --------------------------------------------------------\n",
    "def onehot(image, label, num_classes=120):\n",
    "    label = tf.one_hot(label, num_classes)\n",
    "    return image, label\n",
    "\n",
    "def apply_normalize_on_dataset(ds, is_test=False, batch_size=16, with_aug=False, with_cutmix=False, with_mixup=False):\n",
    "    ds = ds.map(\n",
    "        normalize_and_resize_img, \n",
    "        num_parallel_calls=2\n",
    "    )\n",
    "    if not is_test and with_aug:\n",
    "        ds = ds.map(\n",
    "            augment\n",
    "        )\n",
    "    # CutMix는 배치 안에 있는 이미지끼리만 섞는 과정이기 때문에 배치 단위로 데이터셋을 정렬 후 CutMix 적용\n",
    "    ds = ds.batch(batch_size)\n",
    "    if not is_test and (with_cutmix or with_mixup):\n",
    "        if with_cutmix:            \n",
    "            ds = ds.map(\n",
    "                cutmix,\n",
    "                num_parallel_calls=2\n",
    "            )\n",
    "            \n",
    "        if with_mixup:            \n",
    "            ds = ds.map(\n",
    "                mixup,\n",
    "                num_parallel_calls=2\n",
    "            )    \n",
    "    else:\n",
    "        ds = ds.map(\n",
    "            onehot,\n",
    "            num_parallel_calls=2\n",
    "        )\n",
    "            \n",
    "    if not is_test:\n",
    "        ds = ds.repeat()\n",
    "        ds = ds.shuffle(200)\n",
    "    ds = ds.prefetch(tf.data.experimental.AUTOTUNE)\n",
    "    return ds"
   ]
  },
  {
   "cell_type": "code",
   "execution_count": 4,
   "id": "6ee929bb",
   "metadata": {},
   "outputs": [],
   "source": [
    "ds_train_no_aug = apply_normalize_on_dataset(ds_train) # No Augmentation\n",
    "ds_train_aug = apply_normalize_on_dataset(ds_train, with_aug = True) # 기본 Augmentation\n",
    "ds_train_aug_cutmix = apply_normalize_on_dataset(ds_train, with_aug = True, with_cutmix=True) # 기본 Augmentation + cutmix\n",
    "ds_train_aug_mixup = apply_normalize_on_dataset(ds_train, with_aug = True, with_mixup=True) # 기본 Augmentation + mixup\n",
    "\n",
    "ds_val = apply_normalize_on_dataset(ds_test, is_test=True)"
   ]
  },
  {
   "cell_type": "markdown",
   "id": "58aeef1d",
   "metadata": {},
   "source": [
    "---\n",
    "## 2. 모델 만들기\n",
    "---\n",
    "ResNet-50 사용"
   ]
  },
  {
   "cell_type": "code",
   "execution_count": 5,
   "id": "a03c7e93",
   "metadata": {},
   "outputs": [],
   "source": [
    "def get_resnet50(num_classes=120):\n",
    "    return keras.models.Sequential([\n",
    "        keras.applications.resnet.ResNet50(\n",
    "            include_top=False,\n",
    "            weights='imagenet',\n",
    "            input_shape=(224,224,3),\n",
    "            pooling='avg',\n",
    "        ),\n",
    "        keras.layers.Dense(num_classes, activation='softmax')\n",
    "    ])"
   ]
  },
  {
   "cell_type": "markdown",
   "id": "630e2445",
   "metadata": {},
   "source": [
    "---\n",
    "## 3. 모델 훈련하기\n",
    "---\n",
    "**손실함수 categorical_crossentropy** 사용  \n",
    "cutmix(), mixup()을 구현하면서 label의 mix 때문에 더이상 label이 스칼라값을 가지지 못하고 One-Hot 벡터 형태로 변환되었기 때문\n",
    "\n",
    "### 모델 훈련 함수"
   ]
  },
  {
   "cell_type": "code",
   "execution_count": 6,
   "id": "0177b337",
   "metadata": {},
   "outputs": [],
   "source": [
    "def compile_and_fit(train_data, val_data, epochs=15, model=None):\n",
    "    if model is None:\n",
    "        model = get_resnet50()\n",
    "    model.compile(\n",
    "        loss='categorical_crossentropy',\n",
    "        optimizer=tf.keras.optimizers.SGD(learning_rate=0.01),\n",
    "        metrics=['accuracy'],\n",
    "    )\n",
    "\n",
    "    return model, model.fit(\n",
    "        train_data, \n",
    "        steps_per_epoch=int(ds_info.splits['train'].num_examples/16),\n",
    "        validation_steps=int(ds_info.splits['test'].num_examples/16),\n",
    "        epochs=epochs,\n",
    "        validation_data=val_data,\n",
    "        verbose=1,\n",
    "        use_multiprocessing=True,\n",
    "    )"
   ]
  },
  {
   "cell_type": "markdown",
   "id": "2686ad4d",
   "metadata": {},
   "source": [
    "#### No Augmentation 모델 훈련"
   ]
  },
  {
   "cell_type": "code",
   "execution_count": 7,
   "id": "bb8366c4",
   "metadata": {},
   "outputs": [],
   "source": [
    "#resnet50_no_aug, history_no_aug = compile_and_fit(ds_train_no_aug, ds_val)"
   ]
  },
  {
   "cell_type": "markdown",
   "id": "d75eabc7",
   "metadata": {},
   "source": [
    "#### 기본 Augmentation 모델 훈련"
   ]
  },
  {
   "cell_type": "code",
   "execution_count": 8,
   "id": "0510c43c",
   "metadata": {},
   "outputs": [],
   "source": [
    "#resnet50_aug, history_aug = compile_and_fit(ds_train_aug, ds_val)"
   ]
  },
  {
   "cell_type": "markdown",
   "id": "7eb37ec6",
   "metadata": {},
   "source": [
    "#### 기본 + CutMix Augmentation 모델 훈련"
   ]
  },
  {
   "cell_type": "code",
   "execution_count": 9,
   "id": "449035e7",
   "metadata": {},
   "outputs": [
    {
     "name": "stdout",
     "output_type": "stream",
     "text": [
      "Downloading data from https://storage.googleapis.com/tensorflow/keras-applications/resnet/resnet50_weights_tf_dim_ordering_tf_kernels_notop.h5\n",
      "94773248/94765736 [==============================] - 0s 0us/step\n",
      "94781440/94765736 [==============================] - 0s 0us/step\n",
      "Epoch 1/15\n",
      "750/750 [==============================] - 201s 200ms/step - loss: 4.1946 - accuracy: 0.1252 - val_loss: 3.6227 - val_accuracy: 0.1757\n",
      "Epoch 2/15\n",
      "750/750 [==============================] - 154s 206ms/step - loss: 3.3868 - accuracy: 0.2916 - val_loss: 1.8303 - val_accuracy: 0.4979\n",
      "Epoch 3/15\n",
      "750/750 [==============================] - 154s 205ms/step - loss: 3.1337 - accuracy: 0.3703 - val_loss: 1.5744 - val_accuracy: 0.5553\n",
      "Epoch 4/15\n",
      "750/750 [==============================] - 154s 206ms/step - loss: 2.9105 - accuracy: 0.4294 - val_loss: 1.3586 - val_accuracy: 0.6130\n",
      "Epoch 5/15\n",
      "750/750 [==============================] - 154s 206ms/step - loss: 2.7904 - accuracy: 0.4692 - val_loss: 1.6144 - val_accuracy: 0.5601\n",
      "Epoch 6/15\n",
      "750/750 [==============================] - 154s 206ms/step - loss: 2.6923 - accuracy: 0.5029 - val_loss: 1.5678 - val_accuracy: 0.5691\n",
      "Epoch 7/15\n",
      "750/750 [==============================] - 154s 206ms/step - loss: 2.5859 - accuracy: 0.5350 - val_loss: 1.4674 - val_accuracy: 0.5972\n",
      "Epoch 8/15\n",
      "750/750 [==============================] - 154s 206ms/step - loss: 2.5195 - accuracy: 0.5549 - val_loss: 1.5292 - val_accuracy: 0.5876\n",
      "Epoch 9/15\n",
      "750/750 [==============================] - 154s 206ms/step - loss: 2.4021 - accuracy: 0.5938 - val_loss: 1.3565 - val_accuracy: 0.6273\n",
      "Epoch 10/15\n",
      "750/750 [==============================] - 154s 206ms/step - loss: 2.3714 - accuracy: 0.6022 - val_loss: 1.4764 - val_accuracy: 0.5957\n",
      "Epoch 11/15\n",
      "750/750 [==============================] - 154s 206ms/step - loss: 2.3228 - accuracy: 0.6194 - val_loss: 1.2270 - val_accuracy: 0.6590\n",
      "Epoch 12/15\n",
      "750/750 [==============================] - 154s 206ms/step - loss: 2.2471 - accuracy: 0.6382 - val_loss: 1.3206 - val_accuracy: 0.6358\n",
      "Epoch 13/15\n",
      "750/750 [==============================] - 154s 206ms/step - loss: 2.2059 - accuracy: 0.6539 - val_loss: 1.4376 - val_accuracy: 0.6193\n",
      "Epoch 14/15\n",
      "750/750 [==============================] - 154s 206ms/step - loss: 2.1578 - accuracy: 0.6698 - val_loss: 1.5561 - val_accuracy: 0.5950\n",
      "Epoch 15/15\n",
      "750/750 [==============================] - 154s 206ms/step - loss: 2.1069 - accuracy: 0.6792 - val_loss: 1.4260 - val_accuracy: 0.6230\n"
     ]
    }
   ],
   "source": [
    "resnet50_aug_cutmix, history_aug_cutmix = compile_and_fit(ds_train_aug_cutmix, ds_val)"
   ]
  },
  {
   "cell_type": "markdown",
   "id": "e1f5daa6",
   "metadata": {},
   "source": [
    "#### 기본 + MixUp Augmentation 모델 훈련"
   ]
  },
  {
   "cell_type": "code",
   "execution_count": 10,
   "id": "bcabf861",
   "metadata": {},
   "outputs": [
    {
     "name": "stdout",
     "output_type": "stream",
     "text": [
      "Epoch 1/15\n",
      "750/750 [==============================] - 163s 207ms/step - loss: 4.0992 - accuracy: 0.1377 - val_loss: 4.1130 - val_accuracy: 0.1104\n",
      "Epoch 2/15\n",
      "750/750 [==============================] - 155s 206ms/step - loss: 3.3154 - accuracy: 0.3277 - val_loss: 2.0193 - val_accuracy: 0.4546\n",
      "Epoch 3/15\n",
      "750/750 [==============================] - 154s 206ms/step - loss: 3.0562 - accuracy: 0.4126 - val_loss: 1.5038 - val_accuracy: 0.5788\n",
      "Epoch 4/15\n",
      "750/750 [==============================] - 155s 206ms/step - loss: 2.8812 - accuracy: 0.4678 - val_loss: 1.5821 - val_accuracy: 0.5610\n",
      "Epoch 5/15\n",
      "750/750 [==============================] - 155s 206ms/step - loss: 2.7649 - accuracy: 0.5148 - val_loss: 1.5006 - val_accuracy: 0.5819\n",
      "Epoch 6/15\n",
      "750/750 [==============================] - 154s 206ms/step - loss: 2.6674 - accuracy: 0.5441 - val_loss: 1.5287 - val_accuracy: 0.5827\n",
      "Epoch 7/15\n",
      "750/750 [==============================] - 155s 206ms/step - loss: 2.5846 - accuracy: 0.5828 - val_loss: 1.3984 - val_accuracy: 0.6173\n",
      "Epoch 8/15\n",
      "750/750 [==============================] - 154s 206ms/step - loss: 2.5075 - accuracy: 0.6069 - val_loss: 1.4401 - val_accuracy: 0.6059\n",
      "Epoch 9/15\n",
      "750/750 [==============================] - 154s 206ms/step - loss: 2.4422 - accuracy: 0.6274 - val_loss: 1.5672 - val_accuracy: 0.5865\n",
      "Epoch 10/15\n",
      "750/750 [==============================] - 155s 206ms/step - loss: 2.3902 - accuracy: 0.6482 - val_loss: 1.7761 - val_accuracy: 0.5350\n",
      "Epoch 11/15\n",
      "750/750 [==============================] - 155s 206ms/step - loss: 2.3270 - accuracy: 0.6723 - val_loss: 1.3297 - val_accuracy: 0.6404\n",
      "Epoch 12/15\n",
      "750/750 [==============================] - 155s 206ms/step - loss: 2.2717 - accuracy: 0.6900 - val_loss: 1.5837 - val_accuracy: 0.5850\n",
      "Epoch 13/15\n",
      "750/750 [==============================] - 155s 206ms/step - loss: 2.2334 - accuracy: 0.6979 - val_loss: 1.3912 - val_accuracy: 0.6285\n",
      "Epoch 14/15\n",
      "750/750 [==============================] - 155s 206ms/step - loss: 2.2083 - accuracy: 0.7153 - val_loss: 1.4700 - val_accuracy: 0.6178\n",
      "Epoch 15/15\n",
      "750/750 [==============================] - 154s 206ms/step - loss: 2.1944 - accuracy: 0.7201 - val_loss: 1.4652 - val_accuracy: 0.6087\n"
     ]
    }
   ],
   "source": [
    "resnet50_aug_mixup, history_aug_mixup = compile_and_fit(ds_train_aug_mixup, ds_val)"
   ]
  },
  {
   "cell_type": "markdown",
   "id": "796ee7d0",
   "metadata": {},
   "source": [
    "---\n",
    "## 4. 훈련 과정 시각화\n",
    "---"
   ]
  },
  {
   "cell_type": "code",
   "execution_count": 13,
   "id": "df156ebf",
   "metadata": {},
   "outputs": [
    {
     "data": {
      "image/png": "[encoded data removed]",
      "text/plain": [
       "<Figure size 432x288 with 1 Axes>"
      ]
     },
     "metadata": {
      "needs_background": "light"
     },
     "output_type": "display_data"
    }
   ],
   "source": [
    "# plt.plot(history_no_aug.history['val_accuracy'], 'r')\n",
    "# plt.plot(history_aug.history['val_accuracy'], 'b')\n",
    "plt.plot(history_aug_cutmix.history['val_accuracy'], 'g')\n",
    "plt.plot(history_aug_mixup.history['val_accuracy'], 'y')\n",
    "plt.title('Model validation accuracy')\n",
    "plt.ylabel('Accuracy')\n",
    "plt.xlabel('Epoch')\n",
    "plt.legend(['No Augmentation', 'With Augmentation', 'With CutMix', 'With MixUp'], loc='upper left')\n",
    "plt.show()"
   ]
  },
  {
   "cell_type": "code",
   "execution_count": 14,
   "id": "d47d2700",
   "metadata": {},
   "outputs": [
    {
     "data": {
      "image/png": "[encoded data removed]",
      "text/plain": [
       "<Figure size 432x288 with 1 Axes>"
      ]
     },
     "metadata": {
      "needs_background": "light"
     },
     "output_type": "display_data"
    }
   ],
   "source": [
    "# plt.plot(history_no_aug.history['val_loss'], 'r')\n",
    "# plt.plot(history_aug.history['val_loss'], 'b')\n",
    "plt.plot(history_aug_cutmix.history['val_loss'], 'g')\n",
    "plt.plot(history_aug_mixup.history['val_loss'], 'y')\n",
    "plt.title('Model validation accuracy')\n",
    "plt.ylabel('Loss')\n",
    "plt.xlabel('Epoch')\n",
    "plt.legend(['No Augmentation', 'With Augmentation', 'With CutMix', 'With MixUp'], loc='upper left')\n",
    "plt.show()"
   ]
  },
  {
   "cell_type": "code",
   "execution_count": 15,
   "id": "92549e6d",
   "metadata": {},
   "outputs": [],
   "source": [
    "# history 객체를 파일에 저장\n",
    "import pickle\n",
    "\n",
    "with open('./history_aug_cutmix.pkl', 'wb') as file:\n",
    "    pickle.dump(history_aug_cutmix.history, file)"
   ]
  },
  {
   "cell_type": "code",
   "execution_count": 16,
   "id": "2055b136",
   "metadata": {},
   "outputs": [],
   "source": [
    "with open('./history_aug_mixup.pkl', 'wb') as file:\n",
    "    pickle.dump(history_aug_mixup.history, file)"
   ]
  },
  {
   "cell_type": "code",
   "execution_count": 18,
   "id": "a03e2da1",
   "metadata": {},
   "outputs": [
    {
     "data": {
      "image/png": "[encoded data removed]",
      "text/plain": [
       "<Figure size 432x288 with 1 Axes>"
      ]
     },
     "metadata": {
      "needs_background": "light"
     },
     "output_type": "display_data"
    }
   ],
   "source": [
    "with open('./history_aug_cutmix.pkl', 'rb') as file:\n",
    "    h_cutmix = pickle.load(file)\n",
    "\n",
    "with open('./history_aug_mixup.pkl', 'rb') as file:\n",
    "    h_mixup = pickle.load(file)\n",
    "    \n",
    "plt.plot(h_cutmix['val_loss'], 'g')\n",
    "plt.plot(h_mixup['val_loss'], 'y')\n",
    "plt.title('Model validation accuracy')\n",
    "plt.ylabel('Loss')\n",
    "plt.xlabel('Epoch')\n",
    "plt.legend(['No Augmentation', 'With Augmentation', 'With CutMix', 'With MixUp'], loc='upper left')\n",
    "plt.show()"
   ]
  },
  {
   "cell_type": "code",
   "execution_count": null,
   "id": "fd358bb4",
   "metadata": {},
   "outputs": [],
   "source": []
  }
 ],
 "metadata": {
  "kernelspec": {
   "display_name": "Python 3 (ipykernel)",
   "language": "python",
   "name": "python3"
  },
  "language_info": {
   "codemirror_mode": {
    "name": "ipython",
    "version": 3
   },
   "file_extension": ".py",
   "mimetype": "text/x-python",
   "name": "python",
   "nbconvert_exporter": "python",
   "pygments_lexer": "ipython3",
   "version": "3.9.7"
  }
 },
 "nbformat": 4,
 "nbformat_minor": 5
}
