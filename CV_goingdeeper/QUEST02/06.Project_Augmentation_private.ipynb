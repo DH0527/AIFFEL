{
 "cells": [
  {
   "cell_type": "markdown",
   "id": "88b23a15",
   "metadata": {},
   "source": [
    "# 프로젝트: CutMix 또는 Mixup 비교실험 하기\n",
    "---\n",
    "## 1. Augmentation을 적용한 데이터셋 만들기\n",
    "---\n",
    "데이터셋에 CutMix 또는 Mixup augmentation을 적용  \n",
    "\n",
    "### 데이터 준비"
   ]
  },
  {
   "cell_type": "code",
   "execution_count": 1,
   "id": "e89c9d9e",
   "metadata": {},
   "outputs": [],
   "source": [
    "# TensorFlow and tf.keras\n",
    "import tensorflow as tf\n",
    "from tensorflow import keras\n",
    "\n",
    "# Helper libraries\n",
    "import numpy as np\n",
    "import matplotlib.pyplot as plt\n",
    "\n",
    "import tensorflow_datasets as tfds\n",
    "\n",
    "(ds_train, ds_test), ds_info = tfds.load(\n",
    "    'stanford_dogs',\n",
    "    split=['train', 'test'],\n",
    "    as_supervised=True,\n",
    "    shuffle_files=True,\n",
    "    with_info=True,\n",
    ")"
   ]
  },
  {
   "cell_type": "code",
   "execution_count": 2,
   "id": "38bb8be5",
   "metadata": {},
   "outputs": [
    {
     "name": "stdout",
     "output_type": "stream",
     "text": [
      "train: 12000\n",
      "test: 8580\n"
     ]
    }
   ],
   "source": [
    "print('train:', len(ds_train))\n",
    "print('test:', len(ds_test))"
   ]
  },
  {
   "cell_type": "markdown",
   "id": "0a39059c",
   "metadata": {},
   "source": [
    "#### 전처리 함수"
   ]
  },
  {
   "cell_type": "code",
   "execution_count": 5,
   "id": "5c0dd9db",
   "metadata": {},
   "outputs": [],
   "source": [
    "def normalize_and_resize_img(image, label):\n",
    "    # Normalizes images: `uint8` -> `float32`\n",
    "    image = tf.image.resize(image, [224, 224])\n",
    "    return tf.cast(image, tf.float32) / 255., label\n",
    "\n",
    "# --------------------------------------------------------\n",
    "# augmentation\n",
    "# --------------------------------------------------------\n",
    "def augment(image, label):\n",
    "    image = tf.image.random_flip_left_right(image)\n",
    "    image = tf.image.random_flip_up_down(image)\n",
    "    image = tf.image.random_brightness(image, max_delta=0.2)\n",
    "    image = tf.clip_by_value(image, 0, 1)\n",
    "    return image, label\n",
    "\n",
    "# --------------------------------------------------------\n",
    "# Cutmix\n",
    "# --------------------------------------------------------\n",
    "def get_clip_box(image_a, image_b):\n",
    "    # image.shape = (height, width, channel)\n",
    "    image_size_x = image_a.shape[1]\n",
    "    image_size_y = image_a.shape[0]\n",
    "    \n",
    "    # get center of box\n",
    "    x = tf.cast(tf.random.uniform([], 0, image_size_x), tf.int32)\n",
    "    y = tf.cast(tf.random.uniform([], 0, image_size_y), tf.int32)\n",
    "\n",
    "    # get width, height of box\n",
    "    width = tf.cast(image_size_x*tf.math.sqrt(1-tf.random.uniform([], 0, 1)), tf.int32)\n",
    "    height = tf.cast(image_size_y*tf.math.sqrt(1-tf.random.uniform([], 0, 1)), tf.int32)\n",
    "    \n",
    "    # clip box in image and get minmax bbox\n",
    "    x_min = tf.math.maximum(0, x-width//2)\n",
    "    y_min = tf.math.maximum(0, y-height//2)\n",
    "    x_max = tf.math.minimum(image_size_x, x+width//2)\n",
    "    y_max = tf.math.minimum(image_size_y, y+height//2)\n",
    "    \n",
    "    return x_min, y_min, x_max, y_max\n",
    "\n",
    "def mix_2_images(image_a, image_b, x_min, y_min, x_max, y_max):\n",
    "    image_size_x = image_a.shape[1]\n",
    "    image_size_y = image_a.shape[0] \n",
    "    middle_left = image_a[y_min:y_max, 0:x_min, :] # image_b의 왼쪽 바깥 영역\n",
    "    middle_center = image_b[y_min:y_max, x_min:x_max, :]  # image_b의 안쪽 영역\n",
    "    middle_right = image_a[y_min:y_max, x_max:image_size_x, :] # image_b의 오른쪽 바깥 영역\n",
    "    middle = tf.concat([middle_left,middle_center,middle_right], axis=1)\n",
    "    top = image_a[0:y_min, :, :]\n",
    "    bottom = image_a[y_max:image_size_y, :, :]\n",
    "    mixed_img = tf.concat([top, middle, bottom],axis=0)\n",
    "    \n",
    "    return mixed_img\n",
    "\n",
    "def mix_2_labels(label_a, label_b, x_min, y_min, x_max, y_max, img_size=224, num_classes=120):\n",
    "    image_size_x = img_size\n",
    "    image_size_y = img_size\n",
    "    mixed_area = (x_max-x_min)*(y_max-y_min)\n",
    "    total_area = image_size_x*image_size_y\n",
    "    ratio = tf.cast(mixed_area/total_area, tf.float32)\n",
    "\n",
    "    if len(label_a.shape)==0:\n",
    "        label_a = tf.one_hot(label_a, num_classes)\n",
    "    if len(label_b.shape)==0:\n",
    "        label_b = tf.one_hot(label_b, num_classes)\n",
    "    mixed_label = (1-ratio)*label_a + ratio*label_b\n",
    "    return mixed_label\n",
    "\n",
    "def cutmix(image, label, prob=1.0, batch_size=16, img_size=224, num_classes=120):\n",
    "    mixed_imgs = []\n",
    "    mixed_labels = []\n",
    "\n",
    "    for i in range(batch_size):\n",
    "        image_a = image[i]\n",
    "        label_a = label[i]\n",
    "        j = tf.cast(tf.random.uniform([],0, batch_size),tf.int32)\n",
    "        image_b = image[j]\n",
    "        label_b = label[j]\n",
    "        x_min, y_min, x_max, y_max = get_clip_box(image_a, image_b)\n",
    "        mixed_imgs.append(mix_2_images(image_a, image_b, x_min, y_min, x_max, y_max))\n",
    "        mixed_labels.append(mix_2_labels(label_a, label_b, x_min, y_min, x_max, y_max))\n",
    "\n",
    "    mixed_imgs = tf.reshape(tf.stack(mixed_imgs), (batch_size, img_size, img_size, 3))\n",
    "    mixed_labels = tf.reshape(tf.stack(mixed_labels), (batch_size, num_classes))\n",
    "    return mixed_imgs, mixed_labels\n",
    "# --------------------------------------------------------\n",
    "# Mixup\n",
    "# --------------------------------------------------------\n",
    "def mixup_2_images(image_a, image_b, label_a, label_b, num_classes=120):\n",
    "    ratio = tf.random.uniform([], 0, 1)\n",
    "    \n",
    "    if len(label_a.shape)==0:\n",
    "        label_a = tf.one_hot(label_a, num_classes)\n",
    "    if len(label_b.shape)==0:\n",
    "        label_b = tf.one_hot(label_b, num_classes)\n",
    "    mixed_image= (1-ratio)*image_a + ratio*image_b\n",
    "    mixed_label = (1-ratio)*label_a + ratio*label_b\n",
    "    \n",
    "    return mixed_image, mixed_label\n",
    "\n",
    "def mixup(image, label, prob=1.0, batch_size=16, img_size=224, num_classes=120):\n",
    "    mixed_imgs = []\n",
    "    mixed_labels = []\n",
    "\n",
    "    for i in range(batch_size):\n",
    "        image_a = image[i]\n",
    "        label_a = label[i]\n",
    "        j = tf.cast(tf.random.uniform([],0,batch_size), tf.int32)\n",
    "        image_b = image[j]\n",
    "        label_b = label[j]\n",
    "        mixed_img, mixed_label = mixup_2_images(image_a, image_b, label_a, label_b)\n",
    "        mixed_imgs.append(mixed_img)\n",
    "        mixed_labels.append(mixed_label)\n",
    "\n",
    "    mixed_imgs = tf.reshape(tf.stack(mixed_imgs), (batch_size, img_size, img_size, 3))\n",
    "    mixed_labels = tf.reshape(tf.stack(mixed_labels), (batch_size, num_classes))\n",
    "    return mixed_imgs, mixed_labels\n",
    "\n",
    "# --------------------------------------------------------\n",
    "# 데이터 가공 함수\n",
    "# --------------------------------------------------------\n",
    "def onehot(image, label, num_classes=120):\n",
    "    label = tf.one_hot(label, num_classes)\n",
    "    return image, label\n",
    "\n",
    "def apply_normalize_on_dataset(ds, is_test=False, batch_size=16, with_aug=False, with_cutmix=False, with_mixup=False):\n",
    "    ds = ds.map(\n",
    "        normalize_and_resize_img, \n",
    "        num_parallel_calls=2\n",
    "    )\n",
    "    if not is_test and with_aug:\n",
    "        ds = ds.map(\n",
    "            augment\n",
    "        )\n",
    "    # CutMix는 배치 안에 있는 이미지끼리만 섞는 과정이기 때문에 배치 단위로 데이터셋을 정렬 후 CutMix 적용\n",
    "    ds = ds.batch(batch_size)\n",
    "    if not is_test and (with_cutmix or with_mixup):\n",
    "        if with_cutmix:            \n",
    "            ds = ds.map(\n",
    "                cutmix,\n",
    "                num_parallel_calls=2\n",
    "            )\n",
    "            \n",
    "        if with_mixup:            \n",
    "            ds = ds.map(\n",
    "                mixup,\n",
    "                num_parallel_calls=2\n",
    "            )    \n",
    "    else:\n",
    "        ds = ds.map(\n",
    "            onehot,\n",
    "            num_parallel_calls=2\n",
    "        )\n",
    "            \n",
    "    if not is_test:\n",
    "        ds = ds.repeat()\n",
    "        ds = ds.shuffle(200)\n",
    "    ds = ds.prefetch(tf.data.experimental.AUTOTUNE)\n",
    "    return ds"
   ]
  },
  {
   "cell_type": "code",
   "execution_count": 6,
   "id": "d3de9f7d",
   "metadata": {},
   "outputs": [],
   "source": [
    "ds_train_no_aug = apply_normalize_on_dataset(ds_train) # No Augmentation\n",
    "ds_train_aug = apply_normalize_on_dataset(ds_train, with_aug = True) # 기본 Augmentation\n",
    "ds_train_aug_cutmix = apply_normalize_on_dataset(ds_train, with_aug = True, with_cutmix=True) # 기본 Augmentation + cutmix\n",
    "ds_train_aug_mixup = apply_normalize_on_dataset(ds_train, with_aug = True, with_mixup=True) # 기본 Augmentation + mixup\n",
    "\n",
    "ds_val = apply_normalize_on_dataset(ds_test, is_test=True)"
   ]
  },
  {
   "cell_type": "markdown",
   "id": "bbc3c80d",
   "metadata": {},
   "source": [
    "---\n",
    "## 2. 모델 만들기\n",
    "---\n",
    "ResNet-50 사용"
   ]
  },
  {
   "cell_type": "code",
   "execution_count": 16,
   "id": "a95a9c70",
   "metadata": {},
   "outputs": [],
   "source": [
    "def get_resnet50(num_classes=120):\n",
    "    return keras.models.Sequential([\n",
    "        keras.applications.resnet.ResNet50(\n",
    "            include_top=False,\n",
    "            weights='imagenet',\n",
    "            input_shape=(224,224,3),\n",
    "            pooling='avg',\n",
    "        ),\n",
    "        keras.layers.Dense(num_classes, activation='softmax')\n",
    "    ])"
   ]
  },
  {
   "cell_type": "markdown",
   "id": "20034cf2",
   "metadata": {},
   "source": [
    "---\n",
    "## 3. 모델 훈련하기\n",
    "---\n",
    "**손실함수 categorical_crossentropy** 사용  \n",
    "cutmix(), mixup()을 구현하면서 label의 mix 때문에 더이상 label이 스칼라값을 가지지 못하고 One-Hot 벡터 형태로 변환되었기 때문\n",
    "\n",
    "### 모델 훈련 함수"
   ]
  },
  {
   "cell_type": "code",
   "execution_count": 22,
   "id": "4fcf7970",
   "metadata": {},
   "outputs": [],
   "source": [
    "def compile_and_fit(train_data, val_data, epochs=5, model=None):\n",
    "    if model is None:\n",
    "        model = get_resnet50()\n",
    "    model.compile(\n",
    "        loss='categorical_crossentropy',\n",
    "        optimizer=tf.keras.optimizers.SGD(learning_rate=0.01),\n",
    "        metrics=['accuracy'],\n",
    "    )\n",
    "\n",
    "    return model, model.fit(\n",
    "        train_data, \n",
    "        steps_per_epoch=int(ds_info.splits['train'].num_examples/16),\n",
    "        validation_steps=int(ds_info.splits['test'].num_examples/16),\n",
    "        epochs=epochs,\n",
    "        validation_data=val_data,\n",
    "        verbose=1,\n",
    "        use_multiprocessing=True,\n",
    "    )"
   ]
  },
  {
   "cell_type": "markdown",
   "id": "32849b62",
   "metadata": {},
   "source": [
    "#### No Augmentation 모델 훈련"
   ]
  },
  {
   "cell_type": "code",
   "execution_count": 23,
   "id": "58dc0bd0",
   "metadata": {},
   "outputs": [
    {
     "name": "stdout",
     "output_type": "stream",
     "text": [
      "Epoch 1/5\n",
      "750/750 [==============================] - 159s 203ms/step - loss: 2.2180 - accuracy: 0.4459 - val_loss: 3.0761 - val_accuracy: 0.2530\n",
      "Epoch 2/5\n",
      "750/750 [==============================] - 151s 202ms/step - loss: 0.7124 - accuracy: 0.8042 - val_loss: 1.1042 - val_accuracy: 0.6695\n",
      "Epoch 3/5\n",
      "750/750 [==============================] - 152s 202ms/step - loss: 0.2250 - accuracy: 0.9546 - val_loss: 0.9490 - val_accuracy: 0.7177\n",
      "Epoch 4/5\n",
      "750/750 [==============================] - 151s 202ms/step - loss: 0.0662 - accuracy: 0.9949 - val_loss: 0.9169 - val_accuracy: 0.7333\n",
      "Epoch 5/5\n",
      "750/750 [==============================] - 151s 202ms/step - loss: 0.0283 - accuracy: 0.9987 - val_loss: 0.9137 - val_accuracy: 0.7390\n"
     ]
    }
   ],
   "source": [
    "resnet50_no_aug, history_no_aug = compile_and_fit(ds_train_no_aug, ds_val)"
   ]
  },
  {
   "cell_type": "markdown",
   "id": "7d829e4a",
   "metadata": {},
   "source": [
    "#### 기본 Augmentation 모델 훈련"
   ]
  },
  {
   "cell_type": "code",
   "execution_count": 24,
   "id": "c2b4e1ab",
   "metadata": {},
   "outputs": [
    {
     "name": "stdout",
     "output_type": "stream",
     "text": [
      "Epoch 1/5\n",
      "750/750 [==============================] - 159s 203ms/step - loss: 2.8391 - accuracy: 0.3067 - val_loss: 3.1389 - val_accuracy: 0.2343\n",
      "Epoch 2/5\n",
      "750/750 [==============================] - 151s 202ms/step - loss: 1.5626 - accuracy: 0.5578 - val_loss: 1.4071 - val_accuracy: 0.5948\n",
      "Epoch 3/5\n",
      "750/750 [==============================] - 151s 202ms/step - loss: 1.1096 - accuracy: 0.6759 - val_loss: 1.6874 - val_accuracy: 0.5374\n",
      "Epoch 4/5\n",
      "750/750 [==============================] - 151s 202ms/step - loss: 0.7909 - accuracy: 0.7723 - val_loss: 1.4795 - val_accuracy: 0.5914\n",
      "Epoch 5/5\n",
      "750/750 [==============================] - 151s 202ms/step - loss: 0.5693 - accuracy: 0.8402 - val_loss: 1.3542 - val_accuracy: 0.6284\n"
     ]
    }
   ],
   "source": [
    "resnet50_aug, history_aug = compile_and_fit(ds_train_aug, ds_val)"
   ]
  },
  {
   "cell_type": "markdown",
   "id": "0b7b7be2",
   "metadata": {},
   "source": [
    "#### 기본 + CutMix Augmentation 모델 훈련"
   ]
  },
  {
   "cell_type": "code",
   "execution_count": 28,
   "id": "1c709e03",
   "metadata": {},
   "outputs": [
    {
     "name": "stdout",
     "output_type": "stream",
     "text": [
      "Epoch 1/5\n",
      "750/750 [==============================] - 163s 206ms/step - loss: 4.1713 - accuracy: 0.1258 - val_loss: 3.5580 - val_accuracy: 0.1802\n",
      "Epoch 2/5\n",
      "750/750 [==============================] - 171s 228ms/step - loss: 3.3901 - accuracy: 0.2941 - val_loss: 2.0045 - val_accuracy: 0.4553\n",
      "Epoch 3/5\n",
      "750/750 [==============================] - 155s 207ms/step - loss: 3.0694 - accuracy: 0.3882 - val_loss: 1.6116 - val_accuracy: 0.5563\n",
      "Epoch 4/5\n",
      "750/750 [==============================] - 154s 206ms/step - loss: 2.9034 - accuracy: 0.4402 - val_loss: 1.4302 - val_accuracy: 0.5984\n",
      "Epoch 5/5\n",
      "750/750 [==============================] - 158s 211ms/step - loss: 2.7907 - accuracy: 0.4742 - val_loss: 1.3829 - val_accuracy: 0.6109\n"
     ]
    }
   ],
   "source": [
    "resnet50_aug_cutmix, history_aug_cutmix = compile_and_fit(ds_train_aug_cutmix, ds_val)"
   ]
  },
  {
   "cell_type": "markdown",
   "id": "40eaf336",
   "metadata": {},
   "source": [
    "#### 기본 + MixUp Augmentation 모델 훈련"
   ]
  },
  {
   "cell_type": "code",
   "execution_count": 29,
   "id": "fa1bbe9f",
   "metadata": {},
   "outputs": [
    {
     "name": "stdout",
     "output_type": "stream",
     "text": [
      "Epoch 1/5\n",
      "750/750 [==============================] - 162s 205ms/step - loss: 4.0999 - accuracy: 0.1458 - val_loss: 4.3591 - val_accuracy: 0.0857\n",
      "Epoch 2/5\n",
      "750/750 [==============================] - 153s 204ms/step - loss: 3.3213 - accuracy: 0.3266 - val_loss: 1.9204 - val_accuracy: 0.4756\n",
      "Epoch 3/5\n",
      "750/750 [==============================] - 153s 204ms/step - loss: 3.0714 - accuracy: 0.4036 - val_loss: 1.8556 - val_accuracy: 0.4958\n",
      "Epoch 4/5\n",
      "750/750 [==============================] - 153s 204ms/step - loss: 2.9162 - accuracy: 0.4565 - val_loss: 1.7438 - val_accuracy: 0.5251\n",
      "Epoch 5/5\n",
      "750/750 [==============================] - 153s 204ms/step - loss: 2.7910 - accuracy: 0.5019 - val_loss: 1.5541 - val_accuracy: 0.5788\n"
     ]
    }
   ],
   "source": [
    "resnet50_aug_mixup, history_aug_mixup = compile_and_fit(ds_train_aug_mixup, ds_val)"
   ]
  },
  {
   "cell_type": "markdown",
   "id": "32c55df7",
   "metadata": {},
   "source": [
    "---\n",
    "## 4. 훈련 과정 시각화\n",
    "---"
   ]
  },
  {
   "cell_type": "code",
   "execution_count": 31,
   "id": "89d96999",
   "metadata": {},
   "outputs": [
    {
     "data": {
      "image/png": "[encoded data removed]",
      "text/plain": [
       "<Figure size 432x288 with 1 Axes>"
      ]
     },
     "metadata": {
      "needs_background": "light"
     },
     "output_type": "display_data"
    }
   ],
   "source": [
    "plt.plot(history_no_aug.history['val_accuracy'], 'r')\n",
    "plt.plot(history_aug.history['val_accuracy'], 'b')\n",
    "plt.plot(history_aug_cutmix.history['val_accuracy'], 'g')\n",
    "plt.plot(history_aug_mixup.history['val_accuracy'], 'y')\n",
    "plt.title('Model validation accuracy')\n",
    "plt.ylabel('Accuracy')\n",
    "plt.xlabel('Epoch')\n",
    "plt.legend(['No Augmentation', 'With Augmentation', 'With CutMix', 'With MixUp'], loc='upper left')\n",
    "plt.show()"
   ]
  },
  {
   "cell_type": "code",
   "execution_count": 32,
   "id": "12b6e6f1",
   "metadata": {},
   "outputs": [
    {
     "data": {
      "image/png": "[encoded data removed]",
      "text/plain": [
       "<Figure size 432x288 with 1 Axes>"
      ]
     },
     "metadata": {
      "needs_background": "light"
     },
     "output_type": "display_data"
    }
   ],
   "source": [
    "plt.plot(history_no_aug.history['val_loss'], 'r')\n",
    "plt.plot(history_aug.history['val_loss'], 'b')\n",
    "plt.plot(history_aug_cutmix.history['val_loss'], 'g')\n",
    "plt.plot(history_aug_mixup.history['val_loss'], 'y')\n",
    "plt.title('Model validation accuracy')\n",
    "plt.ylabel('Loss')\n",
    "plt.xlabel('Epoch')\n",
    "plt.legend(['No Augmentation', 'With Augmentation', 'With CutMix', 'With MixUp'], loc='upper left')\n",
    "plt.show()"
   ]
  },
  {
   "cell_type": "code",
   "execution_count": null,
   "id": "80f2d4f5",
   "metadata": {},
   "outputs": [],
   "source": []
  }
 ],
 "metadata": {
  "kernelspec": {
   "display_name": "Python 3 (ipykernel)",
   "language": "python",
   "name": "python3"
  },
  "language_info": {
   "codemirror_mode": {
    "name": "ipython",
    "version": 3
   },
   "file_extension": ".py",
   "mimetype": "text/x-python",
   "name": "python",
   "nbconvert_exporter": "python",
   "pygments_lexer": "ipython3",
   "version": "3.9.7"
  }
 },
 "nbformat": 4,
 "nbformat_minor": 5
}
