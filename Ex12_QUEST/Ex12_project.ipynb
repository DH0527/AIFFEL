{
 "cells": [
  {
   "attachments": {},
   "cell_type": "markdown",
   "id": "2f9650b9",
   "metadata": {},
   "source": [
    "# 프로젝트: 뉴스기사 요약해보기\n",
    "---\n",
    "### 주요 라이브러리 버전"
   ]
  },
  {
   "cell_type": "code",
   "execution_count": 8,
   "id": "f3fa66ac",
   "metadata": {},
   "outputs": [
    {
     "name": "stdout",
     "output_type": "stream",
     "text": [
      "3.6.5\n",
      "2.6.0\n",
      "1.3.3\n",
      "1.2.0\n"
     ]
    },
    {
     "name": "stderr",
     "output_type": "stream",
     "text": [
      "[nltk_data] Downloading package stopwords to /aiffel/nltk_data...\n",
      "[nltk_data]   Package stopwords is already up-to-date!\n"
     ]
    },
    {
     "data": {
      "text/plain": [
       "True"
      ]
     },
     "execution_count": 8,
     "metadata": {},
     "output_type": "execute_result"
    }
   ],
   "source": [
    "import numpy as np\n",
    "import pandas as pd\n",
    "import os\n",
    "import re\n",
    "import matplotlib.pyplot as plt\n",
    "\n",
    "from bs4 import BeautifulSoup \n",
    "from tensorflow.keras.preprocessing.text import Tokenizer \n",
    "from tensorflow.keras.preprocessing.sequence import pad_sequences\n",
    "import urllib.request\n",
    "import warnings\n",
    "warnings.filterwarnings(\"ignore\", category=UserWarning, module='bs4')\n",
    "\n",
    "from importlib.metadata import version\n",
    "import nltk\n",
    "import tensorflow\n",
    "import summa\n",
    "\n",
    "print(nltk.__version__)\n",
    "print(tensorflow.__version__)\n",
    "print(pd.__version__)\n",
    "print(version('summa'))\n",
    "\n",
    "from nltk.corpus import stopwords\n",
    "nltk.download('stopwords')"
   ]
  },
  {
   "cell_type": "markdown",
   "id": "a4787e78",
   "metadata": {},
   "source": [
    "---\n",
    "## Step 1. 데이터 수집하기\n"
   ]
  },
  {
   "cell_type": "code",
   "execution_count": 4,
   "id": "37780d0c",
   "metadata": {},
   "outputs": [
    {
     "data": {
      "text/html": [
       "<div>\n",
       "<style scoped>\n",
       "    .dataframe tbody tr th:only-of-type {\n",
       "        vertical-align: middle;\n",
       "    }\n",
       "\n",
       "    .dataframe tbody tr th {\n",
       "        vertical-align: top;\n",
       "    }\n",
       "\n",
       "    .dataframe thead th {\n",
       "        text-align: right;\n",
       "    }\n",
       "</style>\n",
       "<table border=\"1\" class=\"dataframe\">\n",
       "  <thead>\n",
       "    <tr style=\"text-align: right;\">\n",
       "      <th></th>\n",
       "      <th>headlines</th>\n",
       "      <th>text</th>\n",
       "    </tr>\n",
       "  </thead>\n",
       "  <tbody>\n",
       "    <tr>\n",
       "      <th>21603</th>\n",
       "      <td>Johnny Lever sold pens on streets before becom...</td>\n",
       "      <td>Johnny Lever, who turned 61 today, used to sel...</td>\n",
       "    </tr>\n",
       "    <tr>\n",
       "      <th>67583</th>\n",
       "      <td>Won't cooperate with graft probe: Philippine P...</td>\n",
       "      <td>Philippine President Rodrigo Duterte has said ...</td>\n",
       "    </tr>\n",
       "    <tr>\n",
       "      <th>33912</th>\n",
       "      <td>Teen rapes minor in front of sister, his paren...</td>\n",
       "      <td>A 16-year-old boy allegedly raped his 13-year-...</td>\n",
       "    </tr>\n",
       "    <tr>\n",
       "      <th>23894</th>\n",
       "      <td>HC rejects Hyundai's plea on 'anti-competitive...</td>\n",
       "      <td>The Madras High Court has dismissed Hyundai Mo...</td>\n",
       "    </tr>\n",
       "    <tr>\n",
       "      <th>61725</th>\n",
       "      <td>Ranveer trolled over his pic's 'Losing my reli...</td>\n",
       "      <td>Ranveer Singh has been trolled for the caption...</td>\n",
       "    </tr>\n",
       "    <tr>\n",
       "      <th>69407</th>\n",
       "      <td>Child sexual abuse cases in Karnataka to be fa...</td>\n",
       "      <td>Karnataka High Court Chief Justice SK Mukherje...</td>\n",
       "    </tr>\n",
       "    <tr>\n",
       "      <th>96392</th>\n",
       "      <td>Air India staff's statements recorded in Shiv ...</td>\n",
       "      <td>The Delhi Police on Monday recorded the statem...</td>\n",
       "    </tr>\n",
       "    <tr>\n",
       "      <th>11570</th>\n",
       "      <td>Offended by talented predator charge: MJ Akbar...</td>\n",
       "      <td>Recording his statement in defamation suit fil...</td>\n",
       "    </tr>\n",
       "    <tr>\n",
       "      <th>41299</th>\n",
       "      <td>ISRO loses contact with satellite 2 days after...</td>\n",
       "      <td>ISRO on Sunday confirmed it has lost contact w...</td>\n",
       "    </tr>\n",
       "    <tr>\n",
       "      <th>50624</th>\n",
       "      <td>'Plastic road-maker' Rajagopalan Vasudevan win...</td>\n",
       "      <td>Rajagopalan Vasudevan, dubbed 'plastic road-ma...</td>\n",
       "    </tr>\n",
       "  </tbody>\n",
       "</table>\n",
       "</div>"
      ],
      "text/plain": [
       "                                               headlines  \\\n",
       "21603  Johnny Lever sold pens on streets before becom...   \n",
       "67583  Won't cooperate with graft probe: Philippine P...   \n",
       "33912  Teen rapes minor in front of sister, his paren...   \n",
       "23894  HC rejects Hyundai's plea on 'anti-competitive...   \n",
       "61725  Ranveer trolled over his pic's 'Losing my reli...   \n",
       "69407  Child sexual abuse cases in Karnataka to be fa...   \n",
       "96392  Air India staff's statements recorded in Shiv ...   \n",
       "11570  Offended by talented predator charge: MJ Akbar...   \n",
       "41299  ISRO loses contact with satellite 2 days after...   \n",
       "50624  'Plastic road-maker' Rajagopalan Vasudevan win...   \n",
       "\n",
       "                                                    text  \n",
       "21603  Johnny Lever, who turned 61 today, used to sel...  \n",
       "67583  Philippine President Rodrigo Duterte has said ...  \n",
       "33912  A 16-year-old boy allegedly raped his 13-year-...  \n",
       "23894  The Madras High Court has dismissed Hyundai Mo...  \n",
       "61725  Ranveer Singh has been trolled for the caption...  \n",
       "69407  Karnataka High Court Chief Justice SK Mukherje...  \n",
       "96392  The Delhi Police on Monday recorded the statem...  \n",
       "11570  Recording his statement in defamation suit fil...  \n",
       "41299  ISRO on Sunday confirmed it has lost contact w...  \n",
       "50624  Rajagopalan Vasudevan, dubbed 'plastic road-ma...  "
      ]
     },
     "execution_count": 4,
     "metadata": {},
     "output_type": "execute_result"
    }
   ],
   "source": [
    "import urllib.request\n",
    "urllib.request.urlretrieve(\"https://raw.githubusercontent.com/sunnysai12345/News_Summary/master/news_summary_more.csv\", filename=\"news_summary_more.csv\")\n",
    "data = pd.read_csv('news_summary_more.csv', encoding='iso-8859-1')\n",
    "\n",
    "data.sample(10)"
   ]
  },
  {
   "cell_type": "markdown",
   "id": "0fecfefd",
   "metadata": {},
   "source": [
    "---\n",
    "## Step 2. 데이터 전처리하기 (추상적 요약)\n",
    "---\n",
    "### 중복 샘플과 NULL 값 존재하는 샘플 제거"
   ]
  },
  {
   "cell_type": "code",
   "execution_count": 13,
   "id": "0310baa6",
   "metadata": {},
   "outputs": [
    {
     "name": "stdout",
     "output_type": "stream",
     "text": [
      "Text 열에서 중복을 배제한 유일한 샘플의 수 : 98360\n",
      "Summary 열에서 중복을 배제한 유일한 샘플의 수 : 98280\n"
     ]
    }
   ],
   "source": [
    "## 중복 샘플 유무 확인\n",
    "print('Text 열에서 중복을 배제한 유일한 샘플의 수 :', data['text'].nunique())\n",
    "print('Summary 열에서 중복을 배제한 유일한 샘플의 수 :', data['headlines'].nunique())"
   ]
  },
  {
   "cell_type": "code",
   "execution_count": 15,
   "id": "80b577b6",
   "metadata": {},
   "outputs": [
    {
     "name": "stdout",
     "output_type": "stream",
     "text": [
      "전체 샘플수 : 98360\n"
     ]
    },
    {
     "name": "stderr",
     "output_type": "stream",
     "text": [
      "/opt/conda/lib/python3.9/site-packages/pandas/util/_decorators.py:311: SettingWithCopyWarning: \n",
      "A value is trying to be set on a copy of a slice from a DataFrame\n",
      "\n",
      "See the caveats in the documentation: https://pandas.pydata.org/pandas-docs/stable/user_guide/indexing.html#returning-a-view-versus-a-copy\n",
      "  return func(*args, **kwargs)\n"
     ]
    }
   ],
   "source": [
    "# Text 자체가 중복이 된 경우는 중복 샘플이므로 제거\n",
    "# inplace=True 를 설정하면 DataFrame 타입 값을 return 하지 않고 data 내부를 직접적으로 바꿉니다\n",
    "data.drop_duplicates(subset = ['text'], inplace=True)\n",
    "print('전체 샘플수 :', (len(data)))"
   ]
  },
  {
   "cell_type": "code",
   "execution_count": 16,
   "id": "7fc005d7",
   "metadata": {},
   "outputs": [
    {
     "name": "stdout",
     "output_type": "stream",
     "text": [
      "text         0\n",
      "headlines    0\n",
      "dtype: int64\n"
     ]
    }
   ],
   "source": [
    "# 데이터프레임에 Null 값이 있는지 확인\n",
    "print(data.isnull().sum())"
   ]
  },
  {
   "cell_type": "code",
   "execution_count": 17,
   "id": "4b9319a9",
   "metadata": {},
   "outputs": [
    {
     "name": "stdout",
     "output_type": "stream",
     "text": [
      "전체 샘플수 : 98360\n"
     ]
    }
   ],
   "source": [
    "# 데이터프레임에 Null 값 제거\n",
    "data.dropna(axis=0, inplace=True)\n",
    "print('전체 샘플수 :', (len(data)))"
   ]
  },
  {
   "cell_type": "markdown",
   "id": "2c2a8cba",
   "metadata": {},
   "source": [
    "### 텍스트 정규화와 불용어 제거\n",
    "**데이터 정규화(text normalization)**  \n",
    "기계 학습 전에 미리 같은 표현을 통일시켜 연산량을 줄이는 방법"
   ]
  },
  {
   "cell_type": "code",
   "execution_count": 18,
   "id": "7072e69e",
   "metadata": {},
   "outputs": [
    {
     "name": "stdout",
     "output_type": "stream",
     "text": [
      "정규화 사전의 수:  120\n"
     ]
    }
   ],
   "source": [
    "# 정규화 사전\n",
    "contractions = {\"ain't\": \"is not\", \"aren't\": \"are not\",\"can't\": \"cannot\", \"'cause\": \"because\", \"could've\": \"could have\", \"couldn't\": \"could not\",\n",
    "                           \"didn't\": \"did not\",  \"doesn't\": \"does not\", \"don't\": \"do not\", \"hadn't\": \"had not\", \"hasn't\": \"has not\", \"haven't\": \"have not\",\n",
    "                           \"he'd\": \"he would\",\"he'll\": \"he will\", \"he's\": \"he is\", \"how'd\": \"how did\", \"how'd'y\": \"how do you\", \"how'll\": \"how will\", \"how's\": \"how is\",\n",
    "                           \"I'd\": \"I would\", \"I'd've\": \"I would have\", \"I'll\": \"I will\", \"I'll've\": \"I will have\",\"I'm\": \"I am\", \"I've\": \"I have\", \"i'd\": \"i would\",\n",
    "                           \"i'd've\": \"i would have\", \"i'll\": \"i will\",  \"i'll've\": \"i will have\",\"i'm\": \"i am\", \"i've\": \"i have\", \"isn't\": \"is not\", \"it'd\": \"it would\",\n",
    "                           \"it'd've\": \"it would have\", \"it'll\": \"it will\", \"it'll've\": \"it will have\",\"it's\": \"it is\", \"let's\": \"let us\", \"ma'am\": \"madam\",\n",
    "                           \"mayn't\": \"may not\", \"might've\": \"might have\",\"mightn't\": \"might not\",\"mightn't've\": \"might not have\", \"must've\": \"must have\",\n",
    "                           \"mustn't\": \"must not\", \"mustn't've\": \"must not have\", \"needn't\": \"need not\", \"needn't've\": \"need not have\",\"o'clock\": \"of the clock\",\n",
    "                           \"oughtn't\": \"ought not\", \"oughtn't've\": \"ought not have\", \"shan't\": \"shall not\", \"sha'n't\": \"shall not\", \"shan't've\": \"shall not have\",\n",
    "                           \"she'd\": \"she would\", \"she'd've\": \"she would have\", \"she'll\": \"she will\", \"she'll've\": \"she will have\", \"she's\": \"she is\",\n",
    "                           \"should've\": \"should have\", \"shouldn't\": \"should not\", \"shouldn't've\": \"should not have\", \"so've\": \"so have\",\"so's\": \"so as\",\n",
    "                           \"this's\": \"this is\",\"that'd\": \"that would\", \"that'd've\": \"that would have\", \"that's\": \"that is\", \"there'd\": \"there would\",\n",
    "                           \"there'd've\": \"there would have\", \"there's\": \"there is\", \"here's\": \"here is\",\"they'd\": \"they would\", \"they'd've\": \"they would have\",\n",
    "                           \"they'll\": \"they will\", \"they'll've\": \"they will have\", \"they're\": \"they are\", \"they've\": \"they have\", \"to've\": \"to have\",\n",
    "                           \"wasn't\": \"was not\", \"we'd\": \"we would\", \"we'd've\": \"we would have\", \"we'll\": \"we will\", \"we'll've\": \"we will have\", \"we're\": \"we are\",\n",
    "                           \"we've\": \"we have\", \"weren't\": \"were not\", \"what'll\": \"what will\", \"what'll've\": \"what will have\", \"what're\": \"what are\",\n",
    "                           \"what's\": \"what is\", \"what've\": \"what have\", \"when's\": \"when is\", \"when've\": \"when have\", \"where'd\": \"where did\", \"where's\": \"where is\",\n",
    "                           \"where've\": \"where have\", \"who'll\": \"who will\", \"who'll've\": \"who will have\", \"who's\": \"who is\", \"who've\": \"who have\",\n",
    "                           \"why's\": \"why is\", \"why've\": \"why have\", \"will've\": \"will have\", \"won't\": \"will not\", \"won't've\": \"will not have\",\n",
    "                           \"would've\": \"would have\", \"wouldn't\": \"would not\", \"wouldn't've\": \"would not have\", \"y'all\": \"you all\",\n",
    "                           \"y'all'd\": \"you all would\",\"y'all'd've\": \"you all would have\",\"y'all're\": \"you all are\",\"y'all've\": \"you all have\",\n",
    "                           \"you'd\": \"you would\", \"you'd've\": \"you would have\", \"you'll\": \"you will\", \"you'll've\": \"you will have\",\n",
    "                           \"you're\": \"you are\", \"you've\": \"you have\"}\n",
    "\n",
    "print(\"정규화 사전의 수: \", len(contractions))"
   ]
  },
  {
   "cell_type": "markdown",
   "id": "6d04da23",
   "metadata": {},
   "source": [
    "**불용어(stopwords)**  \n",
    "텍스트에는 자주 등장하지만 자연어 처리를 할 때 실질적으로 별 도움이 되지 않는 단어"
   ]
  },
  {
   "cell_type": "code",
   "execution_count": 19,
   "id": "daec2fb2",
   "metadata": {},
   "outputs": [
    {
     "name": "stdout",
     "output_type": "stream",
     "text": [
      "불용어 개수 : 179\n",
      "['i', 'me', 'my', 'myself', 'we', 'our', 'ours', 'ourselves', 'you', \"you're\", \"you've\", \"you'll\", \"you'd\", 'your', 'yours', 'yourself', 'yourselves', 'he', 'him', 'his', 'himself', 'she', \"she's\", 'her', 'hers', 'herself', 'it', \"it's\", 'its', 'itself', 'they', 'them', 'their', 'theirs', 'themselves', 'what', 'which', 'who', 'whom', 'this', 'that', \"that'll\", 'these', 'those', 'am', 'is', 'are', 'was', 'were', 'be', 'been', 'being', 'have', 'has', 'had', 'having', 'do', 'does', 'did', 'doing', 'a', 'an', 'the', 'and', 'but', 'if', 'or', 'because', 'as', 'until', 'while', 'of', 'at', 'by', 'for', 'with', 'about', 'against', 'between', 'into', 'through', 'during', 'before', 'after', 'above', 'below', 'to', 'from', 'up', 'down', 'in', 'out', 'on', 'off', 'over', 'under', 'again', 'further', 'then', 'once', 'here', 'there', 'when', 'where', 'why', 'how', 'all', 'any', 'both', 'each', 'few', 'more', 'most', 'other', 'some', 'such', 'no', 'nor', 'not', 'only', 'own', 'same', 'so', 'than', 'too', 'very', 's', 't', 'can', 'will', 'just', 'don', \"don't\", 'should', \"should've\", 'now', 'd', 'll', 'm', 'o', 're', 've', 'y', 'ain', 'aren', \"aren't\", 'couldn', \"couldn't\", 'didn', \"didn't\", 'doesn', \"doesn't\", 'hadn', \"hadn't\", 'hasn', \"hasn't\", 'haven', \"haven't\", 'isn', \"isn't\", 'ma', 'mightn', \"mightn't\", 'mustn', \"mustn't\", 'needn', \"needn't\", 'shan', \"shan't\", 'shouldn', \"shouldn't\", 'wasn', \"wasn't\", 'weren', \"weren't\", 'won', \"won't\", 'wouldn', \"wouldn't\"]\n"
     ]
    }
   ],
   "source": [
    "# NLTK에서 제공하는 불용어 리스트 : stopwords\n",
    "print('불용어 개수 :', len(stopwords.words('english') ))\n",
    "print(stopwords.words('english'))"
   ]
  },
  {
   "cell_type": "code",
   "execution_count": 20,
   "id": "c0f13ec6",
   "metadata": {},
   "outputs": [
    {
     "name": "stdout",
     "output_type": "stream",
     "text": [
      "text:  everything bought great infact ordered twice third ordered wasfor mother father\n",
      "summary: great way to start the day\n"
     ]
    }
   ],
   "source": [
    "# 데이터 전처리 함수\n",
    "def preprocess_sentence(sentence, remove_stopwords=True):\n",
    "    # 텍스트 소문자화\n",
    "    sentence = sentence.lower() \n",
    "    \n",
    "    # html 태그 제거\n",
    "    sentence = BeautifulSoup(sentence, \"lxml\").text \n",
    "    \n",
    "    # 특수 문자 제거 : 정규표현식    \n",
    "    sentence = re.sub(r'\\([^)]*\\)', '', sentence) # 괄호로 닫힌 문자열 (...) 제거 Ex) my husband (and myself!) for => my husband for\n",
    "    sentence = re.sub('\"','', sentence) # 쌍따옴표 \" 제거\n",
    "    sentence = ' '.join([contractions[t] if t in contractions else t for t in sentence.split(\" \")]) # 약어 정규화\n",
    "    sentence = re.sub(r\"'s\\b\",\"\", sentence) # 소유격 제거. Ex) roland's -> roland\n",
    "    sentence = re.sub(\"[^a-zA-Z]\", \" \", sentence) # 영어 외 문자(숫자, 특수문자 등) 공백으로 변환\n",
    "    sentence = re.sub('[m]{2,}', 'mm', sentence) # m이 3개 이상이면 2개로 변경. Ex) ummmmmmm yeah -> umm yeah\n",
    "    \n",
    "    # 불용어 제거 (Text)\n",
    "    if remove_stopwords:\n",
    "        tokens = ' '.join(word for word in sentence.split() if not word in stopwords.words('english') if len(word) > 1)\n",
    "    # 불용어 미제거 (Summary)\n",
    "    else:\n",
    "        tokens = ' '.join(word for word in sentence.split() if len(word) > 1)\n",
    "    return tokens\n",
    "\n",
    "# 데이터 전처리 함수 테스트\n",
    "temp_text = 'Everything I bought was great, infact I ordered twice and the third ordered was<br />for my mother and father.'  \n",
    "temp_summary = 'Great way to start (or finish) the day!!!'  \n",
    "\n",
    "print(\"text: \", preprocess_sentence(temp_text))\n",
    "print(\"summary:\", preprocess_sentence(temp_summary, False))  # 불용어를 제거하지 않습니다."
   ]
  },
  {
   "cell_type": "code",
   "execution_count": 21,
   "id": "17b49c22",
   "metadata": {},
   "outputs": [
    {
     "name": "stdout",
     "output_type": "stream",
     "text": [
      "Text 전처리 후 결과:  0    saurav kant alumnus upgrad iiit pg program mac...\n",
      "1    kunal shah credit card bill payment platform c...\n",
      "2    new zealand defeated india wickets fourth odi ...\n",
      "3    aegon life iterm insurance plan customers enjo...\n",
      "4    speaking sexual harassment allegations rajkuma...\n",
      "Name: text, dtype: object\n"
     ]
    }
   ],
   "source": [
    "# 전체 Text 데이터에 대한 전처리 : 10분 이상 시간이 걸릴 수 있습니다. \n",
    "clean_text = data['text'].apply(lambda x : preprocess_sentence(x))\n",
    "\n",
    "# 전처리 후 출력\n",
    "print(\"Text 전처리 후 결과: \", clean_text[:5])"
   ]
  },
  {
   "cell_type": "code",
   "execution_count": 23,
   "id": "a305106e",
   "metadata": {},
   "outputs": [
    {
     "name": "stdout",
     "output_type": "stream",
     "text": [
      "headlines 전처리 후 결과:  0    upgrad learner switches to career in ml al wit...\n",
      "1    delhi techie wins free food from swiggy for on...\n",
      "2    new zealand end rohit sharma led india match w...\n",
      "3    aegon life iterm insurance plan helps customer...\n",
      "4    have known hirani for yrs what if metoo claims...\n",
      "Name: headlines, dtype: object\n"
     ]
    }
   ],
   "source": [
    "# 전체 Summary 데이터에 대한 전처리 : 5분 이상 시간이 걸릴 수 있습니다. \n",
    "clean_summary = data['headlines'].apply(lambda x : preprocess_sentence(x, False))\n",
    "\n",
    "print(\"headlines 전처리 후 결과: \", clean_summary[:5])"
   ]
  },
  {
   "cell_type": "code",
   "execution_count": 24,
   "id": "f5d1c140",
   "metadata": {},
   "outputs": [
    {
     "name": "stdout",
     "output_type": "stream",
     "text": [
      "전체 샘플수 : 98360\n"
     ]
    }
   ],
   "source": [
    "# 전처리 데이터 적용\n",
    "data['text'] = clean_text\n",
    "data['headlines'] = clean_summary\n",
    "\n",
    "# 전처리 이후 빈 샘플 확인 및 제거\n",
    "\n",
    "# 빈 값을 Null 값으로 변환 \n",
    "data.replace('', np.nan, inplace=True)\n",
    "# NULL 값 확인\n",
    "data.isnull().sum()\n",
    "\n",
    "# 빈 샘플 제거\n",
    "data.dropna(axis=0, inplace=True)\n",
    "print('전체 샘플수 :', (len(data)))"
   ]
  },
  {
   "cell_type": "code",
   "execution_count": 25,
   "id": "966e7181",
   "metadata": {},
   "outputs": [],
   "source": [
    "# clean 데이터 임시 저장\n",
    "clean_data_path = os.getenv(\"HOME\")+\"/aiffel/news_summarization/data/ex12_clean.csv\"\n",
    "data.to_csv(clean_data_path, mode='w')"
   ]
  },
  {
   "cell_type": "code",
   "execution_count": 78,
   "id": "dff621b5",
   "metadata": {},
   "outputs": [],
   "source": [
    "# clean data load\n",
    "data = pd.read_csv(clean_data_path, nrows=100000)"
   ]
  },
  {
   "cell_type": "markdown",
   "id": "182375fb",
   "metadata": {},
   "source": [
    "### 샘플의 최대 길이 정하기\n",
    "- 최소, 최대, 평균 길이 확인\n",
    "- 길이 분포 시각화  \n",
    "- Text 및 Summery 최대 길이를 정하고 해당 길이 이하 데이터 제외 처리"
   ]
  },
  {
   "cell_type": "code",
   "execution_count": 79,
   "id": "a408ef95",
   "metadata": {},
   "outputs": [
    {
     "name": "stdout",
     "output_type": "stream",
     "text": [
      "텍스트의 최소 길이 : 1\n",
      "텍스트의 최대 길이 : 60\n",
      "텍스트의 평균 길이 : 35.09968483123221\n",
      "요약의 최소 길이 : 1\n",
      "요약의 최대 길이 : 16\n",
      "요약의 평균 길이 : 9.299532330215534\n"
     ]
    },
    {
     "data": {
      "image/png": "[encoded data removed]",
      "text/plain": [
       "<Figure size 432x288 with 2 Axes>"
      ]
     },
     "metadata": {
      "needs_background": "light"
     },
     "output_type": "display_data"
    },
    {
     "data": {
      "image/png": "[encoded data removed]",
      "text/plain": [
       "<Figure size 432x288 with 1 Axes>"
      ]
     },
     "metadata": {
      "needs_background": "light"
     },
     "output_type": "display_data"
    },
    {
     "data": {
      "image/png": "[encoded data removed]",
      "text/plain": [
       "<Figure size 432x288 with 1 Axes>"
      ]
     },
     "metadata": {
      "needs_background": "light"
     },
     "output_type": "display_data"
    }
   ],
   "source": [
    "# 길이 분포 출력\n",
    "text_len = [len(s.split()) for s in data['text']]\n",
    "summary_len = [len(s.split()) for s in data['headlines']]\n",
    "\n",
    "print('텍스트의 최소 길이 : {}'.format(np.min(text_len)))\n",
    "print('텍스트의 최대 길이 : {}'.format(np.max(text_len)))\n",
    "print('텍스트의 평균 길이 : {}'.format(np.mean(text_len)))\n",
    "print('요약의 최소 길이 : {}'.format(np.min(summary_len)))\n",
    "print('요약의 최대 길이 : {}'.format(np.max(summary_len)))\n",
    "print('요약의 평균 길이 : {}'.format(np.mean(summary_len)))\n",
    "\n",
    "plt.subplot(1,2,1)\n",
    "plt.boxplot(text_len)\n",
    "plt.title('text')\n",
    "plt.subplot(1,2,2)\n",
    "plt.boxplot(summary_len)\n",
    "plt.title('Summary')\n",
    "plt.tight_layout()\n",
    "plt.show()\n",
    "\n",
    "plt.title('Text')\n",
    "plt.hist(text_len, bins = 40)\n",
    "plt.xlabel('length of samples')\n",
    "plt.ylabel('number of samples')\n",
    "plt.show()\n",
    "\n",
    "plt.title('headlines')\n",
    "plt.hist(summary_len, bins = 40)\n",
    "plt.xlabel('length of samples')\n",
    "plt.ylabel('number of samples')\n",
    "plt.show()"
   ]
  },
  {
   "cell_type": "markdown",
   "id": "41110e14",
   "metadata": {},
   "source": [
    "위에서부터 차례대로 \n",
    "- 실제 텍스트와 요약의 길이 분포 그래프\n",
    "- 실제 텍스트 샘플 길이별 개수 그래프\n",
    "- 요약본 샘플 길이별 개수 그래프\n",
    "\n",
    "이로부터 Text의 최대 길이와 Summary의 적절한 최대 길이를 임의로 정하기"
   ]
  },
  {
   "cell_type": "code",
   "execution_count": 80,
   "id": "ec11a702",
   "metadata": {},
   "outputs": [
    {
     "name": "stdout",
     "output_type": "stream",
     "text": [
      "전체 샘플 중 길이가 40 이하인 샘플의 비율: 0.9238714924766165\n",
      "전체 샘플 중 길이가 10 이하인 샘플의 비율: 0.8162972753151687\n"
     ]
    }
   ],
   "source": [
    "text_max_len = 40\n",
    "summary_max_len = 10\n",
    "\n",
    "# 훈련 데이터와 샘플의 길이를 입력하면, 데이터의 몇 %가 해당하는지 계산하는 함수\n",
    "def below_threshold_len(max_len, nested_list):\n",
    "  cnt = 0\n",
    "  for s in nested_list:\n",
    "    if(len(s.split()) <= max_len):\n",
    "        cnt = cnt + 1\n",
    "  print('전체 샘플 중 길이가 %s 이하인 샘플의 비율: %s'%(max_len, (cnt / len(nested_list))))\n",
    "\n",
    "below_threshold_len(text_max_len, data['text'])\n",
    "below_threshold_len(summary_max_len,  data['headlines'])"
   ]
  },
  {
   "cell_type": "code",
   "execution_count": 81,
   "id": "97ef9244",
   "metadata": {},
   "outputs": [
    {
     "name": "stdout",
     "output_type": "stream",
     "text": [
      "전체 샘플수 : 74102\n"
     ]
    }
   ],
   "source": [
    "# data 데이터프레임을 임의로 정의한 text_max_len과 summary_max_len의 길이보다 큰 샘플을 제외 처리\n",
    "data = data[data['text'].apply(lambda x: len(x.split()) <= text_max_len) &\n",
    "         data['headlines'].apply(lambda x: len(x.split()) <= summary_max_len)]\n",
    "\n",
    "print('전체 샘플수 :', (len(data)))"
   ]
  },
  {
   "cell_type": "markdown",
   "id": "df68419c",
   "metadata": {},
   "source": [
    "### 시작 토큰과 종료 토큰 추가하기\n",
    "- 시작토큰: 'sostoken'\n",
    "- 종료토큰: 'eostoken'"
   ]
  },
  {
   "cell_type": "code",
   "execution_count": 82,
   "id": "0e66ab33",
   "metadata": {},
   "outputs": [
    {
     "data": {
      "text/html": [
       "<div>\n",
       "<style scoped>\n",
       "    .dataframe tbody tr th:only-of-type {\n",
       "        vertical-align: middle;\n",
       "    }\n",
       "\n",
       "    .dataframe tbody tr th {\n",
       "        vertical-align: top;\n",
       "    }\n",
       "\n",
       "    .dataframe thead th {\n",
       "        text-align: right;\n",
       "    }\n",
       "</style>\n",
       "<table border=\"1\" class=\"dataframe\">\n",
       "  <thead>\n",
       "    <tr style=\"text-align: right;\">\n",
       "      <th></th>\n",
       "      <th>Unnamed: 0</th>\n",
       "      <th>text</th>\n",
       "      <th>headlines</th>\n",
       "      <th>decoder_input</th>\n",
       "      <th>decoder_target</th>\n",
       "    </tr>\n",
       "  </thead>\n",
       "  <tbody>\n",
       "    <tr>\n",
       "      <th>2</th>\n",
       "      <td>2</td>\n",
       "      <td>new zealand defeated india wickets fourth odi ...</td>\n",
       "      <td>new zealand end rohit sharma led india match w...</td>\n",
       "      <td>sostoken new zealand end rohit sharma led indi...</td>\n",
       "      <td>new zealand end rohit sharma led india match w...</td>\n",
       "    </tr>\n",
       "    <tr>\n",
       "      <th>3</th>\n",
       "      <td>3</td>\n",
       "      <td>aegon life iterm insurance plan customers enjo...</td>\n",
       "      <td>aegon life iterm insurance plan helps customer...</td>\n",
       "      <td>sostoken aegon life iterm insurance plan helps...</td>\n",
       "      <td>aegon life iterm insurance plan helps customer...</td>\n",
       "    </tr>\n",
       "    <tr>\n",
       "      <th>5</th>\n",
       "      <td>5</td>\n",
       "      <td>pakistani singer rahat fateh ali khan denied r...</td>\n",
       "      <td>rahat fateh ali khan denies getting notice for...</td>\n",
       "      <td>sostoken rahat fateh ali khan denies getting n...</td>\n",
       "      <td>rahat fateh ali khan denies getting notice for...</td>\n",
       "    </tr>\n",
       "    <tr>\n",
       "      <th>9</th>\n",
       "      <td>9</td>\n",
       "      <td>congress candidate shafia zubair ramgarh assem...</td>\n",
       "      <td>cong wins ramgarh bypoll in rajasthan takes to...</td>\n",
       "      <td>sostoken cong wins ramgarh bypoll in rajasthan...</td>\n",
       "      <td>cong wins ramgarh bypoll in rajasthan takes to...</td>\n",
       "    </tr>\n",
       "    <tr>\n",
       "      <th>10</th>\n",
       "      <td>10</td>\n",
       "      <td>two minor cousins uttar pradesh gorakhpur alle...</td>\n",
       "      <td>up cousins fed human excreta for friendship wi...</td>\n",
       "      <td>sostoken up cousins fed human excreta for frie...</td>\n",
       "      <td>up cousins fed human excreta for friendship wi...</td>\n",
       "    </tr>\n",
       "  </tbody>\n",
       "</table>\n",
       "</div>"
      ],
      "text/plain": [
       "    Unnamed: 0                                               text  \\\n",
       "2            2  new zealand defeated india wickets fourth odi ...   \n",
       "3            3  aegon life iterm insurance plan customers enjo...   \n",
       "5            5  pakistani singer rahat fateh ali khan denied r...   \n",
       "9            9  congress candidate shafia zubair ramgarh assem...   \n",
       "10          10  two minor cousins uttar pradesh gorakhpur alle...   \n",
       "\n",
       "                                            headlines  \\\n",
       "2   new zealand end rohit sharma led india match w...   \n",
       "3   aegon life iterm insurance plan helps customer...   \n",
       "5   rahat fateh ali khan denies getting notice for...   \n",
       "9   cong wins ramgarh bypoll in rajasthan takes to...   \n",
       "10  up cousins fed human excreta for friendship wi...   \n",
       "\n",
       "                                        decoder_input  \\\n",
       "2   sostoken new zealand end rohit sharma led indi...   \n",
       "3   sostoken aegon life iterm insurance plan helps...   \n",
       "5   sostoken rahat fateh ali khan denies getting n...   \n",
       "9   sostoken cong wins ramgarh bypoll in rajasthan...   \n",
       "10  sostoken up cousins fed human excreta for frie...   \n",
       "\n",
       "                                       decoder_target  \n",
       "2   new zealand end rohit sharma led india match w...  \n",
       "3   aegon life iterm insurance plan helps customer...  \n",
       "5   rahat fateh ali khan denies getting notice for...  \n",
       "9   cong wins ramgarh bypoll in rajasthan takes to...  \n",
       "10  up cousins fed human excreta for friendship wi...  "
      ]
     },
     "execution_count": 82,
     "metadata": {},
     "output_type": "execute_result"
    }
   ],
   "source": [
    "# headlines 데이터에는 시작 토큰과 종료 토큰을 추가\n",
    "\n",
    "# decoder_input 컬럼 추가 - headlines 시작 토큰 추가 문장\n",
    "data['decoder_input'] = data['headlines'].apply(lambda x : 'sostoken '+ x)\n",
    "# decoder_target 컬럼 추가 - Summary에 종료 토큰 추가 문장\n",
    "data['decoder_target'] = data['headlines'].apply(lambda x : x + ' eostoken')\n",
    "data.head()"
   ]
  },
  {
   "cell_type": "markdown",
   "id": "73e18d15",
   "metadata": {},
   "source": [
    "### 훈련 데이터 / 테스트 데이터 분리\n",
    "- 분리코드 직접 구현하기"
   ]
  },
  {
   "cell_type": "code",
   "execution_count": 83,
   "id": "24012401",
   "metadata": {},
   "outputs": [
    {
     "name": "stdout",
     "output_type": "stream",
     "text": [
      "[46050 14617 50237 ... 51510 28439 16522]\n"
     ]
    }
   ],
   "source": [
    "# 인코더의 입력, 디코더의 입력과 레이블 저장\n",
    "encoder_input = np.array(data['text']) # 인코더의 입력\n",
    "decoder_input = np.array(data['decoder_input']) # 디코더의 입력\n",
    "decoder_target = np.array(data['decoder_target']) # 디코더의 레이블\n",
    "\n",
    "# encoder_input과 크기와 형태가 같고, 순서가 섞인 정수 시퀀스를 생성\n",
    "indices = np.arange(encoder_input.shape[0])\n",
    "np.random.shuffle(indices)\n",
    "print(indices)"
   ]
  },
  {
   "cell_type": "code",
   "execution_count": 84,
   "id": "8dda5607",
   "metadata": {},
   "outputs": [],
   "source": [
    "# 순서가 섞인 정수 시퀀스를 이용해 다시 데이터의 샘플 순서를 정의\n",
    "encoder_input = encoder_input[indices]\n",
    "decoder_input = decoder_input[indices]\n",
    "decoder_target = decoder_target[indices]"
   ]
  },
  {
   "cell_type": "code",
   "execution_count": 85,
   "id": "965ab6c8",
   "metadata": {},
   "outputs": [
    {
     "name": "stdout",
     "output_type": "stream",
     "text": [
      "훈련 데이터의 개수 : 59282\n",
      "훈련 레이블의 개수 : 59282\n",
      "테스트 데이터의 개수 : 14820\n",
      "테스트 레이블의 개수 : 14820\n"
     ]
    }
   ],
   "source": [
    "#8:2의 비율로 훈련 데이터와 테스트 데이터로 분리\n",
    "n_of_val = int(len(encoder_input)*0.2) # 테스트 데이터 갯수\n",
    "\n",
    "encoder_input_train = encoder_input[:-n_of_val]\n",
    "decoder_input_train = decoder_input[:-n_of_val]\n",
    "decoder_target_train = decoder_target[:-n_of_val]\n",
    "\n",
    "encoder_input_test = encoder_input[-n_of_val:]\n",
    "decoder_input_test = decoder_input[-n_of_val:]\n",
    "decoder_target_test = decoder_target[-n_of_val:]\n",
    "\n",
    "print('훈련 데이터의 개수 :', len(encoder_input_train))\n",
    "print('훈련 레이블의 개수 :', len(decoder_input_train))\n",
    "print('테스트 데이터의 개수 :', len(encoder_input_test))\n",
    "print('테스트 레이블의 개수 :', len(decoder_input_test))"
   ]
  },
  {
   "cell_type": "markdown",
   "id": "443d3792",
   "metadata": {},
   "source": [
    "### 정수 인코딩\n",
    "기계가 텍스트를 숫자로 처리할 수 있도록 훈련 데이터와 테스트 데이터의 단어들을 모두 정수로 변환  \n",
    "**단어 집합(vocabulary)** 만들기\n",
    "- 각 단어에 고유한 정수를 매핑하는 작업"
   ]
  },
  {
   "cell_type": "code",
   "execution_count": 86,
   "id": "1b371a40",
   "metadata": {},
   "outputs": [],
   "source": [
    "# Keras의 토크나이저를 사용\n",
    "src_tokenizer = Tokenizer()\n",
    "\n",
    "# 입력된 데이터로부터 단어 집합 생성 >> src_tokenizer.word_index에 저장됨\n",
    "src_tokenizer.fit_on_texts(encoder_input_train) "
   ]
  },
  {
   "cell_type": "markdown",
   "id": "a5702794",
   "metadata": {},
   "source": [
    "#### 빈도수가 낮은 단어들은 훈련 데이터에서 제외 처리  \n",
    "- 등장 빈도수(threshold)가 7회 미만인 단어들의 비중 확인"
   ]
  },
  {
   "cell_type": "code",
   "execution_count": 87,
   "id": "ce0c75be",
   "metadata": {},
   "outputs": [
    {
     "name": "stdout",
     "output_type": "stream",
     "text": [
      "단어 집합(vocabulary)의 크기 : 61662\n",
      "등장 빈도가 6번 이하인 희귀 단어의 수: 42385\n",
      "단어 집합에서 희귀 단어를 제외시킬 경우의 단어 집합의 크기 19277\n",
      "단어 집합에서 희귀 단어의 비율: 68.73763419934481\n",
      "전체 등장 빈도에서 희귀 단어 등장 빈도 비율: 4.191610048117637\n"
     ]
    }
   ],
   "source": [
    "threshold = 7\n",
    "total_cnt = len(src_tokenizer.word_index) # 단어의 수\n",
    "rare_cnt = 0 # 등장 빈도수가 threshold보다 작은 단어의 개수를 카운트\n",
    "total_freq = 0 # 훈련 데이터의 전체 단어 빈도수 총 합\n",
    "rare_freq = 0 # 등장 빈도수가 threshold보다 작은 단어의 등장 빈도수의 총 합\n",
    "\n",
    "# 단어와 빈도수의 쌍(pair)을 key와 value로 받는다.\n",
    "for key, value in src_tokenizer.word_counts.items():\n",
    "    total_freq = total_freq + value\n",
    "\n",
    "    # 단어의 등장 빈도수가 threshold보다 작으면\n",
    "    if(value < threshold):\n",
    "        rare_cnt = rare_cnt + 1\n",
    "        rare_freq = rare_freq + value\n",
    "\n",
    "print('단어 집합(vocabulary)의 크기 :', total_cnt)\n",
    "print('등장 빈도가 %s번 이하인 희귀 단어의 수: %s'%(threshold - 1, rare_cnt))\n",
    "print('단어 집합에서 희귀 단어를 제외시킬 경우의 단어 집합의 크기 %s'%(total_cnt - rare_cnt))\n",
    "print(\"단어 집합에서 희귀 단어의 비율:\", (rare_cnt / total_cnt)*100)\n",
    "print(\"전체 등장 빈도에서 희귀 단어 등장 빈도 비율:\", (rare_freq / total_freq)*100)"
   ]
  },
  {
   "cell_type": "markdown",
   "id": "b693b543",
   "metadata": {},
   "source": [
    "- 등장 빈도가 6회 이하인 단어들은 정수 인코딩 과정에서 빼고, 훈련 데이터에서 제거  \n",
    "- 단어 집합의 크기를 8,000으로 제한(num_words)하여 토크나이저를 정의\n",
    "- 8,000이 넘는 숫자들은 정수 인코딩 후에는 데이터에 존재하지 않는다"
   ]
  },
  {
   "cell_type": "code",
   "execution_count": 88,
   "id": "27c03b33",
   "metadata": {},
   "outputs": [
    {
     "name": "stdout",
     "output_type": "stream",
     "text": [
      "[[66, 1551, 4612, 5, 998, 1602, 830, 5449, 392, 5208, 4392, 763, 398, 90, 76, 2224, 998, 3863, 115, 1432, 142, 1492, 348, 497, 1409, 442, 5208, 1901, 2224, 14346, 9300, 998, 16865], [79, 649, 2548, 6076, 6757, 2364, 3239, 3211, 50, 4157, 98, 3, 288, 3413, 4799, 17952, 2548, 3331, 2857, 15053, 640, 3211, 380, 508, 1178, 3332, 10030, 288, 14347, 615, 4], [1370, 152, 2026, 3671, 3637, 748, 5914, 450, 8099, 58, 315, 23, 28, 13, 1868, 142, 968, 8099, 8643, 10294, 11348, 168, 8848, 15920, 5020, 13164, 4613, 723, 5755, 212, 1105, 2333, 8099, 170, 451]]\n"
     ]
    }
   ],
   "source": [
    "src_vocab = 20000\n",
    "src_tokenizer = Tokenizer(num_words=src_vocab) # 단어 집합의 크기를 20,000으로 제한\n",
    "src_tokenizer.fit_on_texts(encoder_input_train) # 단어 집합 재생성\n",
    "\n",
    "# 텍스트 시퀀스를 정수 시퀀스로 변환\n",
    "encoder_input_train = src_tokenizer.texts_to_sequences(encoder_input_train) \n",
    "encoder_input_test = src_tokenizer.texts_to_sequences(encoder_input_test)\n",
    "\n",
    "# 잘 진행되었는지 샘플 출력\n",
    "print(encoder_input_train[:3])"
   ]
  },
  {
   "cell_type": "markdown",
   "id": "ded9dbcd",
   "metadata": {},
   "source": [
    "#### Summary 데이터에 대해서도 동일한 작업을 수행"
   ]
  },
  {
   "cell_type": "code",
   "execution_count": 89,
   "id": "26a3e34a",
   "metadata": {},
   "outputs": [
    {
     "name": "stdout",
     "output_type": "stream",
     "text": [
      "단어 집합(vocabulary)의 크기 : 27273\n",
      "등장 빈도가 4번 이하인 희귀 단어의 수: 17125\n",
      "단어 집합에서 희귀 단어를 제외시킬 경우의 단어 집합의 크기 10148\n",
      "단어 집합에서 희귀 단어의 비율: 62.79103875627911\n",
      "전체 등장 빈도에서 희귀 단어 등장 빈도 비율: 5.0346474236289085\n"
     ]
    }
   ],
   "source": [
    "\n",
    "tar_tokenizer = Tokenizer()\n",
    "tar_tokenizer.fit_on_texts(decoder_input_train)\n",
    "\n",
    "threshold = 5\n",
    "total_cnt = len(tar_tokenizer.word_index) # 단어의 수\n",
    "rare_cnt = 0 # 등장 빈도수가 threshold보다 작은 단어의 개수를 카운트\n",
    "total_freq = 0 # 훈련 데이터의 전체 단어 빈도수 총 합\n",
    "rare_freq = 0 # 등장 빈도수가 threshold보다 작은 단어의 등장 빈도수의 총 합\n",
    "\n",
    "# 단어와 빈도수의 쌍(pair)을 key와 value로 받는다.\n",
    "for key, value in tar_tokenizer.word_counts.items():\n",
    "    total_freq = total_freq + value\n",
    "\n",
    "    # 단어의 등장 빈도수가 threshold보다 작으면\n",
    "    if(value < threshold):\n",
    "        rare_cnt = rare_cnt + 1\n",
    "        rare_freq = rare_freq + value\n",
    "\n",
    "print('단어 집합(vocabulary)의 크기 :', total_cnt)\n",
    "print('등장 빈도가 %s번 이하인 희귀 단어의 수: %s'%(threshold - 1, rare_cnt))\n",
    "print('단어 집합에서 희귀 단어를 제외시킬 경우의 단어 집합의 크기 %s'%(total_cnt - rare_cnt))\n",
    "print(\"단어 집합에서 희귀 단어의 비율:\", (rare_cnt / total_cnt)*100)\n",
    "print(\"전체 등장 빈도에서 희귀 단어 등장 빈도 비율:\", (rare_freq / total_freq)*100)"
   ]
  },
  {
   "cell_type": "code",
   "execution_count": 90,
   "id": "86c187ee",
   "metadata": {},
   "outputs": [
    {
     "name": "stdout",
     "output_type": "stream",
     "text": [
      "input\n",
      "input  [[1, 64, 433, 14, 1669, 52, 1897, 4, 2956], [1, 9, 515, 5412, 3332, 7, 2060, 3045], [1, 400, 6, 1646, 1927, 3975, 4898, 1020, 204], [1, 999, 104, 2153, 4, 23, 3224, 389, 1526, 452, 57], [1, 14, 143, 2957, 5, 102, 460, 102, 107]]\n",
      "target\n",
      "decoder  [[64, 433, 14, 1669, 52, 1897, 4, 2956, 2], [9, 515, 5412, 3332, 7, 2060, 3045, 2], [400, 6, 1646, 1927, 3975, 4898, 1020, 204, 2], [999, 104, 2153, 4, 23, 3224, 389, 1526, 452, 57, 2], [14, 143, 2957, 5, 102, 460, 102, 107, 2]]\n"
     ]
    }
   ],
   "source": [
    "tar_vocab = 10100\n",
    "tar_tokenizer = Tokenizer(num_words=tar_vocab) \n",
    "tar_tokenizer.fit_on_texts(decoder_input_train)\n",
    "tar_tokenizer.fit_on_texts(decoder_target_train)\n",
    "\n",
    "# 텍스트 시퀀스를 정수 시퀀스로 변환\n",
    "decoder_input_train = tar_tokenizer.texts_to_sequences(decoder_input_train) \n",
    "decoder_target_train = tar_tokenizer.texts_to_sequences(decoder_target_train)\n",
    "decoder_input_test = tar_tokenizer.texts_to_sequences(decoder_input_test)\n",
    "decoder_target_test = tar_tokenizer.texts_to_sequences(decoder_target_test)\n",
    "\n",
    "# 잘 변환되었는지 확인\n",
    "print('input')\n",
    "print('input ',decoder_input_train[:5])\n",
    "print('target')\n",
    "print('decoder ',decoder_target_train[:5])"
   ]
  },
  {
   "cell_type": "markdown",
   "id": "4e096b0b",
   "metadata": {},
   "source": [
    "####  패딩 하기로 넘어가기 전에 한 가지 점검\n",
    "빈도수가 낮은 단어만으로 구성되었던 샘플들이 이제 빈(empty) 샘플이 되었을 가능성 \n",
    "- Summary의 경우에는 이 현상이 굉장히 두드러졌을 가능성이 높다\n",
    "- 시작/종료 토큰은 모든 샘플에서 등장하므로 빈도수가 샘플 수와 동일하게 매우 높아 단어 집합 제한에도 삭제되지 않음\n",
    "- 길이 0이 된 decoder_input에는 sostoken, decoder_target에는 eostoken만 남아  길이가 0이 된 요약문의 실제 길이는 1\n",
    "\n",
    "훈련 데이터와 테스트 데이터에 대해서 요약문의 길이가 1인 경우의 인덱스를 각각 drop_train과 drop_test에 라는 변수에 저장하기"
   ]
  },
  {
   "cell_type": "code",
   "execution_count": 91,
   "id": "3d37d92a",
   "metadata": {},
   "outputs": [
    {
     "name": "stdout",
     "output_type": "stream",
     "text": [
      "삭제할 훈련 데이터의 개수 : 0\n",
      "삭제할 테스트 데이터의 개수 : 0\n",
      "훈련 데이터의 개수 : 59282\n",
      "훈련 레이블의 개수 : 59282\n",
      "테스트 데이터의 개수 : 14820\n",
      "테스트 레이블의 개수 : 14820\n"
     ]
    }
   ],
   "source": [
    "drop_train = [index for index, sentence in enumerate(decoder_input_train) if len(sentence) == 1]\n",
    "drop_test = [index for index, sentence in enumerate(decoder_input_test) if len(sentence) == 1]\n",
    "\n",
    "print('삭제할 훈련 데이터의 개수 :', len(drop_train))\n",
    "print('삭제할 테스트 데이터의 개수 :', len(drop_test))\n",
    "\n",
    "encoder_input_train = [sentence for index, sentence in enumerate(encoder_input_train) if index not in drop_train]\n",
    "decoder_input_train = [sentence for index, sentence in enumerate(decoder_input_train) if index not in drop_train]\n",
    "decoder_target_train = [sentence for index, sentence in enumerate(decoder_target_train) if index not in drop_train]\n",
    "\n",
    "encoder_input_test = [sentence for index, sentence in enumerate(encoder_input_test) if index not in drop_test]\n",
    "decoder_input_test = [sentence for index, sentence in enumerate(decoder_input_test) if index not in drop_test]\n",
    "decoder_target_test = [sentence for index, sentence in enumerate(decoder_target_test) if index not in drop_test]\n",
    "\n",
    "print('훈련 데이터의 개수 :', len(encoder_input_train))\n",
    "print('훈련 레이블의 개수 :', len(decoder_input_train))\n",
    "print('테스트 데이터의 개수 :', len(encoder_input_test))\n",
    "print('테스트 레이블의 개수 :', len(decoder_input_test))"
   ]
  },
  {
   "cell_type": "markdown",
   "id": "00de5609",
   "metadata": {},
   "source": [
    "### 패딩하기\n",
    "서로 다른 길이의 샘플들을 병렬 처리하기 위해 같은 길이로 맞춰주는 작업  \n",
    "- 아까 정해두었던 최대 길이로 패딩\n",
    "- 최대 길이보다 짧은 데이터들은 뒤의 공간에(post) 숫자 0을 넣어 최대 길이로 길이를 맞춘다"
   ]
  },
  {
   "cell_type": "code",
   "execution_count": 92,
   "id": "abaca81a",
   "metadata": {},
   "outputs": [],
   "source": [
    "encoder_input_train = pad_sequences(encoder_input_train, maxlen=text_max_len, padding='post')\n",
    "encoder_input_test = pad_sequences(encoder_input_test, maxlen=text_max_len, padding='post')\n",
    "decoder_input_train = pad_sequences(decoder_input_train, maxlen=summary_max_len, padding='post')\n",
    "decoder_target_train = pad_sequences(decoder_target_train, maxlen=summary_max_len, padding='post')\n",
    "decoder_input_test = pad_sequences(decoder_input_test, maxlen=summary_max_len, padding='post')\n",
    "decoder_target_test = pad_sequences(decoder_target_test, maxlen=summary_max_len, padding='post')"
   ]
  },
  {
   "cell_type": "markdown",
   "id": "44b91873",
   "metadata": {},
   "source": [
    "---\n",
    "## 모델 설계하기\n",
    "---\n",
    "### 함수형 API를 이용해서 인코더를 설계 : LSTM"
   ]
  },
  {
   "cell_type": "code",
   "execution_count": 93,
   "id": "49caf1f7",
   "metadata": {},
   "outputs": [],
   "source": [
    "from tensorflow.keras.layers import Input, LSTM, Embedding, Dense, Concatenate, TimeDistributed\n",
    "from tensorflow.keras.models import Model\n",
    "from tensorflow.keras.callbacks import EarlyStopping, ModelCheckpoint\n",
    "\n",
    "# 인코더 설계 시작\n",
    "embedding_dim = 128 # 임베딩 벡터의 차원\n",
    "hidden_size = 256 # LSTM 수용력(capacity) 설정\n",
    "\n",
    "# 인코더\n",
    "encoder_inputs = Input(shape=(text_max_len,))\n",
    "\n",
    "# 인코더의 임베딩 층\n",
    "enc_emb = Embedding(src_vocab, embedding_dim)(encoder_inputs)\n",
    "\n",
    "# 인코더의 LSTM 1\n",
    "# encoder_lstm1 = LSTM(hidden_size, return_sequences=True, return_state=True ,dropout = 0.4, recurrent_dropout = 0.4)\n",
    "encoder_lstm1 = LSTM(hidden_size, return_sequences=True, return_state=True ,dropout = 0.4)\n",
    "encoder_output1, state_h1, state_c1 = encoder_lstm1(enc_emb)\n",
    "\n",
    "# 인코더의 LSTM 2\n",
    "encoder_lstm2 = LSTM(hidden_size, return_sequences=True, return_state=True ,dropout = 0.4)\n",
    "encoder_output2, state_h2, state_c2 = encoder_lstm2(encoder_output1)\n",
    "\n",
    "# 인코더의 LSTM 3\n",
    "\n",
    "encoder_lstm3 = LSTM(hidden_size, return_sequences=True, return_state=True ,dropout = 0.4)\n",
    "encoder_outputs, state_h, state_c = encoder_lstm3(encoder_output2)"
   ]
  },
  {
   "attachments": {
    "image.png": {
     "image/png": "[encoded data removed]"
    }
   },
   "cell_type": "markdown",
   "id": "658eabd1",
   "metadata": {},
   "source": [
    "**embedding_dim** : 임베딩 벡터 차원  \n",
    "**hidden_size** : LSTM에서 얼만큼의 수용력(capacity)를 가질지를 정하는 파라미터\n",
    "- LSTM의 용량의 크기나, LSTM에서의 뉴런의 개수\n",
    "- 무조건 용량을 많이 준다고 해서 성능이 반드시 올라가는 것은 아니다\n",
    "\n",
    "인코더의 LSTM은 총 3개의 층으로 구성\n",
    "- hidden state의 크기를 늘리는 것이 LSTM 층 1개의 용량을 늘린다면\n",
    "- 3개의 층을 사용하는 것은 모델의 용량을 늘린다고 볼 수 있다\n",
    "\n",
    "LSTM은 dropout 뿐 아니라 recurrent dropout까지 사용 가능   \n",
    "\n",
    "**일반적인 dropout**  \n",
    "- 레이어의 weight를 랜덤으로 생략하여 모델의 과적합(overfitting)을 해결해주는 방법  \n",
    "\n",
    "**recurrent dropout**  \n",
    "- dropout을 레이어가 아닌 time step마다 해주는 방식\n",
    "- ime step의 입력을 랜덤으로 생략해 준다\n",
    "- 일반적인 dropout와 같이 regularization을 해주는 효과가 있고, 과적합을 방지할 수 있다  \n",
    "\n",
    "**Variational Dropout**  \n",
    "dropout과 recurrent dropout을 모두 사용한 것  \n",
    "![image.png](attachment:image.png)\n",
    "\n",
    "---\n",
    "### 디코더 설계"
   ]
  },
  {
   "cell_type": "code",
   "execution_count": 94,
   "id": "8a4344a9",
   "metadata": {},
   "outputs": [],
   "source": [
    "# 디코더 설계\n",
    "decoder_inputs = Input(shape=(None,))\n",
    "\n",
    "# 디코더의 임베딩 층\n",
    "dec_emb_layer = Embedding(tar_vocab, embedding_dim)\n",
    "dec_emb = dec_emb_layer(decoder_inputs)\n",
    "\n",
    "# 디코더의 LSTM\n",
    "# decoder_lstm = LSTM(hidden_size, return_sequences=True, return_state=True, dropout=0.4, recurrent_dropout=0.2)\n",
    "decoder_lstm = LSTM(hidden_size, return_sequences=True, return_state=True, dropout=0.4)\n",
    "decoder_outputs, _, _ = decoder_lstm(dec_emb, initial_state=[state_h, state_c])"
   ]
  },
  {
   "cell_type": "markdown",
   "id": "b62431d5",
   "metadata": {},
   "source": [
    "디코더의 임베딩 층과 LSTM을 설계하는 것은 인코더와 거의 동일하다  \n",
    "- LSTM의 입력을 정의할 때 initial_state의 인자값 : 인코더의 hidden state와 cell state의 값\n",
    "\n",
    "#### 디코더의 출력층 설계"
   ]
  },
  {
   "cell_type": "code",
   "execution_count": 95,
   "id": "f6e152bd",
   "metadata": {},
   "outputs": [
    {
     "name": "stdout",
     "output_type": "stream",
     "text": [
      "Model: \"model_2\"\n",
      "__________________________________________________________________________________________________\n",
      "Layer (type)                    Output Shape         Param #     Connected to                     \n",
      "==================================================================================================\n",
      "input_3 (InputLayer)            [(None, 40)]         0                                            \n",
      "__________________________________________________________________________________________________\n",
      "embedding_2 (Embedding)         (None, 40, 128)      2560000     input_3[0][0]                    \n",
      "__________________________________________________________________________________________________\n",
      "lstm_4 (LSTM)                   [(None, 40, 256), (N 394240      embedding_2[0][0]                \n",
      "__________________________________________________________________________________________________\n",
      "input_4 (InputLayer)            [(None, None)]       0                                            \n",
      "__________________________________________________________________________________________________\n",
      "lstm_5 (LSTM)                   [(None, 40, 256), (N 525312      lstm_4[0][0]                     \n",
      "__________________________________________________________________________________________________\n",
      "embedding_3 (Embedding)         (None, None, 128)    1292800     input_4[0][0]                    \n",
      "__________________________________________________________________________________________________\n",
      "lstm_6 (LSTM)                   [(None, 40, 256), (N 525312      lstm_5[0][0]                     \n",
      "__________________________________________________________________________________________________\n",
      "lstm_7 (LSTM)                   [(None, None, 256),  394240      embedding_3[0][0]                \n",
      "                                                                 lstm_6[0][1]                     \n",
      "                                                                 lstm_6[0][2]                     \n",
      "__________________________________________________________________________________________________\n",
      "dense_2 (Dense)                 (None, None, 10100)  2595700     lstm_7[0][0]                     \n",
      "==================================================================================================\n",
      "Total params: 8,287,604\n",
      "Trainable params: 8,287,604\n",
      "Non-trainable params: 0\n",
      "__________________________________________________________________________________________________\n"
     ]
    }
   ],
   "source": [
    "# 디코더의 출력층\n",
    "decoder_softmax_layer = Dense(tar_vocab, activation='softmax')\n",
    "decoder_softmax_outputs = decoder_softmax_layer(decoder_outputs) \n",
    "\n",
    "# 모델 정의\n",
    "model = Model([encoder_inputs, decoder_inputs], decoder_softmax_outputs)\n",
    "model.summary()"
   ]
  },
  {
   "cell_type": "markdown",
   "id": "ba342ef9",
   "metadata": {},
   "source": [
    "디코더의 출력층 - 다중 클래스 분류 문제를 풀어야 한다\n",
    "- Summary의 단어장인 tar_vocab의 수많은 선택지 중 하나의 단어를 선택\n",
    "- Dense의 인자 : tar_vocab\n",
    "- 활성화 함수 : 소프트맥스 함수 사용\n",
    "\n",
    "#### 지금까지 기본적인 seq2seq 설계\n",
    "- 인코더의 hidden state와 cell state를 디코더의 초기 state로 사용\n",
    "\n",
    "디코더의 출력층을 설계를 살짝 바꿔서 성능을 높일 수 있는 방법 >>> 어텐션 메커니즘\n",
    "\n",
    "---\n",
    "### 어텐션 메커니즘\n",
    "TensorFlow에 이미 구현된 어텐션 함수를 가져와서 디코더의 출력층에 어떤 방식으로 결합하기  \n",
    "- 어텐션 함수 : Bahdanau 스타일의 어텐션"
   ]
  },
  {
   "cell_type": "code",
   "execution_count": 96,
   "id": "4ecaffa5",
   "metadata": {},
   "outputs": [
    {
     "name": "stdout",
     "output_type": "stream",
     "text": [
      "Model: \"model_3\"\n",
      "__________________________________________________________________________________________________\n",
      "Layer (type)                    Output Shape         Param #     Connected to                     \n",
      "==================================================================================================\n",
      "input_3 (InputLayer)            [(None, 40)]         0                                            \n",
      "__________________________________________________________________________________________________\n",
      "embedding_2 (Embedding)         (None, 40, 128)      2560000     input_3[0][0]                    \n",
      "__________________________________________________________________________________________________\n",
      "lstm_4 (LSTM)                   [(None, 40, 256), (N 394240      embedding_2[0][0]                \n",
      "__________________________________________________________________________________________________\n",
      "input_4 (InputLayer)            [(None, None)]       0                                            \n",
      "__________________________________________________________________________________________________\n",
      "lstm_5 (LSTM)                   [(None, 40, 256), (N 525312      lstm_4[0][0]                     \n",
      "__________________________________________________________________________________________________\n",
      "embedding_3 (Embedding)         (None, None, 128)    1292800     input_4[0][0]                    \n",
      "__________________________________________________________________________________________________\n",
      "lstm_6 (LSTM)                   [(None, 40, 256), (N 525312      lstm_5[0][0]                     \n",
      "__________________________________________________________________________________________________\n",
      "lstm_7 (LSTM)                   [(None, None, 256),  394240      embedding_3[0][0]                \n",
      "                                                                 lstm_6[0][1]                     \n",
      "                                                                 lstm_6[0][2]                     \n",
      "__________________________________________________________________________________________________\n",
      "attention_layer (AdditiveAttent (None, None, 256)    256         lstm_7[0][0]                     \n",
      "                                                                 lstm_6[0][0]                     \n",
      "__________________________________________________________________________________________________\n",
      "concat_layer (Concatenate)      (None, None, 512)    0           lstm_7[0][0]                     \n",
      "                                                                 attention_layer[0][0]            \n",
      "__________________________________________________________________________________________________\n",
      "dense_3 (Dense)                 (None, None, 10100)  5181300     concat_layer[0][0]               \n",
      "==================================================================================================\n",
      "Total params: 10,873,460\n",
      "Trainable params: 10,873,460\n",
      "Non-trainable params: 0\n",
      "__________________________________________________________________________________________________\n"
     ]
    }
   ],
   "source": [
    "from tensorflow.keras.layers import AdditiveAttention\n",
    "\n",
    "# 어텐션 층(어텐션 함수)\n",
    "attn_layer = AdditiveAttention(name='attention_layer')\n",
    "\n",
    "# 인코더와 디코더의 모든 time step의 hidden state를 어텐션 층에 전달하고 결과를 리턴\n",
    "attn_out = attn_layer([decoder_outputs, encoder_outputs])\n",
    "\n",
    "# 어텐션의 결과와 디코더의 hidden state들을 연결\n",
    "decoder_concat_input = Concatenate(axis=-1, name='concat_layer')([decoder_outputs, attn_out])\n",
    "\n",
    "# 디코더의 출력층\n",
    "decoder_softmax_layer = Dense(tar_vocab, activation='softmax')\n",
    "decoder_softmax_outputs = decoder_softmax_layer(decoder_concat_input)\n",
    "\n",
    "# 모델 정의\n",
    "model = Model([encoder_inputs, decoder_inputs], decoder_softmax_outputs)\n",
    "model.summary()"
   ]
  },
  {
   "cell_type": "markdown",
   "id": "cf62b504",
   "metadata": {},
   "source": [
    "---\n",
    "## 모델 훈련하기\n",
    "---\n"
   ]
  },
  {
   "cell_type": "code",
   "execution_count": 74,
   "id": "0d679c2a",
   "metadata": {},
   "outputs": [
    {
     "name": "stdout",
     "output_type": "stream",
     "text": [
      "Epoch 1/50\n",
      "232/232 [==============================] - 59s 86ms/step - loss: 6.4016 - val_loss: 6.0416\n",
      "Epoch 2/50\n",
      "232/232 [==============================] - 19s 82ms/step - loss: 5.8768 - val_loss: 5.6423\n",
      "Epoch 3/50\n",
      "232/232 [==============================] - 19s 84ms/step - loss: 5.5383 - val_loss: 5.3855\n",
      "Epoch 4/50\n",
      "232/232 [==============================] - 20s 86ms/step - loss: 5.2511 - val_loss: 5.1634\n",
      "Epoch 5/50\n",
      "232/232 [==============================] - 20s 88ms/step - loss: 5.0027 - val_loss: 4.9908\n",
      "Epoch 6/50\n",
      "232/232 [==============================] - 20s 88ms/step - loss: 4.7921 - val_loss: 4.8526\n",
      "Epoch 7/50\n",
      "232/232 [==============================] - 20s 86ms/step - loss: 4.6121 - val_loss: 4.7500\n",
      "Epoch 8/50\n",
      "232/232 [==============================] - 20s 86ms/step - loss: 4.4553 - val_loss: 4.6763\n",
      "Epoch 9/50\n",
      "232/232 [==============================] - 20s 87ms/step - loss: 4.3170 - val_loss: 4.6076\n",
      "Epoch 10/50\n",
      "232/232 [==============================] - 20s 87ms/step - loss: 4.1918 - val_loss: 4.5564\n",
      "Epoch 11/50\n",
      "232/232 [==============================] - 20s 87ms/step - loss: 4.0756 - val_loss: 4.5175\n",
      "Epoch 12/50\n",
      "232/232 [==============================] - 20s 87ms/step - loss: 3.9672 - val_loss: 4.4737\n",
      "Epoch 13/50\n",
      "232/232 [==============================] - 20s 87ms/step - loss: 3.8684 - val_loss: 4.4431\n",
      "Epoch 14/50\n",
      "232/232 [==============================] - 20s 87ms/step - loss: 3.7777 - val_loss: 4.4120\n",
      "Epoch 15/50\n",
      "232/232 [==============================] - 20s 87ms/step - loss: 3.6888 - val_loss: 4.3916\n",
      "Epoch 16/50\n",
      "232/232 [==============================] - 20s 87ms/step - loss: 3.6037 - val_loss: 4.3788\n",
      "Epoch 17/50\n",
      "232/232 [==============================] - 20s 87ms/step - loss: 3.5257 - val_loss: 4.3652\n",
      "Epoch 18/50\n",
      "232/232 [==============================] - 20s 87ms/step - loss: 3.4499 - val_loss: 4.3567\n",
      "Epoch 19/50\n",
      "232/232 [==============================] - 20s 87ms/step - loss: 3.3826 - val_loss: 4.3471\n",
      "Epoch 20/50\n",
      "232/232 [==============================] - 20s 87ms/step - loss: 3.3192 - val_loss: 4.3409\n",
      "Epoch 21/50\n",
      "232/232 [==============================] - 20s 87ms/step - loss: 3.2595 - val_loss: 4.3369\n",
      "Epoch 22/50\n",
      "232/232 [==============================] - 20s 87ms/step - loss: 3.2035 - val_loss: 4.3374\n",
      "Epoch 23/50\n",
      "232/232 [==============================] - 20s 87ms/step - loss: 3.1464 - val_loss: 4.3416\n",
      "Epoch 00023: early stopping\n"
     ]
    }
   ],
   "source": [
    "model.compile(optimizer='rmsprop', loss='sparse_categorical_crossentropy')\n",
    "es = EarlyStopping(monitor='val_loss', patience=2, verbose=1)\n",
    "history = model.fit(x=[encoder_input_train, decoder_input_train], y=decoder_target_train, \\\n",
    "          validation_data=([encoder_input_test, decoder_input_test], decoder_target_test), \\\n",
    "          batch_size=256, callbacks=[es], epochs=50)"
   ]
  },
  {
   "cell_type": "markdown",
   "id": "46405607",
   "metadata": {},
   "source": [
    "조기종료(EarlyStopping) 설정: 특정 조건 충족 시 훈련 종료  \n",
    "es = EarlyStopping(monitor='val_loss', patience=2, verbose=1)  \n",
    "- monitor : val_loss (검증 데이터 손실이 감소하지 않고 증가하는 현상 관찰)\n",
    "- patience : 2 (관찰 조건을 2회 발견 시 종료)\n",
    "\n",
    "조기 종료 설정시 훈련이 종료되었을 때 성능이 최고인 상황이 아닐 수 있다  \n",
    "\n",
    "#### 훈련 데이터 손실과 검증 데이터 손실의 감소 과정 시각화"
   ]
  },
  {
   "cell_type": "code",
   "execution_count": 97,
   "id": "6f920de1",
   "metadata": {},
   "outputs": [
    {
     "data": {
      "image/png": "[encoded data removed]",
      "text/plain": [
       "<Figure size 432x288 with 1 Axes>"
      ]
     },
     "metadata": {
      "needs_background": "light"
     },
     "output_type": "display_data"
    }
   ],
   "source": [
    "plt.plot(history.history['loss'], label='train')\n",
    "plt.plot(history.history['val_loss'], label='test')\n",
    "plt.legend()\n",
    "plt.show()"
   ]
  },
  {
   "cell_type": "markdown",
   "id": "a2564e8c",
   "metadata": {},
   "source": [
    "---\n",
    "## 인퍼런스 모델  구현\n",
    "---\n",
    "정수 인덱스 행렬로 존재하던 텍스트 데이터를 실제 데이터로 복원을 위해 단어 사전 준비"
   ]
  },
  {
   "cell_type": "code",
   "execution_count": 98,
   "id": "ce9a8dee",
   "metadata": {},
   "outputs": [],
   "source": [
    "src_index_to_word = src_tokenizer.index_word # 원문 단어 집합에서 정수 -> 단어를 얻음\n",
    "tar_word_to_index = tar_tokenizer.word_index # 요약 단어 집합에서 단어 -> 정수를 얻음\n",
    "tar_index_to_word = tar_tokenizer.index_word # 요약 단어 집합에서 정수 -> 단어를 얻음"
   ]
  },
  {
   "cell_type": "markdown",
   "id": "277f8396",
   "metadata": {},
   "source": [
    "**seq2seq는 훈련할 때와 실제 동작할 때(인퍼런스 단계)의 방식이 다르므로 그에 맞게 모델 설계를 별개로 진행해야 한다**  \n",
    "\n",
    "훈련 단계  \n",
    "- 디코더의 입력부에 정답이 되는 문장 전체를 한꺼번에 넣고 디코더의 출력과 한 번에 비교 가능\n",
    "- 인코더와 디코더를 엮은 통짜 모델 하나만 준비\n",
    "\n",
    "정답 문장이 없는 인퍼런스 단계  \n",
    "- 만들어야 할 문장의 길이 만큼 디코더가 반복 구조로 동작해야 한다\n",
    "- 인퍼런스를 위한 별도 모델 설계 필요\n",
    "- 인코더 모델과 디코더 모델을 분리해서 설계"
   ]
  },
  {
   "cell_type": "code",
   "execution_count": 100,
   "id": "82791610",
   "metadata": {},
   "outputs": [],
   "source": [
    "#-----------------------------------------\n",
    "# 인코더 설계\n",
    "#-----------------------------------------\n",
    "encoder_model = Model(inputs=encoder_inputs, outputs=[encoder_outputs, state_h, state_c])\n",
    "\n",
    "# 이전 시점의 상태들을 저장하는 텐서\n",
    "decoder_state_input_h = Input(shape=(hidden_size,))\n",
    "decoder_state_input_c = Input(shape=(hidden_size,))\n",
    "\n",
    "dec_emb2 = dec_emb_layer(decoder_inputs)\n",
    "\n",
    "# 문장의 다음 단어를 예측하기 위해서 초기 상태(initial_state)를 이전 시점의 상태로 사용. 이는 뒤의 함수 decode_sequence()에 구현\n",
    "# 훈련 과정에서와 달리 LSTM의 리턴하는 은닉 상태와 셀 상태인 state_h와 state_c를 버리지 않음.\n",
    "decoder_outputs2, state_h2, state_c2 = decoder_lstm(dec_emb2, initial_state=[decoder_state_input_h, decoder_state_input_c])\n",
    "\n",
    "#-----------------------------------------\n",
    "# 어텐션 메커니즘을 사용하는 출력층 설계\n",
    "#-----------------------------------------\n",
    "# 어텐션 함수\n",
    "decoder_hidden_state_input = Input(shape=(text_max_len, hidden_size))\n",
    "attn_out_inf = attn_layer([decoder_outputs2, decoder_hidden_state_input])\n",
    "decoder_inf_concat = Concatenate(axis=-1, name='concat')([decoder_outputs2, attn_out_inf])\n",
    "\n",
    "# 디코더의 출력층\n",
    "decoder_outputs2 = decoder_softmax_layer(decoder_inf_concat) \n",
    "\n",
    "# 최종 디코더 모델\n",
    "decoder_model = Model(\n",
    "    [decoder_inputs] + [decoder_hidden_state_input,decoder_state_input_h, decoder_state_input_c],\n",
    "    [decoder_outputs2] + [state_h2, state_c2])\n"
   ]
  },
  {
   "cell_type": "code",
   "execution_count": 101,
   "id": "7f372bae",
   "metadata": {},
   "outputs": [],
   "source": [
    "#------------------------------------------------\n",
    "# 인퍼런스 단계에서 단어 시퀀스를 완성하는 함수\n",
    "#------------------------------------------------\n",
    "def decode_sequence(input_seq):\n",
    "    # 입력으로부터 인코더의 상태를 얻음\n",
    "    e_out, e_h, e_c = encoder_model.predict(input_seq)\n",
    "\n",
    "     # <SOS>에 해당하는 토큰 생성\n",
    "    target_seq = np.zeros((1,1))\n",
    "    target_seq[0, 0] = tar_word_to_index['sostoken']\n",
    "\n",
    "    stop_condition = False\n",
    "    decoded_sentence = ''\n",
    "    while not stop_condition: # stop_condition이 True가 될 때까지 루프 반복\n",
    "\n",
    "        output_tokens, h, c = decoder_model.predict([target_seq] + [e_out, e_h, e_c])\n",
    "        sampled_token_index = np.argmax(output_tokens[0, -1, :])\n",
    "        sampled_token = tar_index_to_word[sampled_token_index]\n",
    "\n",
    "        if (sampled_token!='eostoken'):\n",
    "            decoded_sentence += ' '+sampled_token\n",
    "\n",
    "        #  <eos>에 도달하거나 최대 길이를 넘으면 중단.\n",
    "        if (sampled_token == 'eostoken'  or len(decoded_sentence.split()) >= (summary_max_len-1)):\n",
    "            stop_condition = True\n",
    "\n",
    "        # 길이가 1인 타겟 시퀀스를 업데이트\n",
    "        target_seq = np.zeros((1,1))\n",
    "        target_seq[0, 0] = sampled_token_index\n",
    "\n",
    "        # 상태를 업데이트 합니다.\n",
    "        e_h, e_c = h, c\n",
    "\n",
    "    return decoded_sentence"
   ]
  },
  {
   "cell_type": "markdown",
   "id": "97756933",
   "metadata": {},
   "source": [
    "---\n",
    "## 모델 테스트\n",
    "---\n",
    "정수 시퀀스를 텍스트 시퀀스로 변환하여 결과를 확인  \n",
    "주어진 정수 시퀀스를 텍스트 시퀀스로 변환하는 함수 구현  \n",
    "- Text의 정수 시퀀스에서는 패딩을 위해 사용되는 숫자 0을 제외\n",
    "- Summary의 정수 시퀀스에서는 숫자 0, 시작 토큰의 인덱스, 종료 토큰의 인덱스를 출력에서 제외\n",
    "\n",
    "### 요약문의 정수 시퀀스를 텍스트로 변환하는 seq2summary 함수"
   ]
  },
  {
   "cell_type": "code",
   "execution_count": 102,
   "id": "f5048439",
   "metadata": {},
   "outputs": [],
   "source": [
    "# 원문의 정수 시퀀스를 텍스트 시퀀스로 변환\n",
    "def seq2text(input_seq):\n",
    "    temp=''\n",
    "    for i in input_seq:\n",
    "        if (i!=0):\n",
    "            temp = temp + src_index_to_word[i]+' '\n",
    "    return temp\n",
    "\n",
    "# 요약문의 정수 시퀀스를 텍스트 시퀀스로 변환\n",
    "def seq2summary(input_seq):\n",
    "    temp=''\n",
    "    for i in input_seq:\n",
    "        if((i!=0 and i!=tar_word_to_index['sostoken']) and i!=tar_word_to_index['eostoken']):\n",
    "            temp = temp + tar_index_to_word[i] + ' '\n",
    "    return temp"
   ]
  },
  {
   "cell_type": "code",
   "execution_count": 103,
   "id": "5983625d",
   "metadata": {},
   "outputs": [
    {
     "name": "stdout",
     "output_type": "stream",
     "text": [
      "원문 : case huawei cfo meng wanzhou arrested canada us request fraud banks relationship huawei unofficial subsidiary huawei allegedly used business iran breaching us sanctions meng allegedly told banks separate companies banks know clearing transactions involving iran \n",
      "실제 요약 : why was huawei cfo arrested in canada at us request \n",
      "예측 요약 :  vishal dung ardern flak reduces melting saira gavaskar esha\n",
      "\n",
      "\n",
      "원문 : chinese phone maker mobile said plans invest crore start production india talking foxconn setting manufacturing facility noida near delhi company business head rajeev tiwari said company also cater countries like nepal bangladesh sri lanka vietnam philippines tiwari added \n",
      "실제 요약 : mobile to invest cr to start production in india \n",
      "예측 요약 :  mou colombia worry solo abvp wrestler kurdish chand navi\n",
      "\n",
      "\n",
      "원문 : prince kumar son delhi transport corporation bus driver topped cbse class exams science stream across delhi government schools score delhi education minister manish sisodia took twitter congratulate kumar writing proud moment meghna srivastava india topper aggregate \n",
      "실제 요약 : delhi bus driver son scores in cbse class exams \n",
      "예측 요약 :  paintings california california abandons incorrect waqar hackers ways resignation\n",
      "\n",
      "\n",
      "원문 : facebook removed blasphemous content social networking site request government pakistan country interior ministry told islamabad high court comes justice aziz siddiqui revealed court considering whether social media websites pakistan allegedly providing platform blasphemous content banned \n",
      "실제 요약 : facebook removes content on pak request \n",
      "예측 요약 :  dung alleging outgoing outgoing outgoing dinosaur assures jason rail\n",
      "\n",
      "\n",
      "원문 : japan simplify visa rules indians january issue multiple entry visa short term stays japanese embassy said tuesday new rules also expand scope eligible applicants move aimed boosting people people exchanges japan india indian tourists business persons added \n",
      "실제 요약 : japan to relax visa norms for indians from \n",
      "예측 요약 :  gum pleads bombay ghai local monsanto millionaire reddy rambo\n",
      "\n",
      "\n",
      "원문 : ex cricketer vinod kambli touched childhood friend cricket legend sachin tendulkar feet post match presentation final mumbai league sachin brand ambassador tournament kambli mentor shivaji park lions came second duo put together world record run stand school \n",
      "실제 요약 : kambli touches tendulkar feet during mumbai league \n",
      "예측 요약 :  farm indonesia simmba evicted boat kg photographs off headphones\n",
      "\n",
      "\n",
      "원문 : amazon warehouse workers across several countries europe including uk spain italy staged protests company inhuman working conditions workers breaking bones knocked unconscious taken away ambulances robots uk trade union said bezos afford sort said \n",
      "실제 요약 : amazon workers in europe protest working conditions \n",
      "예측 요약 :  hailing holds continues claims quake department code basis uday\n",
      "\n",
      "\n",
      "원문 : niti aayog vice chairman rajiv kumar said financial resources game changing healthcare scheme introduced budget government announced would provide health insurance cover lakh crore poor families kumar added proposed additional cess yield crore annually enough meet funding needs \n",
      "실제 요약 : financing not for healthcare scheme niti aayog \n",
      "예측 요약 :  bai evicted mouse militancy patents boards driven iii consumption\n",
      "\n",
      "\n",
      "원문 : bjp leader harish khurana tweeted picture showing congress leaders ajay maken lovely among others eating delhi restaurant protest fast alleged dalit atrocities lovely later clarified picture taken start protest adding symbolic fast indefinite hunger strike \n",
      "실제 요약 : cong leaders eat before starting hunger strike \n",
      "예측 요약 :  jeans yesterday lanka lanka alleging cube smallest calcutta absent\n",
      "\n",
      "\n",
      "원문 : us secretary state mike pompeo said country rejects russia annexation crimea russian foreign ministry said us fails stick commitments citing us withdrawal iran nuclear deal paris climate agreement ministry added us foreign policy changes change leadership \n",
      "실제 요약 : us fails to stick to russian foreign ministry \n",
      "예측 요약 :  mixed like automation relationships substance rajeev derby derby psl\n",
      "\n",
      "\n",
      "원문 : five time congress mla haque saturday decided join tmc taking permission supporters public rally west bengal mla cited lack development area reason cannot explain anyone feeling decision quitting congress like quitting religion added \n",
      "실제 요약 : cong mla takes supporters permission at rally to join tmc \n",
      "예측 요약 :  czech replaced hiroshima cloth abusing acceptable classified harry cji\n",
      "\n",
      "\n",
      "원문 : madhuri dixit play lead role film directorial debut ayushmann khurrana wife tahira kashyap reports suggested madhuri character something attempted actress play daughter soon finalised well stated reports earlier talking project tahira said dreams come true \n",
      "실제 요약 : madhuri to star in ayushmann wife directorial reports \n",
      "예측 요약 :  photos would holders thunderstorm night dy bread food territory\n",
      "\n",
      "\n",
      "원문 : following india series defeat england ex india cricketer chetan chauhan said coach ravi shastri removed india australia tour shastri good cricket commentator allowed chauhan added said agree shastri comments kohli led team best travelling indian side last years \n",
      "실제 요약 : ravi shastri should go back to commentary chetan chauhan \n",
      "예측 요약 :  mou please colombia colombia ace hawking colombia himachal jets\n",
      "\n",
      "\n",
      "원문 : according forbes world billionaires list microsoft co founder bill gates world richest person fortune billion amazon jeff bezos biggest gainer list fortune jumped billion last year ranking among top three billionaires notably marked first time forbes reported billionaires \n",
      "실제 요약 : who are the richest people in the world \n",
      "예측 요약 :  dung alleging outgoing outgoing above foolish old old bhuvneshwar\n",
      "\n",
      "\n",
      "원문 : aadhaar governing body uidai friday said use biometric data criminal investigation allowed aadhaar act comes national crime records bureau said police provided limited access aadhaar data would aide catching first time offenders besides identification unidentified bodies \n",
      "실제 요약 : aadhaar data cannot be used for criminal investigation uidai \n",
      "예측 요약 :  dung alleging constitutional alleging constitutional alleging tweeted tweeted tweeted\n",
      "\n",
      "\n",
      "원문 : actress rani mukerji made acting debut bengali film directed father ram mukherjee made bollywood debut film raja ki baraat later year rani turned tuesday best known movies kuch kuch hota hai black one killed jessica \n",
      "실제 요약 : rani mukerji made acting debut in her father bengali film \n",
      "예측 요약 :  dung alleging equals korea chef particle haunted aston retirement\n",
      "\n",
      "\n",
      "원문 : bjp karnataka cell posted picture potholes twitter saying confirmed bengaluru later picture found mumbai karnataka minister priyank kharge asked either prove bengaluru apologise however bjp asked kharge ride wheeler bengaluru roads count potholes \n",
      "실제 요약 : karnataka bjp and congress fight over potholes on twitter \n",
      "예측 요약 :  vishal prime prime season season sessions simple spoke salvador\n",
      "\n",
      "\n",
      "원문 : former boxer mike tyson said mma fighter conor mcgregor made mistake agreeing fight boxer floyd mayweather using boxing rules predicted mcgregor going get killed mcgregor put dumb position gonna get knocked mayweather life since baby tyson added \n",
      "실제 요약 : mcgregor will get killed in mayweather fight mike tyson \n",
      "예측 요약 :  dung alleging equals memoir worker cloned dept film landlord\n",
      "\n",
      "\n",
      "원문 : flipkart big diwali sale starts today till th october festive season flipkart put together amazing offers popular brands products auspicious occasion shopping flipkart promises consumers get best discounts also save extra additional offers makes shopping flipkart shubh bhi bhi \n",
      "실제 요약 : flipkart is back with its big diwali sale from october \n",
      "예측 요약 :  bai guam deshmukh positions engagement places babri impeach rocket\n",
      "\n",
      "\n",
      "원문 : candidates ruling trinamool congress assembly lok sabha seats west bengal bypolls tmc sunil singh seat ahmed lakh votes bypolls deaths sitting tmc mp sultan ahmed congress mla \n",
      "실제 요약 : tmc wins both seats in west bengal bypolls \n",
      "예측 요약 :  czech replaced hiroshima moustache women khichdi khand twinkle khand\n",
      "\n",
      "\n",
      "원문 : malayalam director joseph arrested challenging verbally abusing kochi mayor jain said filed police complaint began abusing denied permission shoot city recently subhash bose park director later released bail \n",
      "실제 요약 : malayalam director arrested for verbally abusing kochi mayor \n",
      "예측 요약 :  czech replaced moustache outgoing outgoing emma gardens revolution selfies\n",
      "\n",
      "\n",
      "원문 : istanbul rk airport thursday said battery bank caused minor explosion caught fire angry passenger threw told could bring onboard flight airport reiterated electronic devices allowed cabin baggage uk bound flights several passengers shared photos smoke airport gate social media \n",
      "실제 요약 : power bank thrown by angry passenger catches fire at airport \n",
      "예측 요약 :  dung alleging outgoing outgoing above entry poor gorge ghazipur\n",
      "\n",
      "\n",
      "원문 : pair twins united states california born minutes apart different years baby boy jr born mother maria pm december meanwhile twin sister de jesus born january \n",
      "실제 요약 : twins born minutes apart but in different years \n",
      "예측 요약 :  czech keep cape rajeev thrice villain teaching screens interested\n",
      "\n",
      "\n",
      "원문 : pakistan special court thursday ordered government arrest former president pervez musharraf seize properties case treason case initiated musharraf revoking constitution imposing emergency special court earlier declared musharraf proclaimed offender owing show \n",
      "실제 요약 : pak court orders govt to arrest musharraf seize properties \n",
      "예측 요약 :  czech notices medalist shouldn madonna authorised presidential surat flyover\n",
      "\n",
      "\n",
      "원문 : google responded pixel owner put posters around delhi advising people buy smartphone claiming paid service centre failed repair offered free repair new device instead demanded two next gen pixel phones unfortunately unable comply unreasonable demands google said \n",
      "실제 요약 : pixel user puts anti google posters around delhi google responds \n",
      "예측 요약 :  czech notices medalist shouldn madonna authorised suffering usual diesel\n",
      "\n",
      "\n",
      "원문 : american automaker tesla reported loss around million fourth quarter biggest ever quarterly loss however tesla also posted year year increase revenue billion fiscal year company also revealed cash balance billion entering first quarter \n",
      "실제 요약 : tesla posts biggest quarterly loss despite revenue rise \n",
      "예측 요약 :  dung myself just crackers between ideology incident feminism reptile\n",
      "\n",
      "\n",
      "원문 : ahead uk ireland tour team india captain virat kohli said fit glad play county cricket fully fit body feeling fine sort breaks really help keep mentally fresh added kohli ruled participating county cricket due neck injury \n",
      "실제 요약 : fit now glad did not go play county cricket kohli \n",
      "예측 요약 :  mou colombia worry worry solo solo abvp stress dinesh\n",
      "\n",
      "\n",
      "원문 : irrfan khan learnt wear sari scene upcoming film hindi medium plays role punjabi businessman owns sari shop chandni chowk new delhi particular scene irrfan learnt sari shows trying convince one customers buy \n",
      "실제 요약 : irrfan learns how to wear sari for his upcoming film \n",
      "예측 요약 :  demolished mystery granddaughter debit dhawan much civilians civilians privileges\n",
      "\n",
      "\n",
      "원문 : bomb squads canine teams rushed check package recovered cargo hold area delhi airport wednesday officials later declared area safe adding suspect item nothing spare parts company maruti ray image raised suspicion among airport staff \n",
      "실제 요약 : maruti parts trigger bomb scare at delhi airport \n",
      "예측 요약 :  czech notices kotak taiwan biggest biggest flags substitute substitute\n",
      "\n",
      "\n",
      "원문 : actor hrithik roshan ex wife sussanne khan took instagram wish occasion th birthday wednesday wrote forever always stay sunshine life smile smile brightest always spread light added hrithik sussanne got divorced nearly years marriage \n",
      "실제 요약 : in my life ex wife sussanne on hrithik birthday \n",
      "예측 요약 :  dung alleging outgoing outgoing outgoing gardens bhutan bhutan america\n",
      "\n",
      "\n",
      "원문 : indian institute mass communication saturday took decision make central civil services conduct rules prohibit criticism government among rules applicable faculty director general said proposal adopted unanimously faculty members slammed decision stating assault academic freedom \n",
      "실제 요약 : faculty from criticising government \n",
      "예측 요약 :  vishal dung ardern flak flak reduces melting saira children\n",
      "\n",
      "\n",
      "원문 : french government ban students using mobile phones country primary junior middle schools french education minister jean michel said ban come effect start next school year september added proposal ban included president emmanuel macron election campaign year \n",
      "실제 요약 : france to ban mobile phones in schools \n",
      "예측 요약 :  dung alleging outgoing outgoing outgoing gardens bhutan bhutan america\n",
      "\n",
      "\n",
      "원문 : billionaire patrick cable company usa raised billion us telecom sector biggest ipo years also second biggest ipo us year following snapchat parent snap billion deal march usa country fourth largest cable operator approximately valued billion \n",
      "실제 요약 : raises bn in biggest us telecom ipo in years \n",
      "예측 요약 :  dung alleging outgoing outgoing above entry refuses grave platform\n",
      "\n",
      "\n",
      "원문 : goa governor sinha saturday administered pledge state university students urging end marriages issues marriage compulsory necessary strive make marriage lasting happy said also told students pledge never take drugs send parents old age homes \n",
      "실제 요약 : don end marriages over small issues goa guv to students \n",
      "예측 요약 :  czech notices grab parents installing indira rcb despacito el\n",
      "\n",
      "\n",
      "원문 : investigations cbi enforcement directorate revealed vijay mallya allegedly diverted crore borrowed banks shell companies allegedly diverted shell companies seven countries including us uk agencies file fresh charge sheet based findings strengthen case mallya extradition uk \n",
      "실제 요약 : vijay mallya moved most of crore to shell firms \n",
      "예측 요약 :  cycle solo solo abvp stress describe document regime endorse\n",
      "\n",
      "\n",
      "원문 : karnataka government imposed prohibitory orders starting sunday karnataka mangaluru till july recent incidents communal violence acts public singing songs playing music others may affect public order would banned communal tension region escalated rss worker stabbed unidentified assailants july \n",
      "실제 요약 : section imposed in amid communal violence \n",
      "예측 요약 :  ireland tcs bridge hurricane das teeth teams adoption costa\n",
      "\n",
      "\n",
      "원문 : us district judge ruled iphone users take action apple allegedly disabling facetime iphone purpose apple accused trying save money would pay third party servers technology major earlier claimed users suffer economic loss since facetime free \n",
      "실제 요약 : apple fails to end lawsuit on on iphone \n",
      "예측 요약 :  dung alleging equals outgoing outgoing outgoing gardens allocation gardens\n",
      "\n",
      "\n",
      "원문 : many taxes levied local bodies like municipal covered gst include road tax vehicles entry fee charged state municipal body state border extra entertainment tax among others states might reportedly charge taxes compensate abolished state taxes \n",
      "실제 요약 : which taxes are not covered under gst \n",
      "예측 요약 :  czech notices notices medalist shouldn belt belt authorised connections\n",
      "\n",
      "\n",
      "원문 : prints pet dog helped us family find year old son went missing several hours earlier week toddler discovered without suffered scratches bug bites owe dog son alone knows could happened father said \n",
      "실제 요약 : prints of pet dog help trace missing us toddler \n",
      "예측 요약 :  czech notices mca medalist khand khand twinkle twinkle fog\n",
      "\n",
      "\n",
      "원문 : cities around world recently hosted public pillow fights collect donations needy including shelters homeless children people also dressed different costumes international pillow fight day held april event held cities including new york amsterdam bengaluru london \n",
      "실제 요약 : cities organise pillow fights to help homeless kids \n",
      "예측 요약 :  czech notices mca parents americans unitech kick superstar trainee\n",
      "\n",
      "\n",
      "원문 : mit researchers developed artificial intelligence model claim capable detecting depression individuals based spoken written responses model called context free analyses things communicated rather communicated also researchers claimed model demonstrated success rate identifying depression \n",
      "실제 요약 : mit develops ai which can detect depression from speech \n",
      "예측 요약 :  czech notices kotak taiwan biggest biggest flags substitute substitute\n",
      "\n",
      "\n",
      "원문 : asked rumoured wedding anand ahuja actress sonam kapoor said anyone asking ranbir kapoor ranveer singh getting married added actresses asked personal lives earlier sonam said like talk relationship \n",
      "실제 요약 : is anyone asking ranbir ranveer about marriage plans sonam \n",
      "예측 요약 :  czech replaced moustache women gates politics isolated statements july\n",
      "\n",
      "\n",
      "원문 : sagar lake supplies million litres water mumbai daily saturday taking total water stock million litres heavy rains across maharashtra current stock seven lakes supplying water mumbai million litres stock available around time last year \n",
      "실제 요약 : lake supplying water to mumbai after heavy rains \n",
      "예측 요약 :  vishal prime prime season gunmen stayed jio vidya eat\n",
      "\n",
      "\n",
      "원문 : ration beginning space ka line km mean sea level altitude conventional aircraft would need attain orbital velocity risk falling back earth however according nasa hard point space begins atmosphere gradually higher get \n",
      "실제 요약 : where does the atmosphere end and space begin \n",
      "예측 요약 :  photos czech title touch interested flowers flowers allahu moustache\n",
      "\n",
      "\n",
      "원문 : indian union muslim league mla abdulla attended kerala assembly monday wearing mask gloves highlight impact nipah virus abdulla said symbolic gesture everyone kozhikode wearing masks slammed cm pinarayi vijayan issue health minister kk shailaja called act ridiculous \n",
      "실제 요약 : kerala mla wears mask gloves to assembly over nipah outbreak \n",
      "예측 요약 :  swords ct achievement medalist authorised spirit homebuyers kurds malware\n",
      "\n",
      "\n",
      "원문 : us closing main diplomatic mission serving palestinians merge us embassy israel replaced palestinian affairs unit working us embassy earlier year us became world first country open embassy jerusalem claimed israel palestine \n",
      "실제 요약 : us to close diplomatic mission serving palestinians \n",
      "예측 요약 :  czech kotak achievement son mail roko chief biased sikkim\n",
      "\n",
      "\n",
      "원문 : world cup winners prithvi shaw shubman gill named india squad tour england june july delhi daredevils shaw slammed two fifties five ipl matches far included four day squads meanwhile kkr gill included squad \n",
      "실제 요약 : wc players shaw gill in india squad for england tour \n",
      "예측 요약 :  postcard son karnataka amnesty rates event hundred booths pilani\n",
      "\n",
      "\n",
      "원문 : distributor abc supply chairman diane topped forbes list america richest self made women net worth billion followed little caesars pizza chain owner fortune billion epic systems faulkner ranked third meg fourth list \n",
      "실제 요약 : who are us richest self made women on forbes list \n",
      "예측 요약 :  czech notices mca medalist khand khand twinkle signals cape\n",
      "\n",
      "\n",
      "원문 : attacking congress president rahul gandhi post titled clown prince union minister arun jaitley said rahul living state self stating rahul alternative facts suit jaitley said false narrative dozen times convince fact truth \n",
      "실제 요약 : is clown prince out himself jaitley post on rahul \n",
      "예측 요약 :  czech notices dwayne changed mca lyon paramilitary historical gully\n",
      "\n",
      "\n",
      "원문 : reply rti query prime minister office said cannot information sought permission use narendra modi photographs advertisements stating exercise needs thorough search pmo stated would divert resources information available consolidated form \n",
      "실제 요약 : cannot tell who sought pm pictures for advertisements pmo \n",
      "예측 요약 :  czech notices medalist shouldn madonna ril assam mention richer\n",
      "\n",
      "\n"
     ]
    }
   ],
   "source": [
    "for i in range(50, 100):\n",
    "    print(\"원문 :\", seq2text(encoder_input_test[i]))\n",
    "    print(\"실제 요약 :\", seq2summary(decoder_input_test[i]))\n",
    "    print(\"예측 요약 :\", decode_sequence(encoder_input_test[i].reshape(1, text_max_len)))\n",
    "    print(\"\\n\")"
   ]
  },
  {
   "cell_type": "markdown",
   "id": "4303e1fd",
   "metadata": {},
   "source": [
    "많은 결과가 출력이 되는데, 기존의 요약과는 다른 요약을 출력하면서도 원문의 내용을 담고 있는 의미 있는 요약들이 보이네요.    \n",
    "심지어 일부 요약의 경우에는 원문에 없던 단어를 사용해서 요약을 하기도 하고 있어요.     \n",
    "워드 임베딩과 RNN의 콜라보로 이뤄낸 신기한 성과네요!  \n",
    "물론 슬프게도 그다지 좋지 않은 요약의 예도 꽤나 보이기도 하네요.  \n",
    "\n",
    "**성능을 개선 방안*  \n",
    "- seq2seq와 어텐션의 자체의 조합을 좀 더 좋게 수정하는 방법\n",
    "- 빔 서치(beam search)\n",
    "- 사전 훈련된 워드 임베딩(pre-trained word embedding)\n",
    "- 인코더 - 디코더 자체의 구조를 새로이 변경한 하는 트랜스포머(Transformer)\n",
    "\n",
    "---\n",
    "## 추출적 요약 해보기\n",
    "---\n",
    "**패키지 Summa**\n",
    "추출적 요약을 위한 모듈인 summarize를 제공  \n",
    "\n",
    "#### 영화 매트릭스 시놉시스를 요약하기\n",
    "- summarize 사용법을 익혀볼까요?\n",
    "\n",
    "### 패키지 설치\n",
    "```\n",
    "$ pip list | grep summa\n",
    "```\n",
    "### 데이터 다운로드  "
   ]
  },
  {
   "cell_type": "code",
   "execution_count": 122,
   "id": "ceb7c304",
   "metadata": {},
   "outputs": [
    {
     "name": "stdout",
     "output_type": "stream",
     "text": [
      "Saurav Kant, an alumnus of upGrad and IIIT-B's PG Program in Machine learning and Artificial Intelligence, was a Sr Systems Engineer at Infosys with almost 5 years of work experience. The program and upGrad's 360-degree career support helped him transition to a Data Scientist at Tech Mahindra with 90% salary hike. upGrad's Online Power Learning has powered 3 lakh+ careers.\n"
     ]
    }
   ],
   "source": [
    "import requests\n",
    "from summa.summarizer import summarize\n",
    "# text = requests.get('http://rare-technologies.com/the_matrix_synopsis.txt').text\n",
    "\n",
    "urllib.request.urlretrieve(\"https://raw.githubusercontent.com/sunnysai12345/News_Summary/master/news_summary_more.csv\", filename=\"news_summary_more.csv\")\n",
    "text_list = pd.read_csv('news_summary_more.csv', encoding='iso-8859-1')\n",
    "\n",
    "text = text_list['text'][0]\n",
    "print(text[:1500])"
   ]
  },
  {
   "cell_type": "markdown",
   "id": "94461e05",
   "metadata": {},
   "source": [
    "### summarize 사용하기\n",
    "Summa의 summarize()의 인자  \n",
    "- text (str) : 요약할 테스트.\n",
    "- ratio (float, optional) : 요약문에서 원본에서 선택되는 문장 비율. 0~1 사이값\n",
    "- words (int or None, optional) : 출력에 포함할 단어 수.\n",
    "    만약, ratio와 함께 두 파라미터가 모두 제공되는 경우 ratio는 무시한다.\n",
    "- split (bool, optional) : True면 문장 list / False는 조인(join)된 문자열을 반환\n",
    "\n",
    "Summa의 summarize는 문장 토큰화를 별도로 하지 않더라도 내부적으로 문장 토큰화를 수행한다.  \n",
    "그렇기 때문에 문장 구분이 되어있지 않은 원문을 바로 입력으로 넣을 수 있다  "
   ]
  },
  {
   "cell_type": "code",
   "execution_count": 135,
   "id": "49d7c654",
   "metadata": {},
   "outputs": [
    {
     "name": "stdout",
     "output_type": "stream",
     "text": [
      "Summary:\n",
      "upGrad's Online Power Learning has powered 3 lakh+ careers.\n"
     ]
    }
   ],
   "source": [
    "print('Summary:')\n",
    "print(summarize(text, ratio=0.5))"
   ]
  },
  {
   "cell_type": "code",
   "execution_count": 136,
   "id": "4e04c76c",
   "metadata": {},
   "outputs": [
    {
     "name": "stdout",
     "output_type": "stream",
     "text": [
      "Summary:\n",
      "[\"upGrad's Online Power Learning has powered 3 lakh+ careers.\"]\n"
     ]
    }
   ],
   "source": [
    "print('Summary:')\n",
    "print(summarize(text, ratio=0.5, split=True))"
   ]
  },
  {
   "cell_type": "code",
   "execution_count": 131,
   "id": "82831537",
   "metadata": {},
   "outputs": [
    {
     "name": "stdout",
     "output_type": "stream",
     "text": [
      "Summary:\n",
      "upGrad's Online Power Learning has powered 3 lakh+ careers.\n"
     ]
    }
   ],
   "source": [
    "print('Summary:')\n",
    "print(summarize(text, words=5))"
   ]
  }
 ],
 "metadata": {
  "kernelspec": {
   "display_name": "Python 3 (ipykernel)",
   "language": "python",
   "name": "python3"
  },
  "language_info": {
   "codemirror_mode": {
    "name": "ipython",
    "version": 3
   },
   "file_extension": ".py",
   "mimetype": "text/x-python",
   "name": "python",
   "nbconvert_exporter": "python",
   "pygments_lexer": "ipython3",
   "version": "3.9.7"
  }
 },
 "nbformat": 4,
 "nbformat_minor": 5
}
