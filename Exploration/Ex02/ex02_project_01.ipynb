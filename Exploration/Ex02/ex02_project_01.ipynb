{
 "cells": [
  {
   "cell_type": "markdown",
   "metadata": {},
   "source": [
    "# 2-1. 프로젝트 1 : 손수 설계하는 선형회귀, 당뇨병 수치를 맞춰보자!"
   ]
  },
  {
   "cell_type": "markdown",
   "metadata": {},
   "source": [
    "## (1) 데이터 가져오기"
   ]
  },
  {
   "cell_type": "code",
   "execution_count": 1,
   "metadata": {},
   "outputs": [
    {
     "name": "stdout",
     "output_type": "stream",
     "text": [
      ".. _diabetes_dataset:\n",
      "\n",
      "Diabetes dataset\n",
      "----------------\n",
      "\n",
      "Ten baseline variables, age, sex, body mass index, average blood\n",
      "pressure, and six blood serum measurements were obtained for each of n =\n",
      "442 diabetes patients, as well as the response of interest, a\n",
      "quantitative measure of disease progression one year after baseline.\n",
      "\n",
      "**Data Set Characteristics:**\n",
      "\n",
      "  :Number of Instances: 442\n",
      "\n",
      "  :Number of Attributes: First 10 columns are numeric predictive values\n",
      "\n",
      "  :Target: Column 11 is a quantitative measure of disease progression one year after baseline\n",
      "\n",
      "  :Attribute Information:\n",
      "      - age     age in years\n",
      "      - sex\n",
      "      - bmi     body mass index\n",
      "      - bp      average blood pressure\n",
      "      - s1      tc, total serum cholesterol\n",
      "      - s2      ldl, low-density lipoproteins\n",
      "      - s3      hdl, high-density lipoproteins\n",
      "      - s4      tch, total cholesterol / HDL\n",
      "      - s5      ltg, possibly log of serum triglycerides level\n",
      "      - s6      glu, blood sugar level\n",
      "\n",
      "Note: Each of these 10 feature variables have been mean centered and scaled by the standard deviation times the square root of `n_samples` (i.e. the sum of squares of each column totals 1).\n",
      "\n",
      "Source URL:\n",
      "https://www4.stat.ncsu.edu/~boos/var.select/diabetes.html\n",
      "\n",
      "For more information see:\n",
      "Bradley Efron, Trevor Hastie, Iain Johnstone and Robert Tibshirani (2004) \"Least Angle Regression,\" Annals of Statistics (with discussion), 407-499.\n",
      "(https://web.stanford.edu/~hastie/Papers/LARS/LeastAngle_2002.pdf)\n",
      "\n"
     ]
    }
   ],
   "source": [
    "from sklearn.datasets import load_diabetes\n",
    "\n",
    "diabetes = load_diabetes()\n",
    "print(diabetes.DESCR)\n"
   ]
  },
  {
   "cell_type": "markdown",
   "metadata": {},
   "source": [
    "## (2) 모델에 입력할 데이터 X 준비하기\n",
    "## (3) 모델에 예측할 데이터 y 준비하기"
   ]
  },
  {
   "cell_type": "code",
   "execution_count": 2,
   "metadata": {},
   "outputs": [
    {
     "name": "stdout",
     "output_type": "stream",
     "text": [
      "<class 'numpy.ndarray'> (442, 10)\n",
      "<class 'numpy.ndarray'> (442,)\n"
     ]
    }
   ],
   "source": [
    "df_X = diabetes['data']\n",
    "df_y = diabetes['target']\n",
    "print(type(df_X), df_X.shape)\n",
    "print(type(df_y), df_y.shape)"
   ]
  },
  {
   "cell_type": "markdown",
   "metadata": {},
   "source": [
    "## (4) train 데이터와 test 데이터로 분리하기"
   ]
  },
  {
   "cell_type": "code",
   "execution_count": 3,
   "metadata": {},
   "outputs": [
    {
     "name": "stdout",
     "output_type": "stream",
     "text": [
      "(353, 10) (353,)\n",
      "(89, 10) (89,)\n"
     ]
    }
   ],
   "source": [
    "from sklearn.model_selection import train_test_split\n",
    "\n",
    "X_train, X_test, y_train, y_test = train_test_split(df_X, df_y, test_size=0.2, random_state=42)\n",
    "print(X_train.shape, y_train.shape)\n",
    "print(X_test.shape, y_test.shape)"
   ]
  },
  {
   "cell_type": "markdown",
   "metadata": {},
   "source": [
    "## (5) 모델 준비하기"
   ]
  },
  {
   "cell_type": "code",
   "execution_count": 4,
   "metadata": {},
   "outputs": [],
   "source": [
    "# 모델 함수\n",
    "def model(X, W, b):\n",
    "    predictions = 0\n",
    "    for i in range(X.shape[1]):\n",
    "        predictions += X[:, i] * W[i]\n",
    "    predictions += b\n",
    "    return predictions"
   ]
  },
  {
   "cell_type": "markdown",
   "metadata": {},
   "source": [
    "## (6) 손실함수 loss 정의하기"
   ]
  },
  {
   "cell_type": "code",
   "execution_count": 5,
   "metadata": {},
   "outputs": [],
   "source": [
    "# MSE 계산 함수\n",
    "def MSE(predictions, y):\n",
    "    return ((predictions - y) ** 2).mean()  # 두 값의 차이의 제곱의 평균    \n",
    "# 손실함수: MSE\n",
    "def loss(X, W, b, y):\n",
    "    predictions = model(X, W, b)\n",
    "    return MSE(predictions, y)"
   ]
  },
  {
   "cell_type": "markdown",
   "metadata": {},
   "source": [
    "## (7)기울기를 구하는 gradient 함수 구현하기"
   ]
  },
  {
   "cell_type": "code",
   "execution_count": 13,
   "metadata": {},
   "outputs": [],
   "source": [
    "import matplotlib.pyplot as plt\n",
    "\n",
    "# 기울기 함수\n",
    "def gradient(X, W, b, y):\n",
    "    # N은 데이터 포인트의 개수\n",
    "    N = len(y)\n",
    "        \n",
    "    # y_pred 준비\n",
    "    y_pred = model(X, W, b)\n",
    "    \n",
    "    # 공식에 맞게 gradient 계산\n",
    "    dW = 1/N * 2 * X.T.dot(y_pred - y)\n",
    "        \n",
    "    # b의 gradient 계산\n",
    "    db = 2 * (y_pred - y).mean()\n",
    "    return dW, db\n",
    "\n",
    "\n",
    "'''\n",
    "학습 함수\n",
    "    학습률 및 횟수를 지정하여 학습 진행 및 시각화\n",
    "    학습 결과 파라메터 W, b 반환\n",
    "''' \n",
    "def linear_regression_fit(X, y, W, b, l_rate = 0.0001, cnt = 1000):    \n",
    "    losses = []\n",
    "    for i in range(1, (cnt + 1)):\n",
    "        dW, db = gradient(X, W, b, y)\n",
    "        W -= l_rate * dW\n",
    "        b -= l_rate * db\n",
    "        L = loss(X, W, b, y)\n",
    "        losses.append(L)\n",
    "        if i % 10 == 0:\n",
    "            print('Iteration %d : Loss %0.4f' % (i, L))\n",
    "    plt.plot(losses)\n",
    "    plt.tight_layout()\n",
    "    plt.show()\n",
    "    return (W, b)"
   ]
  },
  {
   "cell_type": "markdown",
   "metadata": {},
   "source": [
    "## (8) 하이퍼 파라미터인 학습률 설정하기\n",
    "## (9) 모델 학습하기"
   ]
  },
  {
   "cell_type": "code",
   "execution_count": 14,
   "metadata": {},
   "outputs": [
    {
     "name": "stdout",
     "output_type": "stream",
     "text": [
      "Start(W, b): [0.03638257 0.19473419 0.98582181 0.36352998 0.74591397 0.85620587\n",
      " 0.73777733 0.29760729 0.29204019 0.62814051] 0.9442153563058118\n",
      "Iteration 10 : Loss 6253.4396\n",
      "Iteration 20 : Loss 5911.4048\n",
      "Iteration 30 : Loss 5834.7377\n",
      "Iteration 40 : Loss 5763.3842\n",
      "Iteration 50 : Loss 5694.2696\n",
      "Iteration 60 : Loss 5627.2848\n",
      "Iteration 70 : Loss 5562.3571\n",
      "Iteration 80 : Loss 5499.4170\n",
      "Iteration 90 : Loss 5438.3973\n"
     ]
    },
    {
     "name": "stdout",
     "output_type": "stream",
     "text": [
      "Iteration 100 : Loss 5379.2331\n",
      "Iteration 110 : Loss 5321.8618\n",
      "Iteration 120 : Loss 5266.2232\n",
      "Iteration 130 : Loss 5212.2588\n",
      "Iteration 140 : Loss 5159.9125\n",
      "Iteration 150 : Loss 5109.1299\n",
      "Iteration 160 : Loss 5059.8586\n",
      "Iteration 170 : Loss 5012.0481\n",
      "Iteration 180 : Loss 4965.6495\n",
      "Iteration 190 : Loss 4920.6157\n",
      "Iteration 200 : Loss 4876.9013\n",
      "Iteration 210 : Loss 4834.4623\n",
      "Iteration 220 : Loss 4793.2564\n",
      "Iteration 230 : Loss 4753.2426\n",
      "Iteration 240 : Loss 4714.3815\n",
      "Iteration 250 : Loss 4676.6350\n",
      "Iteration 260 : Loss 4639.9662\n",
      "Iteration 270 : Loss 4604.3397\n",
      "Iteration 280 : Loss 4569.7211\n",
      "Iteration 290 : Loss 4536.0773\n",
      "Iteration 300 : Loss 4503.3765\n",
      "Iteration 310 : Loss 4471.5876\n",
      "Iteration 320 : Loss 4440.6811\n",
      "Iteration 330 : Loss 4410.6280\n",
      "Iteration 340 : Loss 4381.4006\n",
      "Iteration 350 : Loss 4352.9721\n",
      "Iteration 360 : Loss 4325.3167\n",
      "Iteration 370 : Loss 4298.4093\n",
      "Iteration 380 : Loss 4272.2258\n",
      "Iteration 390 : Loss 4246.7429\n",
      "Iteration 400 : Loss 4221.9381\n",
      "Iteration 410 : Loss 4197.7896\n",
      "Iteration 420 : Loss 4174.2765\n",
      "Iteration 430 : Loss 4151.3785\n",
      "Iteration 440 : Loss 4129.0761\n",
      "Iteration 450 : Loss 4107.3503\n",
      "Iteration 460 : Loss 4086.1829\n",
      "Iteration 470 : Loss 4065.5562\n",
      "Iteration 480 : Loss 4045.4532\n",
      "Iteration 490 : Loss 4025.8575\n",
      "Iteration 500 : Loss 4006.7532\n",
      "Iteration 510 : Loss 3988.1249\n",
      "Iteration 520 : Loss 3969.9578\n",
      "Iteration 530 : Loss 3952.2376\n",
      "Iteration 540 : Loss 3934.9504\n",
      "Iteration 550 : Loss 3918.0829\n",
      "Iteration 560 : Loss 3901.6222\n",
      "Iteration 570 : Loss 3885.5557\n",
      "Iteration 580 : Loss 3869.8715\n",
      "Iteration 590 : Loss 3854.5579\n",
      "Iteration 600 : Loss 3839.6036\n",
      "Iteration 610 : Loss 3824.9978\n",
      "Iteration 620 : Loss 3810.7298\n",
      "Iteration 630 : Loss 3796.7897\n",
      "Iteration 640 : Loss 3783.1675\n",
      "Iteration 650 : Loss 3769.8538\n",
      "Iteration 660 : Loss 3756.8394\n",
      "Iteration 670 : Loss 3744.1155\n",
      "Iteration 680 : Loss 3731.6734\n",
      "Iteration 690 : Loss 3719.5049\n",
      "Iteration 700 : Loss 3707.6019\n",
      "Iteration 710 : Loss 3695.9568\n",
      "Iteration 720 : Loss 3684.5621\n",
      "Iteration 730 : Loss 3673.4104\n",
      "Iteration 740 : Loss 3662.4949\n",
      "Iteration 750 : Loss 3651.8087\n",
      "Iteration 760 : Loss 3641.3453\n",
      "Iteration 770 : Loss 3631.0984\n",
      "Iteration 780 : Loss 3621.0619\n",
      "Iteration 790 : Loss 3611.2298\n",
      "Iteration 800 : Loss 3601.5964\n",
      "Iteration 810 : Loss 3592.1561\n",
      "Iteration 820 : Loss 3582.9037\n",
      "Iteration 830 : Loss 3573.8339\n",
      "Iteration 840 : Loss 3564.9417\n",
      "Iteration 850 : Loss 3556.2222\n",
      "Iteration 860 : Loss 3547.6708\n",
      "Iteration 870 : Loss 3539.2829\n",
      "Iteration 880 : Loss 3531.0541\n",
      "Iteration 890 : Loss 3522.9802\n",
      "Iteration 900 : Loss 3515.0570\n",
      "Iteration 910 : Loss 3507.2806\n",
      "Iteration 920 : Loss 3499.6470\n",
      "Iteration 930 : Loss 3492.1526\n",
      "Iteration 940 : Loss 3484.7937\n",
      "Iteration 950 : Loss 3477.5668\n",
      "Iteration 960 : Loss 3470.4685\n",
      "Iteration 970 : Loss 3463.4956\n",
      "Iteration 980 : Loss 3456.6448\n",
      "Iteration 990 : Loss 3449.9131\n",
      "Iteration 1000 : Loss 3443.2974\n",
      "Iteration 1010 : Loss 3436.7949\n",
      "Iteration 1020 : Loss 3430.4028\n",
      "Iteration 1030 : Loss 3424.1184\n",
      "Iteration 1040 : Loss 3417.9389\n",
      "Iteration 1050 : Loss 3411.8619\n",
      "Iteration 1060 : Loss 3405.8849\n",
      "Iteration 1070 : Loss 3400.0055\n",
      "Iteration 1080 : Loss 3394.2214\n",
      "Iteration 1090 : Loss 3388.5302\n",
      "Iteration 1100 : Loss 3382.9299\n",
      "Iteration 1110 : Loss 3377.4183\n",
      "Iteration 1120 : Loss 3371.9933\n",
      "Iteration 1130 : Loss 3366.6529\n",
      "Iteration 1140 : Loss 3361.3953\n",
      "Iteration 1150 : Loss 3356.2185\n",
      "Iteration 1160 : Loss 3351.1207\n",
      "Iteration 1170 : Loss 3346.1001\n",
      "Iteration 1180 : Loss 3341.1550\n",
      "Iteration 1190 : Loss 3336.2838\n",
      "Iteration 1200 : Loss 3331.4849\n",
      "Iteration 1210 : Loss 3326.7566\n",
      "Iteration 1220 : Loss 3322.0974\n",
      "Iteration 1230 : Loss 3317.5059\n",
      "Iteration 1240 : Loss 3312.9806\n",
      "Iteration 1250 : Loss 3308.5201\n",
      "Iteration 1260 : Loss 3304.1231\n",
      "Iteration 1270 : Loss 3299.7882\n",
      "Iteration 1280 : Loss 3295.5141\n",
      "Iteration 1290 : Loss 3291.2997\n",
      "Iteration 1300 : Loss 3287.1437\n",
      "Iteration 1310 : Loss 3283.0449\n",
      "Iteration 1320 : Loss 3279.0022\n",
      "Iteration 1330 : Loss 3275.0144\n",
      "Iteration 1340 : Loss 3271.0805\n",
      "Iteration 1350 : Loss 3267.1995\n",
      "Iteration 1360 : Loss 3263.3702\n",
      "Iteration 1370 : Loss 3259.5917\n",
      "Iteration 1380 : Loss 3255.8631\n",
      "Iteration 1390 : Loss 3252.1833\n",
      "Iteration 1400 : Loss 3248.5516\n",
      "Iteration 1410 : Loss 3244.9668\n",
      "Iteration 1420 : Loss 3241.4283\n",
      "Iteration 1430 : Loss 3237.9352\n",
      "Iteration 1440 : Loss 3234.4865\n",
      "Iteration 1450 : Loss 3231.0816\n",
      "Iteration 1460 : Loss 3227.7196\n",
      "Iteration 1470 : Loss 3224.3997\n",
      "Iteration 1480 : Loss 3221.1213\n",
      "Iteration 1490 : Loss 3217.8836\n",
      "Iteration 1500 : Loss 3214.6858\n",
      "Iteration 1510 : Loss 3211.5273\n",
      "Iteration 1520 : Loss 3208.4075\n",
      "Iteration 1530 : Loss 3205.3256\n",
      "Iteration 1540 : Loss 3202.2810\n",
      "Iteration 1550 : Loss 3199.2732\n",
      "Iteration 1560 : Loss 3196.3014\n",
      "Iteration 1570 : Loss 3193.3651\n",
      "Iteration 1580 : Loss 3190.4636\n",
      "Iteration 1590 : Loss 3187.5966\n",
      "Iteration 1600 : Loss 3184.7633\n",
      "Iteration 1610 : Loss 3181.9632\n",
      "Iteration 1620 : Loss 3179.1959\n",
      "Iteration 1630 : Loss 3176.4607\n",
      "Iteration 1640 : Loss 3173.7572\n",
      "Iteration 1650 : Loss 3171.0850\n",
      "Iteration 1660 : Loss 3168.4434\n",
      "Iteration 1670 : Loss 3165.8320\n",
      "Iteration 1680 : Loss 3163.2505\n",
      "Iteration 1690 : Loss 3160.6982\n",
      "Iteration 1700 : Loss 3158.1749\n",
      "Iteration 1710 : Loss 3155.6800\n",
      "Iteration 1720 : Loss 3153.2131\n",
      "Iteration 1730 : Loss 3150.7739\n",
      "Iteration 1740 : Loss 3148.3618\n",
      "Iteration 1750 : Loss 3145.9766\n",
      "Iteration 1760 : Loss 3143.6178\n",
      "Iteration 1770 : Loss 3141.2850\n",
      "Iteration 1780 : Loss 3138.9779\n",
      "Iteration 1790 : Loss 3136.6961\n",
      "Iteration 1800 : Loss 3134.4393\n",
      "Iteration 1810 : Loss 3132.2071\n",
      "Iteration 1820 : Loss 3129.9991\n",
      "Iteration 1830 : Loss 3127.8151\n",
      "Iteration 1840 : Loss 3125.6547\n",
      "Iteration 1850 : Loss 3123.5175\n",
      "Iteration 1860 : Loss 3121.4033\n",
      "Iteration 1870 : Loss 3119.3117\n",
      "Iteration 1880 : Loss 3117.2425\n",
      "Iteration 1890 : Loss 3115.1954\n",
      "Iteration 1900 : Loss 3113.1699\n",
      "Iteration 1910 : Loss 3111.1660\n",
      "Iteration 1920 : Loss 3109.1832\n",
      "Iteration 1930 : Loss 3107.2213\n",
      "Iteration 1940 : Loss 3105.2801\n",
      "Iteration 1950 : Loss 3103.3592\n",
      "Iteration 1960 : Loss 3101.4584\n",
      "Iteration 1970 : Loss 3099.5775\n",
      "Iteration 1980 : Loss 3097.7161\n",
      "Iteration 1990 : Loss 3095.8742\n",
      "Iteration 2000 : Loss 3094.0513\n",
      "Iteration 2010 : Loss 3092.2472\n",
      "Iteration 2020 : Loss 3090.4618\n",
      "Iteration 2030 : Loss 3088.6948\n",
      "Iteration 2040 : Loss 3086.9460\n",
      "Iteration 2050 : Loss 3085.2150\n",
      "Iteration 2060 : Loss 3083.5019\n",
      "Iteration 2070 : Loss 3081.8062\n",
      "Iteration 2080 : Loss 3080.1278\n",
      "Iteration 2090 : Loss 3078.4665\n",
      "Iteration 2100 : Loss 3076.8220\n",
      "Iteration 2110 : Loss 3075.1943\n",
      "Iteration 2120 : Loss 3073.5830\n",
      "Iteration 2130 : Loss 3071.9880\n",
      "Iteration 2140 : Loss 3070.4091\n",
      "Iteration 2150 : Loss 3068.8461\n",
      "Iteration 2160 : Loss 3067.2987\n",
      "Iteration 2170 : Loss 3065.7669\n",
      "Iteration 2180 : Loss 3064.2505\n",
      "Iteration 2190 : Loss 3062.7492\n",
      "Iteration 2200 : Loss 3061.2629\n",
      "Iteration 2210 : Loss 3059.7914\n",
      "Iteration 2220 : Loss 3058.3346\n",
      "Iteration 2230 : Loss 3056.8922\n",
      "Iteration 2240 : Loss 3055.4642\n",
      "Iteration 2250 : Loss 3054.0503\n",
      "Iteration 2260 : Loss 3052.6503\n",
      "Iteration 2270 : Loss 3051.2642\n",
      "Iteration 2280 : Loss 3049.8918\n",
      "Iteration 2290 : Loss 3048.5329\n",
      "Iteration 2300 : Loss 3047.1874\n",
      "Iteration 2310 : Loss 3045.8550\n",
      "Iteration 2320 : Loss 3044.5358\n",
      "Iteration 2330 : Loss 3043.2295\n",
      "Iteration 2340 : Loss 3041.9359\n",
      "Iteration 2350 : Loss 3040.6550\n",
      "Iteration 2360 : Loss 3039.3866\n",
      "Iteration 2370 : Loss 3038.1305\n",
      "Iteration 2380 : Loss 3036.8867\n",
      "Iteration 2390 : Loss 3035.6550\n",
      "Iteration 2400 : Loss 3034.4352\n",
      "Iteration 2410 : Loss 3033.2272\n",
      "Iteration 2420 : Loss 3032.0310\n",
      "Iteration 2430 : Loss 3030.8463\n",
      "Iteration 2440 : Loss 3029.6731\n",
      "Iteration 2450 : Loss 3028.5112\n",
      "Iteration 2460 : Loss 3027.3605\n",
      "Iteration 2470 : Loss 3026.2209\n",
      "Iteration 2480 : Loss 3025.0922\n",
      "Iteration 2490 : Loss 3023.9744\n",
      "Iteration 2500 : Loss 3022.8674\n",
      "Iteration 2510 : Loss 3021.7709\n",
      "Iteration 2520 : Loss 3020.6850\n",
      "Iteration 2530 : Loss 3019.6094\n",
      "Iteration 2540 : Loss 3018.5441\n",
      "Iteration 2550 : Loss 3017.4891\n",
      "Iteration 2560 : Loss 3016.4440\n",
      "Iteration 2570 : Loss 3015.4090\n",
      "Iteration 2580 : Loss 3014.3837\n",
      "Iteration 2590 : Loss 3013.3683\n",
      "Iteration 2600 : Loss 3012.3625\n",
      "Iteration 2610 : Loss 3011.3662\n",
      "Iteration 2620 : Loss 3010.3794\n",
      "Iteration 2630 : Loss 3009.4020\n",
      "Iteration 2640 : Loss 3008.4338\n",
      "Iteration 2650 : Loss 3007.4747\n",
      "Iteration 2660 : Loss 3006.5248\n",
      "Iteration 2670 : Loss 3005.5838\n",
      "Iteration 2680 : Loss 3004.6516\n",
      "Iteration 2690 : Loss 3003.7283\n",
      "Iteration 2700 : Loss 3002.8136\n",
      "Iteration 2710 : Loss 3001.9076\n",
      "Iteration 2720 : Loss 3001.0101\n",
      "Iteration 2730 : Loss 3000.1210\n",
      "Iteration 2740 : Loss 2999.2403\n",
      "Iteration 2750 : Loss 2998.3678\n",
      "Iteration 2760 : Loss 2997.5035\n",
      "Iteration 2770 : Loss 2996.6473\n",
      "Iteration 2780 : Loss 2995.7991\n",
      "Iteration 2790 : Loss 2994.9588\n",
      "Iteration 2800 : Loss 2994.1263\n",
      "Iteration 2810 : Loss 2993.3017\n",
      "Iteration 2820 : Loss 2992.4847\n",
      "Iteration 2830 : Loss 2991.6754\n",
      "Iteration 2840 : Loss 2990.8735\n",
      "Iteration 2850 : Loss 2990.0792\n",
      "Iteration 2860 : Loss 2989.2922\n",
      "Iteration 2870 : Loss 2988.5125\n",
      "Iteration 2880 : Loss 2987.7401\n",
      "Iteration 2890 : Loss 2986.9748\n",
      "Iteration 2900 : Loss 2986.2166\n",
      "Iteration 2910 : Loss 2985.4654\n",
      "Iteration 2920 : Loss 2984.7212\n",
      "Iteration 2930 : Loss 2983.9839\n",
      "Iteration 2940 : Loss 2983.2534\n",
      "Iteration 2950 : Loss 2982.5296\n",
      "Iteration 2960 : Loss 2981.8125\n",
      "Iteration 2970 : Loss 2981.1020\n",
      "Iteration 2980 : Loss 2980.3981\n",
      "Iteration 2990 : Loss 2979.7006\n",
      "Iteration 3000 : Loss 2979.0096\n"
     ]
    },
    {
     "data": {
      "image/png": "[encoded data removed]",
      "text/plain": [
       "<Figure size 640x480 with 1 Axes>"
      ]
     },
     "metadata": {},
     "output_type": "display_data"
    },
    {
     "name": "stdout",
     "output_type": "stream",
     "text": [
      "End(W, b): [  49.63018271 -151.32118064  447.07520609  296.01539146  -39.326118\n",
      "  -85.58974353 -204.78885478  147.04808547  336.84367164  138.85371674] 151.54755649216594\n"
     ]
    }
   ],
   "source": [
    "import numpy as np\n",
    "\n",
    "# 초기 파라메터: W 백터, b 상수\n",
    "W = np.random.rand(X_train.shape[1])\n",
    "b = np.random.rand()\n",
    "print('Start(W, b):', W, b)\n",
    "\n",
    "# 학습률\n",
    "LEARNING_RATE = 0.1\n",
    "\n",
    "# 학습\n",
    "(W, b) = linear_regression_fit(X_train, y_train, W, b, LEARNING_RATE, 3000)\n",
    "print('End(W, b):', W, b)\n"
   ]
  },
  {
   "cell_type": "markdown",
   "metadata": {},
   "source": [
    "## (10) test 데이터에 대한 성능 확인하기"
   ]
  },
  {
   "cell_type": "code",
   "execution_count": 11,
   "metadata": {},
   "outputs": [
    {
     "name": "stdout",
     "output_type": "stream",
     "text": [
      "mse: 2870.478681135662\n"
     ]
    }
   ],
   "source": [
    "prediction = model(X_test, W, b)\n",
    "mse = loss(X_test, W, b, y_test)\n",
    "print('mse:', mse)"
   ]
  },
  {
   "cell_type": "markdown",
   "metadata": {},
   "source": [
    "## (11) 정답 데이터와 예측한 데이터 시각화하기"
   ]
  },
  {
   "cell_type": "code",
   "execution_count": 15,
   "metadata": {},
   "outputs": [
    {
     "data": {
      "image/png": "[encoded data removed]",
      "text/plain": [
       "<Figure size 640x480 with 1 Axes>"
      ]
     },
     "metadata": {},
     "output_type": "display_data"
    }
   ],
   "source": [
    "plt.scatter(X_test[:, 0], y_test)\n",
    "plt.scatter(X_test[:, 0], prediction)\n",
    "plt.tight_layout()\n",
    "plt.show()"
   ]
  }
 ],
 "metadata": {
  "kernelspec": {
   "display_name": "base",
   "language": "python",
   "name": "python3"
  },
  "language_info": {
   "codemirror_mode": {
    "name": "ipython",
    "version": 3
   },
   "file_extension": ".py",
   "mimetype": "text/x-python",
   "name": "python",
   "nbconvert_exporter": "python",
   "pygments_lexer": "ipython3",
   "version": "3.10.9"
  },
  "orig_nbformat": 4
 },
 "nbformat": 4,
 "nbformat_minor": 2
}
