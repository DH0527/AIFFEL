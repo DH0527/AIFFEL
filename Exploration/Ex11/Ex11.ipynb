{
 "cells": [
  {
   "attachments": {
    "image.png": {
     "image/png": "[encoded data removed]"
    }
   },
   "cell_type": "markdown",
   "id": "6fb82341",
   "metadata": {},
   "source": [
    "# 뉴스 요약봇 만들기\n",
    "---\n",
    "## 텍스트 요약(Text Summarization)\n",
    "긴 길이의 문서(Document) 원문을 핵심 주제만으로 구성된 짧은 요약(Summary) 문장들로 변환하는 것  \n",
    "- 예> 큰 텍스트인 뉴스 기사로 작은 텍스트인 뉴스 제목을 만들어내는 것\n",
    "- 요약 전후에 정보 손실 발생이 최소화되어야 한다 :  정보를 압축하는 과정\n",
    "\n",
    "### 추출적 요약(Extractive Summarization)\n",
    "원문에서 문장들을 추출해서 요약하는 방식  \n",
    "결과로 나온 문장들 간의 호응이 자연스럽지 않을 수 있다  \n",
    "문장 분류(Text Classification) 문제  \n",
    "\n",
    "**텍스트 랭크(TextRank) 알고리즘**\n",
    "- 가장 잘 대표하는 단어들로 이루어진 핵심문장을 효과적으로 찾아내는 알고리즘\n",
    "- 10개의 문장으로 구성된 텍스트가 있다면, 그중 핵심적인 문장 3개를 꺼내와서 3개의 문장으로 구성된 요약문을 만드는 식  \n",
    "- 전통적인 머신러닝 방식 (ex> 네이버 뉴스 요약봇)\n",
    "- 요약문에 사용된 문장 3개가 원문에 그대로 있다\n",
    "\n",
    "### 추상적 요약(Abstractive Summarization)\n",
    "원문으로부터 내용이 요약된 새로운 문장을 생성해내는 것  \n",
    "결과로 나온 문장이 원문에 원래 없던 문장일 수도 있다  \n",
    "자연어 처리 분야 **자연어 생성(Natural Language Generation, NLG)** 영역\n",
    "\n",
    "**구글 - 뉴스 기사 내용으로부터 자동으로 뉴스 제목을 뽑아내는 텍스트 요약 모델**\n",
    "기계학습 기반 텍스트 요약을 위해 시도한 몇 가지 접근법\n",
    "1. 텍스트마이닝 분야의 '역문서빈도(IDF)같은' 지표를 활용해 문서 안에서 중요해 보이는 부분을 추출하고 그걸 요약문에 담는 방식\n",
    "2. 사람이 하는 것처럼 본문 일부를 발췌하도록 강제하지 않고 내용을 고쳐 쓸 수 있도록 허용하는 방식 : 추상적 요약\n",
    "- 추상적 요약이 더 나은 방식 - 비슷한 분량의 단어에 더 많은 정보를 보존하도록, 원문에 없는 단어를 썼다\n",
    "3. 딥러닝 기법, **'시퀀스-투-시퀀스 러닝'(seq2seq) 방식**을 적용 \n",
    "- 뉴스 텍스트를 읽혔을 때 적절한 헤드라인을 쓰게 만드는 식으로 이 모델을 훈련시킬 수 있다는 점을 깨달았다.\n",
    "\n",
    "### seq2seq 모델\n",
    "![image.png](attachment:image.png)  \n",
    "두 개의 RNN 아키텍처를 사용하여 입력 시퀀스로부터 출력 시퀀스를 생성해 내는 자연어 생성 모델  \n",
    "1. 첫 번째 RNN (인코더) : 원문을 하나의 고정된 **컨텍스트 벡터(context vector)**로 변환\n",
    "- 컨텍스트 벡터(context vector) : 문맥 정보를 가지고 있는 벡터\n",
    "2. 두 번째 RNN (디코더) : 컨텍스트 벡터를 전달받아 한 단어씩 생성해내서 요약 문장을 완성\n",
    "\n",
    "인코더/디코더 - LSTM 사용\n",
    "- 다음 time step의 셀에 hidden state뿐만 아니라, cell state도 함께 전달한다 (<-> 바닐라 RNN)\n",
    "- 컨텍스트 벡터도 h(hidden state)와 c(cell state) 값 모두 존재해야 한다.\n",
    "시작토큰(SOS) 입력시 종료 토큰(EOS)을 예측하는 시점까지 각 시점마다 단어 생성\n",
    "- 전처리 필요 : 훈련 데이터의 예측 대상 시쿼스의 앞/뒤에 시작토큰/종료토큰을 넣어주어야 한다.\n",
    "\n",
    "**어텐션 메커니즘(Attention Mechanism)**\n",
    "- 인코더의 모든 step의 hidden state의 정보가 컨텍스트 벡터에 전부 반영되도록 하는 것\n",
    "- 디코더의 현재 time step의 예측에 인코더의 각 step이 얼마나 영향을 미치는지에 따른 가중합으로 계산\n",
    "- 디코더의 현재 스텝이 어디냐에 따라 컨텍스트 벡터를 구성하기 위한 인코더 hidden state의 가중치 값은 계속 달라진다\n",
    "\n",
    "\n",
    "### 요약\n",
    "1. **seq2seq**를 사용\n",
    "2. RNN 계열 중 **LSTM을 사용** - hidden state뿐만 아니라 cell state도 사용해야 한다\n",
    "3. 디코더의 예측 시퀀스에는 시작 토큰 SOS와 예측 토큰 EOS를 시퀀스의 앞, 뒤로 붙입니다.\n",
    "4. seq2seq를 구동시키면 디코더는 시작 토큰을 입력받아 예측을 시작합니다.\n",
    "5. seq2seq 기본 모델과 달리, **어텐션 메커니즘**을 이용해 인코더의 **hidden state의 중요도를 취합**한 컨텍스트 벡터를 디코더 스텝별로 계산합니다.\n",
    "6. 계산된 컨텍스트 벡터를 이용해서 디코더는 다음 등장할 단어를 예측합니다.\n",
    "---\n",
    "## 데이터 준비하기\n",
    "---\n",
    "### NLTK(Natural Language Toolkit)의 불용어(stopwords) 사용\n",
    "조사, 접미사와 같이 문장에는 자주 등장하지만, 의미를 분석하고 요약하는 데는 거의 의미가 없는 100여개의 불용어가 미리 정리되어 있다  "
   ]
  },
  {
   "cell_type": "code",
   "execution_count": 1,
   "id": "4b6e2711",
   "metadata": {},
   "outputs": [
    {
     "name": "stderr",
     "output_type": "stream",
     "text": [
      "[nltk_data] Downloading package stopwords to /aiffel/nltk_data...\n",
      "[nltk_data]   Package stopwords is already up-to-date!\n"
     ]
    }
   ],
   "source": [
    "import nltk\n",
    "nltk.download('stopwords')\n",
    "\n",
    "import numpy as np\n",
    "import pandas as pd\n",
    "import os\n",
    "import re\n",
    "import matplotlib.pyplot as plt\n",
    "from nltk.corpus import stopwords\n",
    "from bs4 import BeautifulSoup \n",
    "from tensorflow.keras.preprocessing.text import Tokenizer \n",
    "from tensorflow.keras.preprocessing.sequence import pad_sequences\n",
    "import urllib.request\n",
    "import warnings\n",
    "warnings.filterwarnings(\"ignore\", category=UserWarning, module='bs4')\n"
   ]
  },
  {
   "cell_type": "code",
   "execution_count": 2,
   "id": "65ffbeff",
   "metadata": {},
   "outputs": [
    {
     "name": "stdout",
     "output_type": "stream",
     "text": [
      "전체 샘플수 : 100000\n"
     ]
    },
    {
     "data": {
      "text/html": [
       "<div>\n",
       "<style scoped>\n",
       "    .dataframe tbody tr th:only-of-type {\n",
       "        vertical-align: middle;\n",
       "    }\n",
       "\n",
       "    .dataframe tbody tr th {\n",
       "        vertical-align: top;\n",
       "    }\n",
       "\n",
       "    .dataframe thead th {\n",
       "        text-align: right;\n",
       "    }\n",
       "</style>\n",
       "<table border=\"1\" class=\"dataframe\">\n",
       "  <thead>\n",
       "    <tr style=\"text-align: right;\">\n",
       "      <th></th>\n",
       "      <th>Id</th>\n",
       "      <th>ProductId</th>\n",
       "      <th>UserId</th>\n",
       "      <th>ProfileName</th>\n",
       "      <th>HelpfulnessNumerator</th>\n",
       "      <th>HelpfulnessDenominator</th>\n",
       "      <th>Score</th>\n",
       "      <th>Time</th>\n",
       "      <th>Summary</th>\n",
       "      <th>Text</th>\n",
       "    </tr>\n",
       "  </thead>\n",
       "  <tbody>\n",
       "    <tr>\n",
       "      <th>0</th>\n",
       "      <td>1</td>\n",
       "      <td>B001E4KFG0</td>\n",
       "      <td>A3SGXH7AUHU8GW</td>\n",
       "      <td>delmartian</td>\n",
       "      <td>1</td>\n",
       "      <td>1</td>\n",
       "      <td>5</td>\n",
       "      <td>1303862400</td>\n",
       "      <td>Good Quality Dog Food</td>\n",
       "      <td>I have bought several of the Vitality canned d...</td>\n",
       "    </tr>\n",
       "    <tr>\n",
       "      <th>1</th>\n",
       "      <td>2</td>\n",
       "      <td>B00813GRG4</td>\n",
       "      <td>A1D87F6ZCVE5NK</td>\n",
       "      <td>dll pa</td>\n",
       "      <td>0</td>\n",
       "      <td>0</td>\n",
       "      <td>1</td>\n",
       "      <td>1346976000</td>\n",
       "      <td>Not as Advertised</td>\n",
       "      <td>Product arrived labeled as Jumbo Salted Peanut...</td>\n",
       "    </tr>\n",
       "    <tr>\n",
       "      <th>2</th>\n",
       "      <td>3</td>\n",
       "      <td>B000LQOCH0</td>\n",
       "      <td>ABXLMWJIXXAIN</td>\n",
       "      <td>Natalia Corres \"Natalia Corres\"</td>\n",
       "      <td>1</td>\n",
       "      <td>1</td>\n",
       "      <td>4</td>\n",
       "      <td>1219017600</td>\n",
       "      <td>\"Delight\" says it all</td>\n",
       "      <td>This is a confection that has been around a fe...</td>\n",
       "    </tr>\n",
       "    <tr>\n",
       "      <th>3</th>\n",
       "      <td>4</td>\n",
       "      <td>B000UA0QIQ</td>\n",
       "      <td>A395BORC6FGVXV</td>\n",
       "      <td>Karl</td>\n",
       "      <td>3</td>\n",
       "      <td>3</td>\n",
       "      <td>2</td>\n",
       "      <td>1307923200</td>\n",
       "      <td>Cough Medicine</td>\n",
       "      <td>If you are looking for the secret ingredient i...</td>\n",
       "    </tr>\n",
       "    <tr>\n",
       "      <th>4</th>\n",
       "      <td>5</td>\n",
       "      <td>B006K2ZZ7K</td>\n",
       "      <td>A1UQRSCLF8GW1T</td>\n",
       "      <td>Michael D. Bigham \"M. Wassir\"</td>\n",
       "      <td>0</td>\n",
       "      <td>0</td>\n",
       "      <td>5</td>\n",
       "      <td>1350777600</td>\n",
       "      <td>Great taffy</td>\n",
       "      <td>Great taffy at a great price.  There was a wid...</td>\n",
       "    </tr>\n",
       "  </tbody>\n",
       "</table>\n",
       "</div>"
      ],
      "text/plain": [
       "   Id   ProductId          UserId                      ProfileName  \\\n",
       "0   1  B001E4KFG0  A3SGXH7AUHU8GW                       delmartian   \n",
       "1   2  B00813GRG4  A1D87F6ZCVE5NK                           dll pa   \n",
       "2   3  B000LQOCH0   ABXLMWJIXXAIN  Natalia Corres \"Natalia Corres\"   \n",
       "3   4  B000UA0QIQ  A395BORC6FGVXV                             Karl   \n",
       "4   5  B006K2ZZ7K  A1UQRSCLF8GW1T    Michael D. Bigham \"M. Wassir\"   \n",
       "\n",
       "   HelpfulnessNumerator  HelpfulnessDenominator  Score        Time  \\\n",
       "0                     1                       1      5  1303862400   \n",
       "1                     0                       0      1  1346976000   \n",
       "2                     1                       1      4  1219017600   \n",
       "3                     3                       3      2  1307923200   \n",
       "4                     0                       0      5  1350777600   \n",
       "\n",
       "                 Summary                                               Text  \n",
       "0  Good Quality Dog Food  I have bought several of the Vitality canned d...  \n",
       "1      Not as Advertised  Product arrived labeled as Jumbo Salted Peanut...  \n",
       "2  \"Delight\" says it all  This is a confection that has been around a fe...  \n",
       "3         Cough Medicine  If you are looking for the secret ingredient i...  \n",
       "4            Great taffy  Great taffy at a great price.  There was a wid...  "
      ]
     },
     "execution_count": 2,
     "metadata": {},
     "output_type": "execute_result"
    }
   ],
   "source": [
    "data = pd.read_csv(os.getenv(\"HOME\")+\"/aiffel/news_summarization/data/Reviews.csv\", nrows=100000)\n",
    "print('전체 샘플수 :', (len(data)))\n",
    "data.head()"
   ]
  },
  {
   "cell_type": "markdown",
   "id": "481ab233",
   "metadata": {},
   "source": []
  },
  {
   "cell_type": "code",
   "execution_count": 3,
   "id": "c33344b6",
   "metadata": {},
   "outputs": [
    {
     "data": {
      "text/html": [
       "<div>\n",
       "<style scoped>\n",
       "    .dataframe tbody tr th:only-of-type {\n",
       "        vertical-align: middle;\n",
       "    }\n",
       "\n",
       "    .dataframe tbody tr th {\n",
       "        vertical-align: top;\n",
       "    }\n",
       "\n",
       "    .dataframe thead th {\n",
       "        text-align: right;\n",
       "    }\n",
       "</style>\n",
       "<table border=\"1\" class=\"dataframe\">\n",
       "  <thead>\n",
       "    <tr style=\"text-align: right;\">\n",
       "      <th></th>\n",
       "      <th>Summary</th>\n",
       "      <th>Text</th>\n",
       "    </tr>\n",
       "  </thead>\n",
       "  <tbody>\n",
       "    <tr>\n",
       "      <th>19290</th>\n",
       "      <td>slow to ship and not as fresh as expected</td>\n",
       "      <td>Ordered this item as a birthday gift and \"thou...</td>\n",
       "    </tr>\n",
       "    <tr>\n",
       "      <th>56676</th>\n",
       "      <td>Spicy Thai</td>\n",
       "      <td>When I saw the Spicy Thai chips, I knew i had ...</td>\n",
       "    </tr>\n",
       "    <tr>\n",
       "      <th>48494</th>\n",
       "      <td>Good if you like banana nut bread!</td>\n",
       "      <td>I received this product complimentary from Inf...</td>\n",
       "    </tr>\n",
       "    <tr>\n",
       "      <th>2149</th>\n",
       "      <td>what an awesome idea!</td>\n",
       "      <td>this makes feeding on the go so easy! my one-y...</td>\n",
       "    </tr>\n",
       "    <tr>\n",
       "      <th>15303</th>\n",
       "      <td>Delicious , Nice soft texture</td>\n",
       "      <td>I really was expecting some nearly straw-like ...</td>\n",
       "    </tr>\n",
       "    <tr>\n",
       "      <th>19053</th>\n",
       "      <td>Perfect!</td>\n",
       "      <td>This was perfect for my purposes! I made a per...</td>\n",
       "    </tr>\n",
       "    <tr>\n",
       "      <th>88812</th>\n",
       "      <td>our dog won't eat this!  loves the turkey Sojo...</td>\n",
       "      <td>perhaps it's not fair to give this Sojos Beef ...</td>\n",
       "    </tr>\n",
       "    <tr>\n",
       "      <th>19732</th>\n",
       "      <td>Does NOT promote healthy growth and development</td>\n",
       "      <td>I was hoping that the new recipe would include...</td>\n",
       "    </tr>\n",
       "    <tr>\n",
       "      <th>10809</th>\n",
       "      <td>What Can I Say? It's Good, Creamy Peanut Butter</td>\n",
       "      <td>This is just like the smooth, reduced fat Skip...</td>\n",
       "    </tr>\n",
       "    <tr>\n",
       "      <th>28682</th>\n",
       "      <td>Tastes good.</td>\n",
       "      <td>I like this drink. It is a little bit sweet fo...</td>\n",
       "    </tr>\n",
       "    <tr>\n",
       "      <th>30024</th>\n",
       "      <td>This Bread Mix is Aces!</td>\n",
       "      <td>This is by far the best GF bread mix I've trie...</td>\n",
       "    </tr>\n",
       "    <tr>\n",
       "      <th>46542</th>\n",
       "      <td>Great, But Buy in Bulk for MUCH Cheaper</td>\n",
       "      <td>I use powdered peanut butter for cooking and s...</td>\n",
       "    </tr>\n",
       "    <tr>\n",
       "      <th>1454</th>\n",
       "      <td>Chicken noodle</td>\n",
       "      <td>A bit dry but still good. They may be perfectl...</td>\n",
       "    </tr>\n",
       "    <tr>\n",
       "      <th>14412</th>\n",
       "      <td>Great Product. Cleans teeth</td>\n",
       "      <td>When we adopted our 8 year old Basset Hound, h...</td>\n",
       "    </tr>\n",
       "    <tr>\n",
       "      <th>57681</th>\n",
       "      <td>German Gummie Bears are the best!</td>\n",
       "      <td>I have to be one of the biggest customers for ...</td>\n",
       "    </tr>\n",
       "  </tbody>\n",
       "</table>\n",
       "</div>"
      ],
      "text/plain": [
       "                                                 Summary  \\\n",
       "19290          slow to ship and not as fresh as expected   \n",
       "56676                                         Spicy Thai   \n",
       "48494                 Good if you like banana nut bread!   \n",
       "2149                               what an awesome idea!   \n",
       "15303                      Delicious , Nice soft texture   \n",
       "19053                                           Perfect!   \n",
       "88812  our dog won't eat this!  loves the turkey Sojo...   \n",
       "19732    Does NOT promote healthy growth and development   \n",
       "10809    What Can I Say? It's Good, Creamy Peanut Butter   \n",
       "28682                                       Tastes good.   \n",
       "30024                            This Bread Mix is Aces!   \n",
       "46542            Great, But Buy in Bulk for MUCH Cheaper   \n",
       "1454                                      Chicken noodle   \n",
       "14412                        Great Product. Cleans teeth   \n",
       "57681                  German Gummie Bears are the best!   \n",
       "\n",
       "                                                    Text  \n",
       "19290  Ordered this item as a birthday gift and \"thou...  \n",
       "56676  When I saw the Spicy Thai chips, I knew i had ...  \n",
       "48494  I received this product complimentary from Inf...  \n",
       "2149   this makes feeding on the go so easy! my one-y...  \n",
       "15303  I really was expecting some nearly straw-like ...  \n",
       "19053  This was perfect for my purposes! I made a per...  \n",
       "88812  perhaps it's not fair to give this Sojos Beef ...  \n",
       "19732  I was hoping that the new recipe would include...  \n",
       "10809  This is just like the smooth, reduced fat Skip...  \n",
       "28682  I like this drink. It is a little bit sweet fo...  \n",
       "30024  This is by far the best GF bread mix I've trie...  \n",
       "46542  I use powdered peanut butter for cooking and s...  \n",
       "1454   A bit dry but still good. They may be perfectl...  \n",
       "14412  When we adopted our 8 year old Basset Hound, h...  \n",
       "57681  I have to be one of the biggest customers for ...  "
      ]
     },
     "execution_count": 3,
     "metadata": {},
     "output_type": "execute_result"
    }
   ],
   "source": [
    "# Summary 열과 Text 열만 훈련에 사용 >> data로 부터 두 열만 추출\n",
    "data = data[['Summary', 'Text']]\n",
    "data.head()\n",
    "\n",
    "#랜덤한 15개 샘플 출력\n",
    "data.sample(15)"
   ]
  },
  {
   "cell_type": "markdown",
   "id": "5f973a63",
   "metadata": {},
   "source": [
    "---\n",
    "## 데이터 전처리\n",
    "---\n",
    "### 중복 샘플과 NULL 값 존재하는 샘플 제거"
   ]
  },
  {
   "cell_type": "code",
   "execution_count": 4,
   "id": "38b0e3ab",
   "metadata": {},
   "outputs": [
    {
     "name": "stdout",
     "output_type": "stream",
     "text": [
      "Text 열에서 중복을 배제한 유일한 샘플의 수 : 88426\n",
      "Summary 열에서 중복을 배제한 유일한 샘플의 수 : 72348\n"
     ]
    }
   ],
   "source": [
    "## 중복 샘플 유무 확인\n",
    "print('Text 열에서 중복을 배제한 유일한 샘플의 수 :', data['Text'].nunique())\n",
    "print('Summary 열에서 중복을 배제한 유일한 샘플의 수 :', data['Summary'].nunique())"
   ]
  },
  {
   "cell_type": "code",
   "execution_count": 5,
   "id": "1bac7cf1",
   "metadata": {},
   "outputs": [
    {
     "name": "stdout",
     "output_type": "stream",
     "text": [
      "전체 샘플수 : 88426\n"
     ]
    }
   ],
   "source": [
    "# Text 자체가 중복이 된 경우는 중복 샘플이므로 제거\n",
    "# inplace=True 를 설정하면 DataFrame 타입 값을 return 하지 않고 data 내부를 직접적으로 바꿉니다\n",
    "data.drop_duplicates(subset = ['Text'], inplace=True)\n",
    "print('전체 샘플수 :', (len(data)))"
   ]
  },
  {
   "cell_type": "code",
   "execution_count": 6,
   "id": "f2591613",
   "metadata": {},
   "outputs": [
    {
     "name": "stdout",
     "output_type": "stream",
     "text": [
      "Summary    1\n",
      "Text       0\n",
      "dtype: int64\n"
     ]
    }
   ],
   "source": [
    "# 데이터프레임에 Null 값이 있는지 확인\n",
    "print(data.isnull().sum())"
   ]
  },
  {
   "cell_type": "code",
   "execution_count": 7,
   "id": "5757b3a0",
   "metadata": {},
   "outputs": [
    {
     "name": "stdout",
     "output_type": "stream",
     "text": [
      "전체 샘플수 : 88425\n"
     ]
    }
   ],
   "source": [
    "# 데이터프레임에 Null 값 제거\n",
    "data.dropna(axis=0, inplace=True)\n",
    "print('전체 샘플수 :', (len(data)))"
   ]
  },
  {
   "cell_type": "markdown",
   "id": "bde520b2",
   "metadata": {},
   "source": [
    "### 텍스트 정규화와 불용어 제거\n",
    "**데이터 정규화(text normalization)**  \n",
    "기계 학습 전에 미리 같은 표현을 통일시켜 연산량을 줄이는 방법"
   ]
  },
  {
   "cell_type": "code",
   "execution_count": 8,
   "id": "6ff238df",
   "metadata": {},
   "outputs": [
    {
     "name": "stdout",
     "output_type": "stream",
     "text": [
      "정규화 사전의 수:  120\n"
     ]
    }
   ],
   "source": [
    "# 정규화 사전\n",
    "contractions = {\"ain't\": \"is not\", \"aren't\": \"are not\",\"can't\": \"cannot\", \"'cause\": \"because\", \"could've\": \"could have\", \"couldn't\": \"could not\",\n",
    "                           \"didn't\": \"did not\",  \"doesn't\": \"does not\", \"don't\": \"do not\", \"hadn't\": \"had not\", \"hasn't\": \"has not\", \"haven't\": \"have not\",\n",
    "                           \"he'd\": \"he would\",\"he'll\": \"he will\", \"he's\": \"he is\", \"how'd\": \"how did\", \"how'd'y\": \"how do you\", \"how'll\": \"how will\", \"how's\": \"how is\",\n",
    "                           \"I'd\": \"I would\", \"I'd've\": \"I would have\", \"I'll\": \"I will\", \"I'll've\": \"I will have\",\"I'm\": \"I am\", \"I've\": \"I have\", \"i'd\": \"i would\",\n",
    "                           \"i'd've\": \"i would have\", \"i'll\": \"i will\",  \"i'll've\": \"i will have\",\"i'm\": \"i am\", \"i've\": \"i have\", \"isn't\": \"is not\", \"it'd\": \"it would\",\n",
    "                           \"it'd've\": \"it would have\", \"it'll\": \"it will\", \"it'll've\": \"it will have\",\"it's\": \"it is\", \"let's\": \"let us\", \"ma'am\": \"madam\",\n",
    "                           \"mayn't\": \"may not\", \"might've\": \"might have\",\"mightn't\": \"might not\",\"mightn't've\": \"might not have\", \"must've\": \"must have\",\n",
    "                           \"mustn't\": \"must not\", \"mustn't've\": \"must not have\", \"needn't\": \"need not\", \"needn't've\": \"need not have\",\"o'clock\": \"of the clock\",\n",
    "                           \"oughtn't\": \"ought not\", \"oughtn't've\": \"ought not have\", \"shan't\": \"shall not\", \"sha'n't\": \"shall not\", \"shan't've\": \"shall not have\",\n",
    "                           \"she'd\": \"she would\", \"she'd've\": \"she would have\", \"she'll\": \"she will\", \"she'll've\": \"she will have\", \"she's\": \"she is\",\n",
    "                           \"should've\": \"should have\", \"shouldn't\": \"should not\", \"shouldn't've\": \"should not have\", \"so've\": \"so have\",\"so's\": \"so as\",\n",
    "                           \"this's\": \"this is\",\"that'd\": \"that would\", \"that'd've\": \"that would have\", \"that's\": \"that is\", \"there'd\": \"there would\",\n",
    "                           \"there'd've\": \"there would have\", \"there's\": \"there is\", \"here's\": \"here is\",\"they'd\": \"they would\", \"they'd've\": \"they would have\",\n",
    "                           \"they'll\": \"they will\", \"they'll've\": \"they will have\", \"they're\": \"they are\", \"they've\": \"they have\", \"to've\": \"to have\",\n",
    "                           \"wasn't\": \"was not\", \"we'd\": \"we would\", \"we'd've\": \"we would have\", \"we'll\": \"we will\", \"we'll've\": \"we will have\", \"we're\": \"we are\",\n",
    "                           \"we've\": \"we have\", \"weren't\": \"were not\", \"what'll\": \"what will\", \"what'll've\": \"what will have\", \"what're\": \"what are\",\n",
    "                           \"what's\": \"what is\", \"what've\": \"what have\", \"when's\": \"when is\", \"when've\": \"when have\", \"where'd\": \"where did\", \"where's\": \"where is\",\n",
    "                           \"where've\": \"where have\", \"who'll\": \"who will\", \"who'll've\": \"who will have\", \"who's\": \"who is\", \"who've\": \"who have\",\n",
    "                           \"why's\": \"why is\", \"why've\": \"why have\", \"will've\": \"will have\", \"won't\": \"will not\", \"won't've\": \"will not have\",\n",
    "                           \"would've\": \"would have\", \"wouldn't\": \"would not\", \"wouldn't've\": \"would not have\", \"y'all\": \"you all\",\n",
    "                           \"y'all'd\": \"you all would\",\"y'all'd've\": \"you all would have\",\"y'all're\": \"you all are\",\"y'all've\": \"you all have\",\n",
    "                           \"you'd\": \"you would\", \"you'd've\": \"you would have\", \"you'll\": \"you will\", \"you'll've\": \"you will have\",\n",
    "                           \"you're\": \"you are\", \"you've\": \"you have\"}\n",
    "\n",
    "print(\"정규화 사전의 수: \", len(contractions))"
   ]
  },
  {
   "cell_type": "markdown",
   "id": "b49ba5fe",
   "metadata": {},
   "source": [
    "**불용어(stopwords)**  \n",
    "텍스트에는 자주 등장하지만 자연어 처리를 할 때 실질적으로 별 도움이 되지 않는 단어"
   ]
  },
  {
   "cell_type": "code",
   "execution_count": 9,
   "id": "a4f592d9",
   "metadata": {},
   "outputs": [
    {
     "name": "stdout",
     "output_type": "stream",
     "text": [
      "불용어 개수 : 179\n",
      "['i', 'me', 'my', 'myself', 'we', 'our', 'ours', 'ourselves', 'you', \"you're\", \"you've\", \"you'll\", \"you'd\", 'your', 'yours', 'yourself', 'yourselves', 'he', 'him', 'his', 'himself', 'she', \"she's\", 'her', 'hers', 'herself', 'it', \"it's\", 'its', 'itself', 'they', 'them', 'their', 'theirs', 'themselves', 'what', 'which', 'who', 'whom', 'this', 'that', \"that'll\", 'these', 'those', 'am', 'is', 'are', 'was', 'were', 'be', 'been', 'being', 'have', 'has', 'had', 'having', 'do', 'does', 'did', 'doing', 'a', 'an', 'the', 'and', 'but', 'if', 'or', 'because', 'as', 'until', 'while', 'of', 'at', 'by', 'for', 'with', 'about', 'against', 'between', 'into', 'through', 'during', 'before', 'after', 'above', 'below', 'to', 'from', 'up', 'down', 'in', 'out', 'on', 'off', 'over', 'under', 'again', 'further', 'then', 'once', 'here', 'there', 'when', 'where', 'why', 'how', 'all', 'any', 'both', 'each', 'few', 'more', 'most', 'other', 'some', 'such', 'no', 'nor', 'not', 'only', 'own', 'same', 'so', 'than', 'too', 'very', 's', 't', 'can', 'will', 'just', 'don', \"don't\", 'should', \"should've\", 'now', 'd', 'll', 'm', 'o', 're', 've', 'y', 'ain', 'aren', \"aren't\", 'couldn', \"couldn't\", 'didn', \"didn't\", 'doesn', \"doesn't\", 'hadn', \"hadn't\", 'hasn', \"hasn't\", 'haven', \"haven't\", 'isn', \"isn't\", 'ma', 'mightn', \"mightn't\", 'mustn', \"mustn't\", 'needn', \"needn't\", 'shan', \"shan't\", 'shouldn', \"shouldn't\", 'wasn', \"wasn't\", 'weren', \"weren't\", 'won', \"won't\", 'wouldn', \"wouldn't\"]\n"
     ]
    }
   ],
   "source": [
    "# NLTK에서 제공하는 불용어 리스트 : stopwords\n",
    "print('불용어 개수 :', len(stopwords.words('english') ))\n",
    "print(stopwords.words('english'))"
   ]
  },
  {
   "cell_type": "code",
   "execution_count": 12,
   "id": "098d6ffe",
   "metadata": {},
   "outputs": [
    {
     "name": "stdout",
     "output_type": "stream",
     "text": [
      "text:  everything bought great infact ordered twice third ordered wasfor mother father\n",
      "summary: great way to start the day\n"
     ]
    }
   ],
   "source": [
    "# 데이터 전처리 함수\n",
    "def preprocess_sentence(sentence, remove_stopwords=True):\n",
    "    # 텍스트 소문자화\n",
    "    sentence = sentence.lower() \n",
    "    \n",
    "    # html 태그 제거\n",
    "    sentence = BeautifulSoup(sentence, \"lxml\").text \n",
    "    \n",
    "    # 특수 문자 제거 : 정규표현식    \n",
    "    sentence = re.sub(r'\\([^)]*\\)', '', sentence) # 괄호로 닫힌 문자열 (...) 제거 Ex) my husband (and myself!) for => my husband for\n",
    "    sentence = re.sub('\"','', sentence) # 쌍따옴표 \" 제거\n",
    "    sentence = ' '.join([contractions[t] if t in contractions else t for t in sentence.split(\" \")]) # 약어 정규화\n",
    "    sentence = re.sub(r\"'s\\b\",\"\", sentence) # 소유격 제거. Ex) roland's -> roland\n",
    "    sentence = re.sub(\"[^a-zA-Z]\", \" \", sentence) # 영어 외 문자(숫자, 특수문자 등) 공백으로 변환\n",
    "    sentence = re.sub('[m]{2,}', 'mm', sentence) # m이 3개 이상이면 2개로 변경. Ex) ummmmmmm yeah -> umm yeah\n",
    "    \n",
    "    # 불용어 제거 (Text)\n",
    "    if remove_stopwords:\n",
    "        tokens = ' '.join(word for word in sentence.split() if not word in stopwords.words('english') if len(word) > 1)\n",
    "    # 불용어 미제거 (Summary)\n",
    "    else:\n",
    "        tokens = ' '.join(word for word in sentence.split() if len(word) > 1)\n",
    "    return tokens\n",
    "\n",
    "# 데이터 전처리 함수 테스트\n",
    "temp_text = 'Everything I bought was great, infact I ordered twice and the third ordered was<br />for my mother and father.'  \n",
    "temp_summary = 'Great way to start (or finish) the day!!!'  \n",
    "\n",
    "print(\"text: \", preprocess_sentence(temp_text))\n",
    "print(\"summary:\", preprocess_sentence(temp_summary, False))  # 불용어를 제거하지 않습니다."
   ]
  },
  {
   "cell_type": "code",
   "execution_count": 16,
   "id": "06c88186",
   "metadata": {},
   "outputs": [
    {
     "name": "stdout",
     "output_type": "stream",
     "text": [
      "Text 전처리 후 결과:  0    bought several vitality canned dog food produc...\n",
      "1    product arrived labeled jumbo salted peanuts p...\n",
      "2    confection around centuries light pillowy citr...\n",
      "3    looking secret ingredient robitussin believe f...\n",
      "4    great taffy great price wide assortment yummy ...\n",
      "Name: Text, dtype: object\n"
     ]
    }
   ],
   "source": [
    "# 전체 Text 데이터에 대한 전처리 : 10분 이상 시간이 걸릴 수 있습니다. \n",
    "clean_text = data['Text'].apply(lambda x : preprocess_sentence(x))\n",
    "\n",
    "# 전처리 후 출력\n",
    "print(\"Text 전처리 후 결과: \", clean_text[:5])"
   ]
  },
  {
   "cell_type": "code",
   "execution_count": 18,
   "id": "542f0943",
   "metadata": {},
   "outputs": [
    {
     "name": "stdout",
     "output_type": "stream",
     "text": [
      "Summary 전처리 후 결과:  0    good quality dog food\n",
      "1        not as advertised\n",
      "2      delight says it all\n",
      "3           cough medicine\n",
      "4              great taffy\n",
      "Name: Summary, dtype: object\n"
     ]
    }
   ],
   "source": [
    "# 전체 Summary 데이터에 대한 전처리 : 5분 이상 시간이 걸릴 수 있습니다. \n",
    "clean_summary = data['Summary'].apply(lambda x : preprocess_sentence(x, False))\n",
    "\n",
    "print(\"Summary 전처리 후 결과: \", clean_summary[:5])"
   ]
  },
  {
   "cell_type": "code",
   "execution_count": 21,
   "id": "453bc80b",
   "metadata": {},
   "outputs": [
    {
     "name": "stdout",
     "output_type": "stream",
     "text": [
      "전체 샘플수 : 88355\n"
     ]
    }
   ],
   "source": [
    "# 전처리 데이터 적용\n",
    "data['Text'] = clean_text\n",
    "data['Summary'] = clean_summary\n",
    "\n",
    "# 전처리 이후 빈 샘플 확인 및 제거\n",
    "\n",
    "# 빈 값을 Null 값으로 변환 \n",
    "data.replace('', np.nan, inplace=True)\n",
    "# NULL 값 확인\n",
    "data.isnull().sum()\n",
    "\n",
    "# 빈 샘플 제거\n",
    "data.dropna(axis=0, inplace=True)\n",
    "print('전체 샘플수 :', (len(data)))"
   ]
  },
  {
   "cell_type": "code",
   "execution_count": 29,
   "id": "4905a44a",
   "metadata": {},
   "outputs": [],
   "source": [
    "# clean 데이터 임시 저장\n",
    "# clean_data_path = os.getenv(\"HOME\")+\"/aiffel/news_summarization/data/ex10_clean.csv\"\n",
    "# data.to_csv(clean_data_path, mode='w')"
   ]
  },
  {
   "cell_type": "code",
   "execution_count": 30,
   "id": "389192cc",
   "metadata": {},
   "outputs": [],
   "source": [
    "# clean data load\n",
    "# clean_data = data = pd.read_csv(clean_data_path, nrows=100000)"
   ]
  },
  {
   "cell_type": "markdown",
   "id": "46603c54",
   "metadata": {},
   "source": [
    "### 샘플의 최대 길이 정하기\n",
    "- 최소, 최대, 평균 길이 확인\n",
    "- 길이 분포 시각화  \n",
    "- Text 및 Summery 최대 길이를 정하고 해당 길이 이하 데이터 제외 처리"
   ]
  },
  {
   "cell_type": "code",
   "execution_count": 33,
   "id": "c5a710d6",
   "metadata": {},
   "outputs": [
    {
     "name": "stdout",
     "output_type": "stream",
     "text": [
      "텍스트의 최소 길이 : 2\n",
      "텍스트의 최대 길이 : 1235\n",
      "텍스트의 평균 길이 : 38.792428272310566\n",
      "요약의 최소 길이 : 1\n",
      "요약의 최대 길이 : 28\n",
      "요약의 평균 길이 : 4.010729443721352\n"
     ]
    },
    {
     "data": {
      "image/png": "[encoded data removed]",
      "text/plain": [
       "<Figure size 432x288 with 2 Axes>"
      ]
     },
     "metadata": {
      "needs_background": "light"
     },
     "output_type": "display_data"
    },
    {
     "data": {
      "image/png": "[encoded data removed]",
      "text/plain": [
       "<Figure size 432x288 with 1 Axes>"
      ]
     },
     "metadata": {
      "needs_background": "light"
     },
     "output_type": "display_data"
    },
    {
     "data": {
      "image/png": "[encoded data removed]",
      "text/plain": [
       "<Figure size 432x288 with 1 Axes>"
      ]
     },
     "metadata": {
      "needs_background": "light"
     },
     "output_type": "display_data"
    }
   ],
   "source": [
    "# 길이 분포 출력\n",
    "import matplotlib.pyplot as plt\n",
    "\n",
    "text_len = [len(s.split()) for s in data['Text']]\n",
    "summary_len = [len(s.split()) for s in data['Summary']]\n",
    "\n",
    "print('텍스트의 최소 길이 : {}'.format(np.min(text_len)))\n",
    "print('텍스트의 최대 길이 : {}'.format(np.max(text_len)))\n",
    "print('텍스트의 평균 길이 : {}'.format(np.mean(text_len)))\n",
    "print('요약의 최소 길이 : {}'.format(np.min(summary_len)))\n",
    "print('요약의 최대 길이 : {}'.format(np.max(summary_len)))\n",
    "print('요약의 평균 길이 : {}'.format(np.mean(summary_len)))\n",
    "\n",
    "plt.subplot(1,2,1)\n",
    "plt.boxplot(text_len)\n",
    "plt.title('Text')\n",
    "plt.subplot(1,2,2)\n",
    "plt.boxplot(summary_len)\n",
    "plt.title('Summary')\n",
    "plt.tight_layout()\n",
    "plt.show()\n",
    "\n",
    "plt.title('Text')\n",
    "plt.hist(text_len, bins = 40)\n",
    "plt.xlabel('length of samples')\n",
    "plt.ylabel('number of samples')\n",
    "plt.show()\n",
    "\n",
    "plt.title('Summary')\n",
    "plt.hist(summary_len, bins = 40)\n",
    "plt.xlabel('length of samples')\n",
    "plt.ylabel('number of samples')\n",
    "plt.show()"
   ]
  },
  {
   "cell_type": "markdown",
   "id": "db59dbba",
   "metadata": {},
   "source": [
    "위에서부터 차례대로 \n",
    "- 실제 텍스트와 요약의 길이 분포 그래프\n",
    "- 실제 텍스트 샘플 길이별 개수 그래프\n",
    "- 요약본 샘플 길이별 개수 그래프\n",
    "\n",
    "Text : 최소/최대 차이가 굉장히 크지만, 시각화된 그래프로 봤을 때는 대체적으로는 100 내외의 길이 확인 가능  \n",
    "- 최소 길이가 2\n",
    "- 최대 길이가 1,235\n",
    "- 평균 길이는 38\n",
    "\n",
    "Summary : Text에 비해 상대적으로 길이가 짧고, 그래프 상 대체적으로 10이하의 길이  \n",
    "- 최소 길이가 1\n",
    "- 최대 길이가 28\n",
    "- 평균 길이가 4\n",
    "\n",
    "이로부터 Text의 최대 길이와 Summary의 적절한 최대 길이를 임의로 정하기"
   ]
  },
  {
   "cell_type": "code",
   "execution_count": 34,
   "id": "8cf144bd",
   "metadata": {},
   "outputs": [
    {
     "name": "stdout",
     "output_type": "stream",
     "text": [
      "전체 샘플 중 길이가 50 이하인 샘플의 비율: 0.7745119121724859\n",
      "전체 샘플 중 길이가 8 이하인 샘플의 비율: 0.9424593967517402\n"
     ]
    }
   ],
   "source": [
    "text_max_len = 50\n",
    "summary_max_len = 8\n",
    "\n",
    "# 훈련 데이터와 샘플의 길이를 입력하면, 데이터의 몇 %가 해당하는지 계산하는 함수\n",
    "def below_threshold_len(max_len, nested_list):\n",
    "  cnt = 0\n",
    "  for s in nested_list:\n",
    "    if(len(s.split()) <= max_len):\n",
    "        cnt = cnt + 1\n",
    "  print('전체 샘플 중 길이가 %s 이하인 샘플의 비율: %s'%(max_len, (cnt / len(nested_list))))\n",
    "\n",
    "below_threshold_len(text_max_len, data['Text'])\n",
    "below_threshold_len(summary_max_len,  data['Summary'])"
   ]
  },
  {
   "cell_type": "code",
   "execution_count": 35,
   "id": "db000ab3",
   "metadata": {},
   "outputs": [
    {
     "name": "stdout",
     "output_type": "stream",
     "text": [
      "전체 샘플수 : 65818\n"
     ]
    }
   ],
   "source": [
    "# data 데이터프레임을 임의로 정의한 text_max_len과 summary_max_len의 길이보다 큰 샘플을 제외 처리\n",
    "data = data[data['Text'].apply(lambda x: len(x.split()) <= text_max_len) &\n",
    "         data['Summary'].apply(lambda x: len(x.split()) <= summary_max_len)]\n",
    "\n",
    "print('전체 샘플수 :', (len(data)))"
   ]
  },
  {
   "cell_type": "markdown",
   "id": "235c1532",
   "metadata": {},
   "source": [
    "### 시작 토큰과 종료 토큰 추가하기\n",
    "- 시작토큰: 'sostoken'\n",
    "- 종료토큰: 'eostoken'"
   ]
  },
  {
   "cell_type": "code",
   "execution_count": 37,
   "id": "c3e50879",
   "metadata": {},
   "outputs": [
    {
     "name": "stderr",
     "output_type": "stream",
     "text": [
      "/tmp/ipykernel_57/4263491036.py:4: SettingWithCopyWarning: \n",
      "A value is trying to be set on a copy of a slice from a DataFrame.\n",
      "Try using .loc[row_indexer,col_indexer] = value instead\n",
      "\n",
      "See the caveats in the documentation: https://pandas.pydata.org/pandas-docs/stable/user_guide/indexing.html#returning-a-view-versus-a-copy\n",
      "  data['decoder_input'] = data['Summary'].apply(lambda x : 'sostoken '+ x)\n",
      "/tmp/ipykernel_57/4263491036.py:6: SettingWithCopyWarning: \n",
      "A value is trying to be set on a copy of a slice from a DataFrame.\n",
      "Try using .loc[row_indexer,col_indexer] = value instead\n",
      "\n",
      "See the caveats in the documentation: https://pandas.pydata.org/pandas-docs/stable/user_guide/indexing.html#returning-a-view-versus-a-copy\n",
      "  data['decoder_target'] = data['Summary'].apply(lambda x : x + ' eostoken')\n"
     ]
    },
    {
     "data": {
      "text/html": [
       "<div>\n",
       "<style scoped>\n",
       "    .dataframe tbody tr th:only-of-type {\n",
       "        vertical-align: middle;\n",
       "    }\n",
       "\n",
       "    .dataframe tbody tr th {\n",
       "        vertical-align: top;\n",
       "    }\n",
       "\n",
       "    .dataframe thead th {\n",
       "        text-align: right;\n",
       "    }\n",
       "</style>\n",
       "<table border=\"1\" class=\"dataframe\">\n",
       "  <thead>\n",
       "    <tr style=\"text-align: right;\">\n",
       "      <th></th>\n",
       "      <th>Unnamed: 0</th>\n",
       "      <th>Summary</th>\n",
       "      <th>Text</th>\n",
       "      <th>decoder_input</th>\n",
       "      <th>decoder_target</th>\n",
       "    </tr>\n",
       "  </thead>\n",
       "  <tbody>\n",
       "    <tr>\n",
       "      <th>0</th>\n",
       "      <td>0</td>\n",
       "      <td>good quality dog food</td>\n",
       "      <td>bought several vitality canned dog food produc...</td>\n",
       "      <td>sostoken good quality dog food</td>\n",
       "      <td>good quality dog food eostoken</td>\n",
       "    </tr>\n",
       "    <tr>\n",
       "      <th>1</th>\n",
       "      <td>1</td>\n",
       "      <td>not as advertised</td>\n",
       "      <td>product arrived labeled jumbo salted peanuts p...</td>\n",
       "      <td>sostoken not as advertised</td>\n",
       "      <td>not as advertised eostoken</td>\n",
       "    </tr>\n",
       "    <tr>\n",
       "      <th>2</th>\n",
       "      <td>2</td>\n",
       "      <td>delight says it all</td>\n",
       "      <td>confection around centuries light pillowy citr...</td>\n",
       "      <td>sostoken delight says it all</td>\n",
       "      <td>delight says it all eostoken</td>\n",
       "    </tr>\n",
       "    <tr>\n",
       "      <th>3</th>\n",
       "      <td>3</td>\n",
       "      <td>cough medicine</td>\n",
       "      <td>looking secret ingredient robitussin believe f...</td>\n",
       "      <td>sostoken cough medicine</td>\n",
       "      <td>cough medicine eostoken</td>\n",
       "    </tr>\n",
       "    <tr>\n",
       "      <th>4</th>\n",
       "      <td>4</td>\n",
       "      <td>great taffy</td>\n",
       "      <td>great taffy great price wide assortment yummy ...</td>\n",
       "      <td>sostoken great taffy</td>\n",
       "      <td>great taffy eostoken</td>\n",
       "    </tr>\n",
       "  </tbody>\n",
       "</table>\n",
       "</div>"
      ],
      "text/plain": [
       "   Unnamed: 0                Summary  \\\n",
       "0           0  good quality dog food   \n",
       "1           1      not as advertised   \n",
       "2           2    delight says it all   \n",
       "3           3         cough medicine   \n",
       "4           4            great taffy   \n",
       "\n",
       "                                                Text  \\\n",
       "0  bought several vitality canned dog food produc...   \n",
       "1  product arrived labeled jumbo salted peanuts p...   \n",
       "2  confection around centuries light pillowy citr...   \n",
       "3  looking secret ingredient robitussin believe f...   \n",
       "4  great taffy great price wide assortment yummy ...   \n",
       "\n",
       "                    decoder_input                  decoder_target  \n",
       "0  sostoken good quality dog food  good quality dog food eostoken  \n",
       "1      sostoken not as advertised      not as advertised eostoken  \n",
       "2    sostoken delight says it all    delight says it all eostoken  \n",
       "3         sostoken cough medicine         cough medicine eostoken  \n",
       "4            sostoken great taffy            great taffy eostoken  "
      ]
     },
     "execution_count": 37,
     "metadata": {},
     "output_type": "execute_result"
    }
   ],
   "source": [
    "# Summary 데이터에는 시작 토큰과 종료 토큰을 추가\n",
    "\n",
    "# decoder_input 컬럼 추가 - Summary에 시작 토큰 추가 문장\n",
    "data['decoder_input'] = data['Summary'].apply(lambda x : 'sostoken '+ x)\n",
    "# decoder_target 컬럼 추가 - Summary에 종료 토큰 추가 문장\n",
    "data['decoder_target'] = data['Summary'].apply(lambda x : x + ' eostoken')\n",
    "data.head()"
   ]
  },
  {
   "cell_type": "markdown",
   "id": "b8623d49",
   "metadata": {},
   "source": [
    "### 훈련 데이터 / 테스트 데이터 분리\n",
    "- 분리코드 직접 구현하기"
   ]
  },
  {
   "cell_type": "code",
   "execution_count": 38,
   "id": "d66d44e2",
   "metadata": {},
   "outputs": [
    {
     "name": "stdout",
     "output_type": "stream",
     "text": [
      "[40709 40238 40191 ... 36530 65637 41129]\n"
     ]
    }
   ],
   "source": [
    "# 인코더의 입력, 디코더의 입력과 레이블 저장\n",
    "encoder_input = np.array(data['Text']) # 인코더의 입력\n",
    "decoder_input = np.array(data['decoder_input']) # 디코더의 입력\n",
    "decoder_target = np.array(data['decoder_target']) # 디코더의 레이블\n",
    "\n",
    "# encoder_input과 크기와 형태가 같고, 순서가 섞인 정수 시퀀스를 생성\n",
    "indices = np.arange(encoder_input.shape[0])\n",
    "np.random.shuffle(indices)\n",
    "print(indices)"
   ]
  },
  {
   "cell_type": "code",
   "execution_count": 41,
   "id": "e92fd20e",
   "metadata": {},
   "outputs": [],
   "source": [
    "# 순서가 섞인 정수 시퀀스를 이용해 다시 데이터의 샘플 순서를 정의\n",
    "encoder_input = encoder_input[indices]\n",
    "decoder_input = decoder_input[indices]\n",
    "decoder_target = decoder_target[indices]"
   ]
  },
  {
   "cell_type": "code",
   "execution_count": 60,
   "id": "e1b801d4",
   "metadata": {},
   "outputs": [
    {
     "name": "stdout",
     "output_type": "stream",
     "text": [
      "훈련 데이터의 개수 : 52655\n",
      "훈련 레이블의 개수 : 52655\n",
      "테스트 데이터의 개수 : 13163\n",
      "테스트 레이블의 개수 : 13163\n"
     ]
    }
   ],
   "source": [
    "#8:2의 비율로 훈련 데이터와 테스트 데이터로 분리\n",
    "n_of_val = int(len(encoder_input)*0.2) # 테스트 데이터 갯수\n",
    "\n",
    "encoder_input_train = encoder_input[:-n_of_val]\n",
    "decoder_input_train = decoder_input[:-n_of_val]\n",
    "decoder_target_train = decoder_target[:-n_of_val]\n",
    "\n",
    "encoder_input_test = encoder_input[-n_of_val:]\n",
    "decoder_input_test = decoder_input[-n_of_val:]\n",
    "decoder_target_test = decoder_target[-n_of_val:]\n",
    "\n",
    "print('훈련 데이터의 개수 :', len(encoder_input_train))\n",
    "print('훈련 레이블의 개수 :', len(decoder_input_train))\n",
    "print('테스트 데이터의 개수 :', len(encoder_input_test))\n",
    "print('테스트 레이블의 개수 :', len(decoder_input_test))"
   ]
  },
  {
   "cell_type": "markdown",
   "id": "260fa369",
   "metadata": {},
   "source": [
    "### 정수 인코딩\n",
    "기계가 텍스트를 숫자로 처리할 수 있도록 훈련 데이터와 테스트 데이터의 단어들을 모두 정수로 변환  \n",
    "**단어 집합(vocabulary)** 만들기\n",
    "- 각 단어에 고유한 정수를 매핑하는 작업"
   ]
  },
  {
   "cell_type": "code",
   "execution_count": 61,
   "id": "2c3b578e",
   "metadata": {},
   "outputs": [],
   "source": [
    "# Keras의 토크나이저를 사용\n",
    "src_tokenizer = Tokenizer()\n",
    "\n",
    "# 입력된 데이터로부터 단어 집합 생성 >> src_tokenizer.word_index에 저장됨\n",
    "src_tokenizer.fit_on_texts(encoder_input_train) "
   ]
  },
  {
   "cell_type": "markdown",
   "id": "ad935927",
   "metadata": {},
   "source": [
    "#### 빈도수가 낮은 단어들은 훈련 데이터에서 제외 처리  \n",
    "- 등장 빈도수(threshold)가 7회 미만인 단어들의 비중 확인"
   ]
  },
  {
   "cell_type": "code",
   "execution_count": 62,
   "id": "419495fd",
   "metadata": {},
   "outputs": [
    {
     "name": "stdout",
     "output_type": "stream",
     "text": [
      "단어 집합(vocabulary)의 크기 : 32013\n",
      "등장 빈도가 6번 이하인 희귀 단어의 수: 23769\n",
      "단어 집합에서 희귀 단어를 제외시킬 경우의 단어 집합의 크기 8244\n",
      "단어 집합에서 희귀 단어의 비율: 74.24796176553275\n",
      "전체 등장 빈도에서 희귀 단어 등장 빈도 비율: 3.3868164287846323\n"
     ]
    }
   ],
   "source": [
    "threshold = 7\n",
    "total_cnt = len(src_tokenizer.word_index) # 단어의 수\n",
    "rare_cnt = 0 # 등장 빈도수가 threshold보다 작은 단어의 개수를 카운트\n",
    "total_freq = 0 # 훈련 데이터의 전체 단어 빈도수 총 합\n",
    "rare_freq = 0 # 등장 빈도수가 threshold보다 작은 단어의 등장 빈도수의 총 합\n",
    "\n",
    "# 단어와 빈도수의 쌍(pair)을 key와 value로 받는다.\n",
    "for key, value in src_tokenizer.word_counts.items():\n",
    "    total_freq = total_freq + value\n",
    "\n",
    "    # 단어의 등장 빈도수가 threshold보다 작으면\n",
    "    if(value < threshold):\n",
    "        rare_cnt = rare_cnt + 1\n",
    "        rare_freq = rare_freq + value\n",
    "\n",
    "print('단어 집합(vocabulary)의 크기 :', total_cnt)\n",
    "print('등장 빈도가 %s번 이하인 희귀 단어의 수: %s'%(threshold - 1, rare_cnt))\n",
    "print('단어 집합에서 희귀 단어를 제외시킬 경우의 단어 집합의 크기 %s'%(total_cnt - rare_cnt))\n",
    "print(\"단어 집합에서 희귀 단어의 비율:\", (rare_cnt / total_cnt)*100)\n",
    "print(\"전체 등장 빈도에서 희귀 단어 등장 빈도 비율:\", (rare_freq / total_freq)*100)"
   ]
  },
  {
   "cell_type": "markdown",
   "id": "e15bfc01",
   "metadata": {},
   "source": [
    "- 등장 빈도가 6회 이하인 단어들은 정수 인코딩 과정에서 빼고, 훈련 데이터에서 제거  \n",
    "- 단어 집합의 크기를 8,000으로 제한(num_words)하여 토크나이저를 정의\n",
    "- 8,000이 넘는 숫자들은 정수 인코딩 후에는 데이터에 존재하지 않는다"
   ]
  },
  {
   "cell_type": "code",
   "execution_count": 63,
   "id": "6bdfa475",
   "metadata": {},
   "outputs": [
    {
     "name": "stdout",
     "output_type": "stream",
     "text": [
      "[[406, 92, 8, 577, 349, 30, 57, 146, 906, 6195, 255, 232, 3238, 23, 926, 323, 1137, 80, 7, 1753, 122, 8, 2713, 380, 107, 725, 371, 85, 795], [91, 12, 1, 471, 1627, 1947, 213, 201, 1607, 105, 285, 1243, 44, 1097, 304, 3, 132, 99, 1244, 597], [723, 125, 3529, 1010, 77, 728, 1617, 1708, 96, 3, 1786, 3530, 2539, 1258, 4, 2, 96, 685, 111, 6768, 229, 29, 55, 94, 598, 125, 51, 72, 181, 682, 1180, 408, 97, 6769, 37, 31, 705, 57]]\n"
     ]
    }
   ],
   "source": [
    "src_vocab = 8000\n",
    "src_tokenizer = Tokenizer(num_words=src_vocab) # 단어 집합의 크기를 8,000으로 제한\n",
    "src_tokenizer.fit_on_texts(encoder_input_train) # 단어 집합 재생성\n",
    "\n",
    "# 텍스트 시퀀스를 정수 시퀀스로 변환\n",
    "encoder_input_train = src_tokenizer.texts_to_sequences(encoder_input_train) \n",
    "encoder_input_test = src_tokenizer.texts_to_sequences(encoder_input_test)\n",
    "\n",
    "# 잘 진행되었는지 샘플 출력\n",
    "print(encoder_input_train[:3])"
   ]
  },
  {
   "cell_type": "markdown",
   "id": "41ff9334",
   "metadata": {},
   "source": [
    "#### Summary 데이터에 대해서도 동일한 작업을 수행"
   ]
  },
  {
   "cell_type": "code",
   "execution_count": 64,
   "id": "54800e92",
   "metadata": {},
   "outputs": [
    {
     "name": "stdout",
     "output_type": "stream",
     "text": [
      "단어 집합(vocabulary)의 크기 : 10533\n",
      "등장 빈도가 5번 이하인 희귀 단어의 수: 8160\n",
      "단어 집합에서 희귀 단어를 제외시킬 경우의 단어 집합의 크기 2373\n",
      "단어 집합에서 희귀 단어의 비율: 77.47080603816576\n",
      "전체 등장 빈도에서 희귀 단어 등장 빈도 비율: 5.90470534569272\n"
     ]
    }
   ],
   "source": [
    "\n",
    "tar_tokenizer = Tokenizer()\n",
    "tar_tokenizer.fit_on_texts(decoder_input_train)\n",
    "\n",
    "threshold = 6\n",
    "total_cnt = len(tar_tokenizer.word_index) # 단어의 수\n",
    "rare_cnt = 0 # 등장 빈도수가 threshold보다 작은 단어의 개수를 카운트\n",
    "total_freq = 0 # 훈련 데이터의 전체 단어 빈도수 총 합\n",
    "rare_freq = 0 # 등장 빈도수가 threshold보다 작은 단어의 등장 빈도수의 총 합\n",
    "\n",
    "# 단어와 빈도수의 쌍(pair)을 key와 value로 받는다.\n",
    "for key, value in tar_tokenizer.word_counts.items():\n",
    "    total_freq = total_freq + value\n",
    "\n",
    "    # 단어의 등장 빈도수가 threshold보다 작으면\n",
    "    if(value < threshold):\n",
    "        rare_cnt = rare_cnt + 1\n",
    "        rare_freq = rare_freq + value\n",
    "\n",
    "print('단어 집합(vocabulary)의 크기 :', total_cnt)\n",
    "print('등장 빈도가 %s번 이하인 희귀 단어의 수: %s'%(threshold - 1, rare_cnt))\n",
    "print('단어 집합에서 희귀 단어를 제외시킬 경우의 단어 집합의 크기 %s'%(total_cnt - rare_cnt))\n",
    "print(\"단어 집합에서 희귀 단어의 비율:\", (rare_cnt / total_cnt)*100)\n",
    "print(\"전체 등장 빈도에서 희귀 단어 등장 빈도 비율:\", (rare_freq / total_freq)*100)"
   ]
  },
  {
   "cell_type": "code",
   "execution_count": 65,
   "id": "ef10885b",
   "metadata": {},
   "outputs": [
    {
     "name": "stdout",
     "output_type": "stream",
     "text": [
      "input\n",
      "input  [[1, 163, 4, 74, 23, 144], [1], [1, 325, 836, 1284], [1, 85, 22, 191, 10, 113], [1, 50, 31, 19, 449]]\n",
      "target\n",
      "decoder  [[163, 4, 74, 23, 144, 2], [2], [325, 836, 1284, 2], [85, 22, 191, 10, 113, 2], [50, 31, 19, 449, 2]]\n"
     ]
    }
   ],
   "source": [
    "tar_vocab = 2000\n",
    "tar_tokenizer = Tokenizer(num_words=tar_vocab) \n",
    "tar_tokenizer.fit_on_texts(decoder_input_train)\n",
    "tar_tokenizer.fit_on_texts(decoder_target_train)\n",
    "\n",
    "# 텍스트 시퀀스를 정수 시퀀스로 변환\n",
    "decoder_input_train = tar_tokenizer.texts_to_sequences(decoder_input_train) \n",
    "decoder_target_train = tar_tokenizer.texts_to_sequences(decoder_target_train)\n",
    "decoder_input_test = tar_tokenizer.texts_to_sequences(decoder_input_test)\n",
    "decoder_target_test = tar_tokenizer.texts_to_sequences(decoder_target_test)\n",
    "\n",
    "# 잘 변환되었는지 확인\n",
    "print('input')\n",
    "print('input ',decoder_input_train[:5])\n",
    "print('target')\n",
    "print('decoder ',decoder_target_train[:5])"
   ]
  },
  {
   "cell_type": "markdown",
   "id": "e2f67072",
   "metadata": {},
   "source": [
    "####  패딩 하기로 넘어가기 전에 한 가지 점검\n",
    "빈도수가 낮은 단어만으로 구성되었던 샘플들이 이제 빈(empty) 샘플이 되었을 가능성 \n",
    "- Summary의 경우에는 이 현상이 굉장히 두드러졌을 가능성이 높다\n",
    "- 시작/종료 토큰은 모든 샘플에서 등장하므로 빈도수가 샘플 수와 동일하게 매우 높아 단어 집합 제한에도 삭제되지 않음\n",
    "- 길이 0이 된 decoder_input에는 sostoken, decoder_target에는 eostoken만 남아  길이가 0이 된 요약문의 실제 길이는 1\n",
    "\n",
    "훈련 데이터와 테스트 데이터에 대해서 요약문의 길이가 1인 경우의 인덱스를 각각 drop_train과 drop_test에 라는 변수에 저장하기"
   ]
  },
  {
   "cell_type": "code",
   "execution_count": 66,
   "id": "cd4af092",
   "metadata": {},
   "outputs": [
    {
     "name": "stdout",
     "output_type": "stream",
     "text": [
      "삭제할 훈련 데이터의 개수 : 1275\n",
      "삭제할 테스트 데이터의 개수 : 330\n",
      "훈련 데이터의 개수 : 51380\n",
      "훈련 레이블의 개수 : 51380\n",
      "테스트 데이터의 개수 : 12833\n",
      "테스트 레이블의 개수 : 12833\n"
     ]
    }
   ],
   "source": [
    "drop_train = [index for index, sentence in enumerate(decoder_input_train) if len(sentence) == 1]\n",
    "drop_test = [index for index, sentence in enumerate(decoder_input_test) if len(sentence) == 1]\n",
    "\n",
    "print('삭제할 훈련 데이터의 개수 :', len(drop_train))\n",
    "print('삭제할 테스트 데이터의 개수 :', len(drop_test))\n",
    "\n",
    "encoder_input_train = [sentence for index, sentence in enumerate(encoder_input_train) if index not in drop_train]\n",
    "decoder_input_train = [sentence for index, sentence in enumerate(decoder_input_train) if index not in drop_train]\n",
    "decoder_target_train = [sentence for index, sentence in enumerate(decoder_target_train) if index not in drop_train]\n",
    "\n",
    "encoder_input_test = [sentence for index, sentence in enumerate(encoder_input_test) if index not in drop_test]\n",
    "decoder_input_test = [sentence for index, sentence in enumerate(decoder_input_test) if index not in drop_test]\n",
    "decoder_target_test = [sentence for index, sentence in enumerate(decoder_target_test) if index not in drop_test]\n",
    "\n",
    "print('훈련 데이터의 개수 :', len(encoder_input_train))\n",
    "print('훈련 레이블의 개수 :', len(decoder_input_train))\n",
    "print('테스트 데이터의 개수 :', len(encoder_input_test))\n",
    "print('테스트 레이블의 개수 :', len(decoder_input_test))"
   ]
  },
  {
   "cell_type": "markdown",
   "id": "4bee1d74",
   "metadata": {},
   "source": [
    "### 패딩하기\n",
    "서로 다른 길이의 샘플들을 병렬 처리하기 위해 같은 길이로 맞춰주는 작업  \n",
    "- 아까 정해두었던 최대 길이로 패딩\n",
    "- 최대 길이보다 짧은 데이터들은 뒤의 공간에(post) 숫자 0을 넣어 최대 길이로 길이를 맞춘다"
   ]
  },
  {
   "cell_type": "code",
   "execution_count": 67,
   "id": "5c0dd595",
   "metadata": {},
   "outputs": [],
   "source": [
    "encoder_input_train = pad_sequences(encoder_input_train, maxlen=text_max_len, padding='post')\n",
    "encoder_input_test = pad_sequences(encoder_input_test, maxlen=text_max_len, padding='post')\n",
    "decoder_input_train = pad_sequences(decoder_input_train, maxlen=summary_max_len, padding='post')\n",
    "decoder_target_train = pad_sequences(decoder_target_train, maxlen=summary_max_len, padding='post')\n",
    "decoder_input_test = pad_sequences(decoder_input_test, maxlen=summary_max_len, padding='post')\n",
    "decoder_target_test = pad_sequences(decoder_target_test, maxlen=summary_max_len, padding='post')"
   ]
  },
  {
   "cell_type": "markdown",
   "id": "b71c0579",
   "metadata": {},
   "source": [
    "---\n",
    "## 모델 설계하기\n",
    "---\n",
    "### 함수형 API를 이용해서 인코더를 설계 : LSTM"
   ]
  },
  {
   "cell_type": "code",
   "execution_count": 68,
   "id": "51c3776e",
   "metadata": {},
   "outputs": [],
   "source": [
    "from tensorflow.keras.layers import Input, LSTM, Embedding, Dense, Concatenate, TimeDistributed\n",
    "from tensorflow.keras.models import Model\n",
    "from tensorflow.keras.callbacks import EarlyStopping, ModelCheckpoint\n",
    "\n",
    "# 인코더 설계 시작\n",
    "embedding_dim = 128 # 임베딩 벡터의 차원\n",
    "hidden_size = 256 # LSTM 수용력(capacity) 설정\n",
    "\n",
    "# 인코더\n",
    "encoder_inputs = Input(shape=(text_max_len,))\n",
    "\n",
    "# 인코더의 임베딩 층\n",
    "enc_emb = Embedding(src_vocab, embedding_dim)(encoder_inputs)\n",
    "\n",
    "# 인코더의 LSTM 1\n",
    "# encoder_lstm1 = LSTM(hidden_size, return_sequences=True, return_state=True ,dropout = 0.4, recurrent_dropout = 0.4)\n",
    "encoder_lstm1 = LSTM(hidden_size, return_sequences=True, return_state=True ,dropout = 0.4)\n",
    "encoder_output1, state_h1, state_c1 = encoder_lstm1(enc_emb)\n",
    "\n",
    "# 인코더의 LSTM 2\n",
    "encoder_lstm2 = LSTM(hidden_size, return_sequences=True, return_state=True ,dropout = 0.4)\n",
    "encoder_output2, state_h2, state_c2 = encoder_lstm2(encoder_output1)\n",
    "\n",
    "# 인코더의 LSTM 3\n",
    "\n",
    "encoder_lstm3 = LSTM(hidden_size, return_sequences=True, return_state=True ,dropout = 0.4)\n",
    "encoder_outputs, state_h, state_c = encoder_lstm3(encoder_output2)"
   ]
  },
  {
   "attachments": {
    "image.png": {
     "image/png": "[encoded data removed]"
    }
   },
   "cell_type": "markdown",
   "id": "8a50e753",
   "metadata": {},
   "source": [
    "**embedding_dim** : 임베딩 벡터 차원  \n",
    "**hidden_size** : LSTM에서 얼만큼의 수용력(capacity)를 가질지를 정하는 파라미터\n",
    "- LSTM의 용량의 크기나, LSTM에서의 뉴런의 개수\n",
    "- 무조건 용량을 많이 준다고 해서 성능이 반드시 올라가는 것은 아니다\n",
    "\n",
    "인코더의 LSTM은 총 3개의 층으로 구성\n",
    "- hidden state의 크기를 늘리는 것이 LSTM 층 1개의 용량을 늘린다면\n",
    "- 3개의 층을 사용하는 것은 모델의 용량을 늘린다고 볼 수 있다\n",
    "\n",
    "LSTM은 dropout 뿐 아니라 recurrent dropout까지 사용 가능   \n",
    "\n",
    "**일반적인 dropout**  \n",
    "- 레이어의 weight를 랜덤으로 생략하여 모델의 과적합(overfitting)을 해결해주는 방법  \n",
    "\n",
    "**recurrent dropout**  \n",
    "- dropout을 레이어가 아닌 time step마다 해주는 방식\n",
    "- ime step의 입력을 랜덤으로 생략해 준다\n",
    "- 일반적인 dropout와 같이 regularization을 해주는 효과가 있고, 과적합을 방지할 수 있다  \n",
    "\n",
    "**Variational Dropout**  \n",
    "dropout과 recurrent dropout을 모두 사용한 것  \n",
    "![image.png](attachment:image.png)\n",
    "\n",
    "---\n",
    "### 디코더 설계"
   ]
  },
  {
   "cell_type": "code",
   "execution_count": 69,
   "id": "85395065",
   "metadata": {},
   "outputs": [],
   "source": [
    "# 디코더 설계\n",
    "decoder_inputs = Input(shape=(None,))\n",
    "\n",
    "# 디코더의 임베딩 층\n",
    "dec_emb_layer = Embedding(tar_vocab, embedding_dim)\n",
    "dec_emb = dec_emb_layer(decoder_inputs)\n",
    "\n",
    "# 디코더의 LSTM\n",
    "# decoder_lstm = LSTM(hidden_size, return_sequences=True, return_state=True, dropout=0.4, recurrent_dropout=0.2)\n",
    "decoder_lstm = LSTM(hidden_size, return_sequences=True, return_state=True, dropout=0.4)\n",
    "decoder_outputs, _, _ = decoder_lstm(dec_emb, initial_state=[state_h, state_c])"
   ]
  },
  {
   "cell_type": "markdown",
   "id": "bc27cd36",
   "metadata": {},
   "source": [
    "디코더의 임베딩 층과 LSTM을 설계하는 것은 인코더와 거의 동일하다  \n",
    "- LSTM의 입력을 정의할 때 initial_state의 인자값 : 인코더의 hidden state와 cell state의 값\n",
    "\n",
    "#### 디코더의 출력층 설계"
   ]
  },
  {
   "cell_type": "code",
   "execution_count": 70,
   "id": "09e9732e",
   "metadata": {},
   "outputs": [
    {
     "name": "stdout",
     "output_type": "stream",
     "text": [
      "Model: \"model\"\n",
      "__________________________________________________________________________________________________\n",
      "Layer (type)                    Output Shape         Param #     Connected to                     \n",
      "==================================================================================================\n",
      "input_1 (InputLayer)            [(None, 50)]         0                                            \n",
      "__________________________________________________________________________________________________\n",
      "embedding (Embedding)           (None, 50, 128)      1024000     input_1[0][0]                    \n",
      "__________________________________________________________________________________________________\n",
      "lstm (LSTM)                     [(None, 50, 256), (N 394240      embedding[0][0]                  \n",
      "__________________________________________________________________________________________________\n",
      "input_2 (InputLayer)            [(None, None)]       0                                            \n",
      "__________________________________________________________________________________________________\n",
      "lstm_1 (LSTM)                   [(None, 50, 256), (N 525312      lstm[0][0]                       \n",
      "__________________________________________________________________________________________________\n",
      "embedding_1 (Embedding)         (None, None, 128)    256000      input_2[0][0]                    \n",
      "__________________________________________________________________________________________________\n",
      "lstm_2 (LSTM)                   [(None, 50, 256), (N 525312      lstm_1[0][0]                     \n",
      "__________________________________________________________________________________________________\n",
      "lstm_3 (LSTM)                   [(None, None, 256),  394240      embedding_1[0][0]                \n",
      "                                                                 lstm_2[0][1]                     \n",
      "                                                                 lstm_2[0][2]                     \n",
      "__________________________________________________________________________________________________\n",
      "dense (Dense)                   (None, None, 2000)   514000      lstm_3[0][0]                     \n",
      "==================================================================================================\n",
      "Total params: 3,633,104\n",
      "Trainable params: 3,633,104\n",
      "Non-trainable params: 0\n",
      "__________________________________________________________________________________________________\n"
     ]
    }
   ],
   "source": [
    "# 디코더의 출력층\n",
    "decoder_softmax_layer = Dense(tar_vocab, activation='softmax')\n",
    "decoder_softmax_outputs = decoder_softmax_layer(decoder_outputs) \n",
    "\n",
    "# 모델 정의\n",
    "model = Model([encoder_inputs, decoder_inputs], decoder_softmax_outputs)\n",
    "model.summary()"
   ]
  },
  {
   "cell_type": "markdown",
   "id": "f9116bdc",
   "metadata": {},
   "source": [
    "디코더의 출력층 - 다중 클래스 분류 문제를 풀어야 한다\n",
    "- Summary의 단어장인 tar_vocab의 수많은 선택지 중 하나의 단어를 선택\n",
    "- Dense의 인자 : tar_vocab\n",
    "- 활성화 함수 : 소프트맥스 함수 사용\n",
    "\n",
    "#### 지금까지 기본적인 seq2seq 설계\n",
    "- 인코더의 hidden state와 cell state를 디코더의 초기 state로 사용\n",
    "\n",
    "디코더의 출력층을 설계를 살짝 바꿔서 성능을 높일 수 있는 방법 >>> 어텐션 메커니즘\n",
    "\n",
    "---\n",
    "### 어텐션 메커니즘\n",
    "TensorFlow에 이미 구현된 어텐션 함수를 가져와서 디코더의 출력층에 어떤 방식으로 결합하기  \n",
    "- 어텐션 함수 : Bahdanau 스타일의 어텐션"
   ]
  },
  {
   "cell_type": "code",
   "execution_count": 71,
   "id": "f5797ddb",
   "metadata": {},
   "outputs": [
    {
     "name": "stdout",
     "output_type": "stream",
     "text": [
      "Model: \"model_1\"\n",
      "__________________________________________________________________________________________________\n",
      "Layer (type)                    Output Shape         Param #     Connected to                     \n",
      "==================================================================================================\n",
      "input_1 (InputLayer)            [(None, 50)]         0                                            \n",
      "__________________________________________________________________________________________________\n",
      "embedding (Embedding)           (None, 50, 128)      1024000     input_1[0][0]                    \n",
      "__________________________________________________________________________________________________\n",
      "lstm (LSTM)                     [(None, 50, 256), (N 394240      embedding[0][0]                  \n",
      "__________________________________________________________________________________________________\n",
      "input_2 (InputLayer)            [(None, None)]       0                                            \n",
      "__________________________________________________________________________________________________\n",
      "lstm_1 (LSTM)                   [(None, 50, 256), (N 525312      lstm[0][0]                       \n",
      "__________________________________________________________________________________________________\n",
      "embedding_1 (Embedding)         (None, None, 128)    256000      input_2[0][0]                    \n",
      "__________________________________________________________________________________________________\n",
      "lstm_2 (LSTM)                   [(None, 50, 256), (N 525312      lstm_1[0][0]                     \n",
      "__________________________________________________________________________________________________\n",
      "lstm_3 (LSTM)                   [(None, None, 256),  394240      embedding_1[0][0]                \n",
      "                                                                 lstm_2[0][1]                     \n",
      "                                                                 lstm_2[0][2]                     \n",
      "__________________________________________________________________________________________________\n",
      "attention_layer (AdditiveAttent (None, None, 256)    256         lstm_3[0][0]                     \n",
      "                                                                 lstm_2[0][0]                     \n",
      "__________________________________________________________________________________________________\n",
      "concat_layer (Concatenate)      (None, None, 512)    0           lstm_3[0][0]                     \n",
      "                                                                 attention_layer[0][0]            \n",
      "__________________________________________________________________________________________________\n",
      "dense_1 (Dense)                 (None, None, 2000)   1026000     concat_layer[0][0]               \n",
      "==================================================================================================\n",
      "Total params: 4,145,360\n",
      "Trainable params: 4,145,360\n",
      "Non-trainable params: 0\n",
      "__________________________________________________________________________________________________\n"
     ]
    }
   ],
   "source": [
    "from tensorflow.keras.layers import AdditiveAttention\n",
    "\n",
    "# 어텐션 층(어텐션 함수)\n",
    "attn_layer = AdditiveAttention(name='attention_layer')\n",
    "\n",
    "# 인코더와 디코더의 모든 time step의 hidden state를 어텐션 층에 전달하고 결과를 리턴\n",
    "attn_out = attn_layer([decoder_outputs, encoder_outputs])\n",
    "\n",
    "# 어텐션의 결과와 디코더의 hidden state들을 연결\n",
    "decoder_concat_input = Concatenate(axis=-1, name='concat_layer')([decoder_outputs, attn_out])\n",
    "\n",
    "# 디코더의 출력층\n",
    "decoder_softmax_layer = Dense(tar_vocab, activation='softmax')\n",
    "decoder_softmax_outputs = decoder_softmax_layer(decoder_concat_input)\n",
    "\n",
    "# 모델 정의\n",
    "model = Model([encoder_inputs, decoder_inputs], decoder_softmax_outputs)\n",
    "model.summary()"
   ]
  },
  {
   "cell_type": "markdown",
   "id": "4de9b01e",
   "metadata": {},
   "source": [
    "---\n",
    "## 모델 훈련하기\n",
    "---\n"
   ]
  },
  {
   "cell_type": "code",
   "execution_count": 72,
   "id": "f251b370",
   "metadata": {},
   "outputs": [
    {
     "name": "stdout",
     "output_type": "stream",
     "text": [
      "Epoch 1/50\n",
      "201/201 [==============================] - 52s 156ms/step - loss: 2.7093 - val_loss: 2.4023\n",
      "Epoch 2/50\n",
      "201/201 [==============================] - 29s 146ms/step - loss: 2.3612 - val_loss: 2.2898\n",
      "Epoch 3/50\n",
      "201/201 [==============================] - 29s 147ms/step - loss: 2.2256 - val_loss: 2.1516\n",
      "Epoch 4/50\n",
      "201/201 [==============================] - 30s 148ms/step - loss: 2.1094 - val_loss: 2.0619\n",
      "Epoch 5/50\n",
      "201/201 [==============================] - 30s 147ms/step - loss: 2.0210 - val_loss: 2.0136\n",
      "Epoch 6/50\n",
      "201/201 [==============================] - 30s 147ms/step - loss: 1.9566 - val_loss: 1.9641\n",
      "Epoch 7/50\n",
      "201/201 [==============================] - 30s 148ms/step - loss: 1.9043 - val_loss: 1.9398\n",
      "Epoch 8/50\n",
      "201/201 [==============================] - 30s 147ms/step - loss: 1.8603 - val_loss: 1.9235\n",
      "Epoch 9/50\n",
      "201/201 [==============================] - 30s 148ms/step - loss: 1.8209 - val_loss: 1.9024\n",
      "Epoch 10/50\n",
      "201/201 [==============================] - 30s 147ms/step - loss: 1.7846 - val_loss: 1.8890\n",
      "Epoch 11/50\n",
      "201/201 [==============================] - 30s 147ms/step - loss: 1.7497 - val_loss: 1.8761\n",
      "Epoch 12/50\n",
      "201/201 [==============================] - 30s 147ms/step - loss: 1.7172 - val_loss: 1.8681\n",
      "Epoch 13/50\n",
      "201/201 [==============================] - 30s 148ms/step - loss: 1.6860 - val_loss: 1.8630\n",
      "Epoch 14/50\n",
      "201/201 [==============================] - 30s 147ms/step - loss: 1.6568 - val_loss: 1.8595\n",
      "Epoch 15/50\n",
      "201/201 [==============================] - 30s 148ms/step - loss: 1.6285 - val_loss: 1.8524\n",
      "Epoch 16/50\n",
      "201/201 [==============================] - 30s 148ms/step - loss: 1.6015 - val_loss: 1.8572\n",
      "Epoch 17/50\n",
      "201/201 [==============================] - 30s 148ms/step - loss: 1.5765 - val_loss: 1.8557\n",
      "Epoch 00017: early stopping\n"
     ]
    }
   ],
   "source": [
    "model.compile(optimizer='rmsprop', loss='sparse_categorical_crossentropy')\n",
    "es = EarlyStopping(monitor='val_loss', patience=2, verbose=1)\n",
    "history = model.fit(x=[encoder_input_train, decoder_input_train], y=decoder_target_train, \\\n",
    "          validation_data=([encoder_input_test, decoder_input_test], decoder_target_test), \\\n",
    "          batch_size=256, callbacks=[es], epochs=50)"
   ]
  },
  {
   "cell_type": "markdown",
   "id": "587974f4",
   "metadata": {},
   "source": [
    "조기종료(EarlyStopping) 설정: 특정 조건 충족 시 훈련 종료  \n",
    "es = EarlyStopping(monitor='val_loss', patience=2, verbose=1)  \n",
    "- monitor : val_loss (검증 데이터 손실이 감소하지 않고 증가하는 현상 관찰)\n",
    "- patience : 2 (관찰 조건을 2회 발견 시 종료)\n",
    "\n",
    "조기 종료 설정시 훈련이 종료되었을 때 성능이 최고인 상황이 아닐 수 있다  \n",
    "\n",
    "#### 훈련 데이터 손실과 검증 데이터 손실의 감소 과정 시각화"
   ]
  },
  {
   "cell_type": "code",
   "execution_count": 73,
   "id": "4d046395",
   "metadata": {},
   "outputs": [
    {
     "data": {
      "image/png": "[encoded data removed]",
      "text/plain": [
       "<Figure size 432x288 with 1 Axes>"
      ]
     },
     "metadata": {
      "needs_background": "light"
     },
     "output_type": "display_data"
    }
   ],
   "source": [
    "plt.plot(history.history['loss'], label='train')\n",
    "plt.plot(history.history['val_loss'], label='test')\n",
    "plt.legend()\n",
    "plt.show()"
   ]
  },
  {
   "cell_type": "markdown",
   "id": "e1907c04",
   "metadata": {},
   "source": [
    "---\n",
    "## 인퍼런스 모델  구현\n",
    "---\n",
    "정수 인덱스 행렬로 존재하던 텍스트 데이터를 실제 데이터로 복원을 위해 단어 사전 준비"
   ]
  },
  {
   "cell_type": "code",
   "execution_count": 75,
   "id": "2fe35ce5",
   "metadata": {},
   "outputs": [],
   "source": [
    "src_index_to_word = src_tokenizer.index_word # 원문 단어 집합에서 정수 -> 단어를 얻음\n",
    "tar_word_to_index = tar_tokenizer.word_index # 요약 단어 집합에서 단어 -> 정수를 얻음\n",
    "tar_index_to_word = tar_tokenizer.index_word # 요약 단어 집합에서 정수 -> 단어를 얻음"
   ]
  },
  {
   "cell_type": "markdown",
   "id": "590dcff0",
   "metadata": {},
   "source": [
    "**seq2seq는 훈련할 때와 실제 동작할 때(인퍼런스 단계)의 방식이 다르므로 그에 맞게 모델 설계를 별개로 진행해야 한다**  \n",
    "\n",
    "훈련 단계  \n",
    "- 디코더의 입력부에 정답이 되는 문장 전체를 한꺼번에 넣고 디코더의 출력과 한 번에 비교 가능\n",
    "- 인코더와 디코더를 엮은 통짜 모델 하나만 준비\n",
    "\n",
    "정답 문장이 없는 인퍼런스 단계  \n",
    "- 만들어야 할 문장의 길이 만큼 디코더가 반복 구조로 동작해야 한다\n",
    "- 인퍼런스를 위한 별도 모델 설계 필요\n",
    "- 인코더 모델과 디코더 모델을 분리해서 설계"
   ]
  },
  {
   "cell_type": "code",
   "execution_count": 77,
   "id": "fd6b1f8e",
   "metadata": {},
   "outputs": [],
   "source": [
    "#-----------------------------------------\n",
    "# 인코더 설계\n",
    "#-----------------------------------------\n",
    "encoder_model = Model(inputs=encoder_inputs, outputs=[encoder_outputs, state_h, state_c])\n",
    "\n",
    "# 이전 시점의 상태들을 저장하는 텐서\n",
    "decoder_state_input_h = Input(shape=(hidden_size,))\n",
    "decoder_state_input_c = Input(shape=(hidden_size,))\n",
    "\n",
    "dec_emb2 = dec_emb_layer(decoder_inputs)\n",
    "\n",
    "# 문장의 다음 단어를 예측하기 위해서 초기 상태(initial_state)를 이전 시점의 상태로 사용. 이는 뒤의 함수 decode_sequence()에 구현\n",
    "# 훈련 과정에서와 달리 LSTM의 리턴하는 은닉 상태와 셀 상태인 state_h와 state_c를 버리지 않음.\n",
    "decoder_outputs2, state_h2, state_c2 = decoder_lstm(dec_emb2, initial_state=[decoder_state_input_h, decoder_state_input_c])\n",
    "\n",
    "#-----------------------------------------\n",
    "# 어텐션 메커니즘을 사용하는 출력층 설계\n",
    "#-----------------------------------------\n",
    "# 어텐션 함수\n",
    "decoder_hidden_state_input = Input(shape=(text_max_len, hidden_size))\n",
    "attn_out_inf = attn_layer([decoder_outputs2, decoder_hidden_state_input])\n",
    "decoder_inf_concat = Concatenate(axis=-1, name='concat')([decoder_outputs2, attn_out_inf])\n",
    "\n",
    "# 디코더의 출력층\n",
    "decoder_outputs2 = decoder_softmax_layer(decoder_inf_concat) \n",
    "\n",
    "# 최종 디코더 모델\n",
    "decoder_model = Model(\n",
    "    [decoder_inputs] + [decoder_hidden_state_input,decoder_state_input_h, decoder_state_input_c],\n",
    "    [decoder_outputs2] + [state_h2, state_c2])\n"
   ]
  },
  {
   "cell_type": "code",
   "execution_count": 78,
   "id": "ea95c5db",
   "metadata": {},
   "outputs": [],
   "source": [
    "#------------------------------------------------\n",
    "# 인퍼런스 단계에서 단어 시퀀스를 완성하는 함수\n",
    "#------------------------------------------------\n",
    "def decode_sequence(input_seq):\n",
    "    # 입력으로부터 인코더의 상태를 얻음\n",
    "    e_out, e_h, e_c = encoder_model.predict(input_seq)\n",
    "\n",
    "     # <SOS>에 해당하는 토큰 생성\n",
    "    target_seq = np.zeros((1,1))\n",
    "    target_seq[0, 0] = tar_word_to_index['sostoken']\n",
    "\n",
    "    stop_condition = False\n",
    "    decoded_sentence = ''\n",
    "    while not stop_condition: # stop_condition이 True가 될 때까지 루프 반복\n",
    "\n",
    "        output_tokens, h, c = decoder_model.predict([target_seq] + [e_out, e_h, e_c])\n",
    "        sampled_token_index = np.argmax(output_tokens[0, -1, :])\n",
    "        sampled_token = tar_index_to_word[sampled_token_index]\n",
    "\n",
    "        if (sampled_token!='eostoken'):\n",
    "            decoded_sentence += ' '+sampled_token\n",
    "\n",
    "        #  <eos>에 도달하거나 최대 길이를 넘으면 중단.\n",
    "        if (sampled_token == 'eostoken'  or len(decoded_sentence.split()) >= (summary_max_len-1)):\n",
    "            stop_condition = True\n",
    "\n",
    "        # 길이가 1인 타겟 시퀀스를 업데이트\n",
    "        target_seq = np.zeros((1,1))\n",
    "        target_seq[0, 0] = sampled_token_index\n",
    "\n",
    "        # 상태를 업데이트 합니다.\n",
    "        e_h, e_c = h, c\n",
    "\n",
    "    return decoded_sentence"
   ]
  },
  {
   "cell_type": "markdown",
   "id": "0c16d6e8",
   "metadata": {},
   "source": [
    "---\n",
    "## 모델 테스트\n",
    "---\n",
    "정수 시퀀스를 텍스트 시퀀스로 변환하여 결과를 확인  \n",
    "주어진 정수 시퀀스를 텍스트 시퀀스로 변환하는 함수 구현  \n",
    "- Text의 정수 시퀀스에서는 패딩을 위해 사용되는 숫자 0을 제외\n",
    "- Summary의 정수 시퀀스에서는 숫자 0, 시작 토큰의 인덱스, 종료 토큰의 인덱스를 출력에서 제외\n",
    "\n",
    "### 요약문의 정수 시퀀스를 텍스트로 변환하는 seq2summary 함수"
   ]
  },
  {
   "cell_type": "code",
   "execution_count": 79,
   "id": "0376509b",
   "metadata": {},
   "outputs": [],
   "source": [
    "# 원문의 정수 시퀀스를 텍스트 시퀀스로 변환\n",
    "def seq2text(input_seq):\n",
    "    temp=''\n",
    "    for i in input_seq:\n",
    "        if (i!=0):\n",
    "            temp = temp + src_index_to_word[i]+' '\n",
    "    return temp\n",
    "\n",
    "# 요약문의 정수 시퀀스를 텍스트 시퀀스로 변환\n",
    "def seq2summary(input_seq):\n",
    "    temp=''\n",
    "    for i in input_seq:\n",
    "        if((i!=0 and i!=tar_word_to_index['sostoken']) and i!=tar_word_to_index['eostoken']):\n",
    "            temp = temp + tar_index_to_word[i] + ' '\n",
    "    return temp"
   ]
  },
  {
   "cell_type": "code",
   "execution_count": 80,
   "id": "43007c08",
   "metadata": {},
   "outputs": [
    {
     "name": "stdout",
     "output_type": "stream",
     "text": [
      "원문 : love rice never comes sticky purchased item local grocery store expensive \n",
      "실제 요약 : great rice \n",
      "예측 요약 :  great rice\n",
      "\n",
      "\n",
      "원문 : beans roasted dominant flavor price great coffee \n",
      "실제 요약 : burnt and flavorless \n",
      "예측 요약 :  good stuff\n",
      "\n",
      "\n",
      "원문 : find really good economical cooking giving extremely concentrated lemon lime orange flavour drop two use convenience otherwise lips small bottles deliver much oil prior idea small quantity teaspoon \n",
      "실제 요약 : citrus combo \n",
      "예측 요약 :  great product\n",
      "\n",
      "\n",
      "원문 : buy dogs love however received charged staple house children \n",
      "실제 요약 : still have not received \n",
      "예측 요약 :  dogs love them\n",
      "\n",
      "\n",
      "원문 : much smaller expected receive st day even requested priority delivery willing pay faster service response seller asked shipment could rushed \n",
      "실제 요약 : day \n",
      "예측 요약 :  not what expected\n",
      "\n",
      "\n",
      "원문 : roasted beans full city next batch full city french oil batches coffee tasted flat bitter aroma roasted colombia mexico thing beans must low quality certainly ordering \n",
      "실제 요약 : low quality coffe \n",
      "예측 요약 :  not worth the money\n",
      "\n",
      "\n",
      "원문 : granola one word amazing stuff rocks perfect snack full cocoa coconut berries oats chunks chocolate love organic thing like awful lot small crumbs bottom bag larger chunks falling apart love cannot wait get \n",
      "실제 요약 : wow \n",
      "예측 요약 :  great taste\n",
      "\n",
      "\n",
      "원문 : puppy loves paste stuff regular puppy kong sometimes food times \n",
      "실제 요약 : our puppy loves it \n",
      "예측 요약 :  my dog loves it\n",
      "\n",
      "\n",
      "원문 : dogs like picture makes package look much fuller actually got paid \n",
      "실제 요약 : dogs like it \n",
      "예측 요약 :  dogs love them\n",
      "\n",
      "\n",
      "원문 : bought almond nut thin country ranch crackers son told disappointed even friends enjoyed unique taste \n",
      "실제 요약 : nutty about this cracker \n",
      "예측 요약 :  not the best\n",
      "\n",
      "\n",
      "원문 : last decaf coffee taste decaf smooth rich flavorful bitter aftertaste starbucks worthy like drink evening basically dessert cream sugar \n",
      "실제 요약 : gourmet coffee for decaf lovers \n",
      "예측 요약 :  decaf decaf\n",
      "\n",
      "\n",
      "원문 : package came without expiration date tasted really fresh dump whole box \n",
      "실제 요약 : expired cookies \n",
      "예측 요약 :  not what expected\n",
      "\n",
      "\n",
      "원문 : love soup great put crockpot fresh onions garlic diced ham head work come home everyone want \n",
      "실제 요약 : bean soup mix \n",
      "예측 요약 :  delicious\n",
      "\n",
      "\n",
      "원문 : love fog chase one cups strong like like strong taste great price boot store ziplock bag \n",
      "실제 요약 : fog chaser \n",
      "예측 요약 :  great coffee\n",
      "\n",
      "\n",
      "원문 : impressed bars like cranberry chocolate chip may try others well low fat high fiber good protein fortified vitamins whole grain plant mention delicious quite organic close healthy \n",
      "실제 요약 : delicious and nutritious \n",
      "예측 요약 :  great taste\n",
      "\n",
      "\n",
      "원문 : reason local grocery stores stopped carrying tea love often drink opted buy via amazon friend told able get amazon surprised found excellent tea strong sweet flavor caffeine free need add sweetener smell alone makes worth get fast delivery vendor \n",
      "실제 요약 : wonderful great tasting \n",
      "예측 요약 :  great tea\n",
      "\n",
      "\n",
      "원문 : looking solid sauce sandwich really fit bill enough spice let know great vinegar flavor \n",
      "실제 요약 : great sauce \n",
      "예측 요약 :  great sauce\n",
      "\n",
      "\n",
      "원문 : good chilli mix cincinnati style chilli reminds great chilli lived yummy recommend serve spaghetti topped kidney beans green onions sharp cheddar cheese \n",
      "실제 요약 : style \n",
      "예측 요약 :  delicious\n",
      "\n",
      "\n",
      "원문 : vet first introduced us excellent chew three dogs price bag high amazon found best price net dogs treat love pay price think reasonable teeth mouths better \n",
      "실제 요약 : keep your dog teeth cleaner \n",
      "예측 요약 :  great product\n",
      "\n",
      "\n",
      "원문 : experimenting different brands cups since purchased keurig last christmas one okay good green mountain breakfast blend everyday staple tried green mountain columbian yet closer comparison however make larger cup coffee one brew weaker gm breakfast blend also please note love timothy world italian blend definitely amount favorites \n",
      "실제 요약 : not our favorite \n",
      "예측 요약 :  good but not great\n",
      "\n",
      "\n",
      "원문 : things nothing like oreos think wow oreos think would say spend money something better honest view thin crisps cookies little flavor wafer milk bones \n",
      "실제 요약 : agree with \n",
      "예측 요약 :  not good\n",
      "\n",
      "\n",
      "원문 : best trail mix ever eaten wish available store near order amazon way goes delicious really takes care sweet tooth crunchy boot love \n",
      "실제 요약 : sweet and crunchy \n",
      "예측 요약 :  best ever\n",
      "\n",
      "\n",
      "원문 : gluten free pasta market husband likes one best close enough real thing get away serving pasta whole family \n",
      "실제 요약 : great pasta \n",
      "예측 요약 :  great pasta\n",
      "\n",
      "\n",
      "원문 : best jasmine tea aroma delicious leave tea bag water long \n",
      "실제 요약 : awesome jasmine tea \n",
      "예측 요약 :  great tea\n",
      "\n",
      "\n",
      "원문 : dog loves treats varieties easy break half well resealable bag plus \n",
      "실제 요약 : my dog favorite treats \n",
      "예측 요약 :  great treats\n",
      "\n",
      "\n",
      "원문 : tray fits perfectly coffee maker color compliments color coffee maker non top keeps coffee maker place drawer ample storage space love \n",
      "실제 요약 : keurig coffee \n",
      "예측 요약 :  great coffee\n",
      "\n",
      "\n",
      "원문 : zico changed product longer tastes like coconut water company used brazilian coconuts entirely different tasty product coconuts thailand \n",
      "실제 요약 : no longer \n",
      "예측 요약 :  coconut water\n",
      "\n",
      "\n",
      "원문 : remembered using popcorn cheese kid happily surprised run across amazon tastes like imagine powder tastes like macaroni cheese good popcorn even sprinkled leftover pasta really quick meal decent note though label saying kept fridge opening product overall enjoyable \n",
      "실제 요약 : yum \n",
      "예측 요약 :  great taste but not for the price\n",
      "\n",
      "\n",
      "원문 : using xylitol year brands sweet cane sugar brand perfectly matched teaspoon teaspoon without blood sugar spikes using regular sugar cannot imagine ever going back simply downside whatsoever highly recommend product \n",
      "실제 요약 : who needs sugar \n",
      "예측 요약 :  great tasting\n",
      "\n",
      "\n",
      "원문 : use poodle pretty much since puppy tried several different premium dog foods seemed one liked best still built none typical poodle feed schedule always bowl food full energy never skin problems general healthy horse occasionally mix raw frozen foods premium dog food nutritional variety every prevent getting upset stomach \n",
      "실제 요약 : fantastic food \n",
      "예측 요약 :  my dog loves this\n",
      "\n",
      "\n",
      "원문 : done master cleanse several times last time used grade syrup instead buying local health food store save money tastes great health problems last times done cleanse felt really bad assume quality syrup mention order give honest review said tastes great assume inferior \n",
      "실제 요약 : great stuff \n",
      "예측 요약 :  great for the price\n",
      "\n",
      "\n",
      "원문 : visiting daughter seattle wa introduced wonderful wasa wafers really like ideal substitute bread could find product stores around ca decided give amazon try sure enough came subscribed shipments sent home amazon came wasa crisp light grain ounce boxes \n",
      "실제 요약 : yummy calorie friendly \n",
      "예측 요약 :  great for pancakes\n",
      "\n",
      "\n",
      "원문 : delicious satisfying coffee inviting aroma good stand favorite sumatra whenever want temporary alternative price good amazon \n",
      "실제 요약 : surprisingly delicious \n",
      "예측 요약 :  great coffee\n",
      "\n",
      "\n",
      "원문 : dog obsessed plus healthy problem feeding treats \n",
      "실제 요약 : my dog is \n",
      "예측 요약 :  dog loves them\n",
      "\n",
      "\n",
      "원문 : store bought cookie good crunchy good flavor even dietary restrictions worth trying \n",
      "실제 요약 : crunchy goodness \n",
      "예측 요약 :  good cookie\n",
      "\n",
      "\n",
      "원문 : generally enjoyed product years found one container far quite inferior ghee milk fat still present made bit sick threw away rest container \n",
      "실제 요약 : ghee \n",
      "예측 요약 :  not what expected\n",
      "\n",
      "\n",
      "원문 : think hands best market issues chunks review states product keeping cold may help also past expiration date reason send back fast convenient tastes great \n",
      "실제 요약 : best on the market \n",
      "예측 요약 :  great product\n",
      "\n",
      "\n",
      "원문 : sure named chicken based cat food names like chinese chicken cats seem know eat stuff like last supper based upon ingredients feel like feeding something far nutritious fancy feast \n",
      "실제 요약 : strange \n",
      "예측 요약 :  my cat loves this food\n",
      "\n",
      "\n",
      "원문 : first order consistency pureed pumpkin like individual cans buy local health food store good second order however texture consistency product fruit sugar pectin may added less quality profits disappointing condition cans orders excellent \n",
      "실제 요약 : change in consistency \n",
      "예측 요약 :  good product but\n",
      "\n",
      "\n",
      "원문 : best coconut water little bits coconut sweet refreshing would never pay amazon price pay one quarter maybe less store problem stores around sell get go city perfect \n",
      "실제 요약 : my favorite \n",
      "예측 요약 :  coconut water\n",
      "\n",
      "\n",
      "원문 : cannot tell everlasting treat medium vanilla mint taste great dogs seem love last long time got medium pound chihuahua pound chinese size seems suit well \n",
      "실제 요약 : my dogs love em \n",
      "예측 요약 :  my dogs love these\n",
      "\n",
      "\n",
      "원문 : tastes good know bag cooking one pound meat much less packets generally get asian grocery stores generally lbs meat weight product clearly ad least make connection till got packets home saw small perfect cooking organic chicken breasts want chicken fed chicken breast need least packets \n",
      "실제 요약 : tastes good small \n",
      "예측 요약 :  great for cooking\n",
      "\n",
      "\n",
      "원문 : bars taste great good loaded sugars preservatives like ones grocery shelves instead loaded healthy stuff appreciate year old yummy factor package great heat microwave seconds make even better crumble yogurt eat run looking forward trying flavors fyi smaller square bars also quite good get top rating \n",
      "실제 요약 : great combo of yummy healthy \n",
      "예측 요약 :  great snack\n",
      "\n",
      "\n",
      "원문 : outstanding product test great lives ancient name apples altogether warm comfortable taste calming nature \n",
      "실제 요약 : teas \n",
      "예측 요약 :  love this stuff\n",
      "\n",
      "\n",
      "원문 : cats hate cat food never seen turn nose anything terrible recurring delivery cancelled shocked arrived refused return disappointed cats eat cannot send back intend reorder second time \n",
      "실제 요약 : avoid \n",
      "예측 요약 :  not sure\n",
      "\n",
      "\n",
      "원문 : two puppies mini toy poodle go crazy love low calorie made healthy ingredients \n",
      "실제 요약 : my dogs love them \n",
      "예측 요약 :  my dog loves these\n",
      "\n",
      "\n",
      "원문 : great coffee drinking past years never get tired even heat wave still enjoyed flavor \n",
      "실제 요약 : fantastic coffee \n",
      "예측 요약 :  good coffee\n",
      "\n",
      "\n",
      "원문 : girlfriend told seasoning every since swear try put seasoning everything lol blend simply amazing soo wish could put stars definitely would \n",
      "실제 요약 : more stars please \n",
      "예측 요약 :  best seasoning ever\n",
      "\n",
      "\n",
      "원문 : looked town could find decaf expresso fortunately amazon provided lavazza alternative tasty welcome experience pop top cut fingers product tasty win win situation highly recommend lavazza decaffeinated ground coffee \n",
      "실제 요약 : good decaf espresso \n",
      "예측 요약 :  great coffee\n",
      "\n",
      "\n",
      "원문 : four dogs love dog food loved canned much switched dry taste wild crazy \n",
      "실제 요약 : dogs love taste of the wild \n",
      "예측 요약 :  great product\n",
      "\n",
      "\n"
     ]
    }
   ],
   "source": [
    "for i in range(50, 100):\n",
    "    print(\"원문 :\", seq2text(encoder_input_test[i]))\n",
    "    print(\"실제 요약 :\", seq2summary(decoder_input_test[i]))\n",
    "    print(\"예측 요약 :\", decode_sequence(encoder_input_test[i].reshape(1, text_max_len)))\n",
    "    print(\"\\n\")"
   ]
  },
  {
   "cell_type": "markdown",
   "id": "5bb8981c",
   "metadata": {},
   "source": [
    "많은 결과가 출력이 되는데, 기존의 요약과는 다른 요약을 출력하면서도 원문의 내용을 담고 있는 의미 있는 요약들이 보이네요.    \n",
    "심지어 일부 요약의 경우에는 원문에 없던 단어를 사용해서 요약을 하기도 하고 있어요.     \n",
    "워드 임베딩과 RNN의 콜라보로 이뤄낸 신기한 성과네요!  \n",
    "물론 슬프게도 그다지 좋지 않은 요약의 예도 꽤나 보이기도 하네요.  \n",
    "\n",
    "**성능을 개선 방안*  \n",
    "- seq2seq와 어텐션의 자체의 조합을 좀 더 좋게 수정하는 방법\n",
    "- 빔 서치(beam search)\n",
    "- 사전 훈련된 워드 임베딩(pre-trained word embedding)\n",
    "- 인코더 - 디코더 자체의 구조를 새로이 변경한 하는 트랜스포머(Transformer)\n",
    "\n",
    "---\n",
    "## 추출적 요약 해보기\n",
    "---\n",
    "**패키지 Summa**\n",
    "추출적 요약을 위한 모듈인 summarize를 제공  \n",
    "\n",
    "#### 영화 매트릭스 시놉시스를 요약하기\n",
    "- summarize 사용법을 익혀볼까요?\n",
    "\n",
    "### 패키지 설치\n",
    "```\n",
    "$ pip list | grep summa\n",
    "```\n",
    "### 데이터 다운로드  "
   ]
  },
  {
   "cell_type": "code",
   "execution_count": 82,
   "id": "d65da9cf",
   "metadata": {},
   "outputs": [
    {
     "name": "stdout",
     "output_type": "stream",
     "text": [
      "The screen is filled with green, cascading code which gives way to the title, The Matrix.\r\n",
      "\r\n",
      "A phone rings and text appears on the screen: \"Call trans opt: received. 2-19-98 13:24:18 REC: Log>\" As a conversation takes place between Trinity (Carrie-Anne Moss) and Cypher (Joe Pantoliano), two free humans, a table of random green numbers are being scanned and individual numbers selected, creating a series of digits not unlike an ordinary phone number, as if a code is being deciphered or a call is being traced.\r\n",
      "\r\n",
      "Trinity discusses some unknown person. Cypher taunts Trinity, suggesting she enjoys watching him. Trinity counters that \"Morpheus (Laurence Fishburne) says he may be 'the One',\" just as the sound of a number being selected alerts Trinity that someone may be tracing their call. She ends the call.\r\n",
      "\r\n",
      "Armed policemen move down a darkened, decrepit hallway in the Heart O' the City Hotel, their flashlight beam bouncing just ahead of them. They come to room 303, kick down the door and find a woman dressed in black, facing away from them. It's Trinity. She brings her hands up from the laptop she's working on at their command.\r\n",
      "\r\n",
      "Outside the hotel a car drives up and three agents appear in neatly pressed black suits. They are Agent Smith (Hugo Weaving), Agent Brown (Paul Goddard), and Agent Jones (Robert Taylor). Agent Smith and the presiding police lieutenant argue. Agent Smith admonishes the policeman that they were given specific orders to contact the agents first, for their\n"
     ]
    }
   ],
   "source": [
    "import requests\n",
    "from summa.summarizer import summarize\n",
    "text = requests.get('http://rare-technologies.com/the_matrix_synopsis.txt').text\n",
    "print(text[:1500])"
   ]
  },
  {
   "cell_type": "markdown",
   "id": "8f2425ea",
   "metadata": {},
   "source": [
    "### summarize 사용하기\n",
    "Summa의 summarize()의 인자  \n",
    "- text (str) : 요약할 테스트.\n",
    "- ratio (float, optional) : 요약문에서 원본에서 선택되는 문장 비율. 0~1 사이값\n",
    "- words (int or None, optional) : 출력에 포함할 단어 수.\n",
    "    만약, ratio와 함께 두 파라미터가 모두 제공되는 경우 ratio는 무시한다.\n",
    "- split (bool, optional) : True면 문장 list / False는 조인(join)된 문자열을 반환\n",
    "\n",
    "Summa의 summarize는 문장 토큰화를 별도로 하지 않더라도 내부적으로 문장 토큰화를 수행한다.  \n",
    "그렇기 때문에 문장 구분이 되어있지 않은 원문을 바로 입력으로 넣을 수 있다  "
   ]
  },
  {
   "cell_type": "code",
   "execution_count": 83,
   "id": "5a51e785",
   "metadata": {},
   "outputs": [
    {
     "name": "stdout",
     "output_type": "stream",
     "text": [
      "Summary:\n",
      "Morpheus, Trinity, Neo, Apoc, Switch, Mouse and Cypher are jacked into the Matrix.\n",
      "Trinity brings the helicopter down to the floor that Morpheus is on and Neo opens fire on the three Agents.\n"
     ]
    }
   ],
   "source": [
    "print('Summary:')\n",
    "print(summarize(text, ratio=0.005))"
   ]
  },
  {
   "cell_type": "code",
   "execution_count": 84,
   "id": "1d6317cd",
   "metadata": {},
   "outputs": [
    {
     "name": "stdout",
     "output_type": "stream",
     "text": [
      "Summary:\n",
      "['Morpheus, Trinity, Neo, Apoc, Switch, Mouse and Cypher are jacked into the Matrix.', 'Trinity brings the helicopter down to the floor that Morpheus is on and Neo opens fire on the three Agents.']\n"
     ]
    }
   ],
   "source": [
    "print('Summary:')\n",
    "print(summarize(text, ratio=0.005, split=True))"
   ]
  },
  {
   "cell_type": "code",
   "execution_count": 85,
   "id": "b7d6e199",
   "metadata": {},
   "outputs": [
    {
     "name": "stdout",
     "output_type": "stream",
     "text": [
      "Summary:\n",
      "Trinity takes Neo to Morpheus.\n",
      "Morpheus, Trinity, Neo, Apoc, Switch, Mouse and Cypher are jacked into the Matrix.\n",
      "Trinity brings the helicopter down to the floor that Morpheus is on and Neo opens fire on the three Agents.\n"
     ]
    }
   ],
   "source": [
    "print('Summary:')\n",
    "print(summarize(text, words=50))"
   ]
  }
 ],
 "metadata": {
  "kernelspec": {
   "display_name": "Python 3 (ipykernel)",
   "language": "python",
   "name": "python3"
  },
  "language_info": {
   "codemirror_mode": {
    "name": "ipython",
    "version": 3
   },
   "file_extension": ".py",
   "mimetype": "text/x-python",
   "name": "python",
   "nbconvert_exporter": "python",
   "pygments_lexer": "ipython3",
   "version": "3.9.7"
  }
 },
 "nbformat": 4,
 "nbformat_minor": 5
}
