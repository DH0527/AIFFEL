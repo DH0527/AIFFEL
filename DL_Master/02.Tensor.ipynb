{
 "cells": [
  {
   "cell_type": "markdown",
   "metadata": {},
   "source": [
    "# 텐서 표현과 연산\n",
    "---\n",
    "## 1. 텐서(Tensor)\n",
    "---\n",
    "데이터를 담기위한 컨테이너(container)  \n",
    "다차원 배열 또는 리스트 형태\n",
    "일반적으로 수치형 데이터를 저장하고, 동적 크기를 가진다\n",
    "\n",
    "![Alt text](image.png)  \n",
    "1DTensor(Vector) - 리스트와 유사\n",
    "2DTensor(Matrix) - 일반적인 수치, 통계 데이터 셋\n",
    "    주로 샘플(samples)과 특성(features)을 가진 구조\n",
    "3DTensor - 큐브 형태, 연속된 시퀀스 또는 시계열 데이터\n",
    "    주로 샘플(samples), 특성(features), 타임스텝(timesteps) 을 가진 구조\n",
    "4DTensor - 컬러이미지 데이터 (흑백 이미지는 3DTensor로 표현 가능)\n",
    "    주로 샘플(samples), 채널(channel), 높이(height), 너비(weight) 을 가진 구조\n",
    "5DTensor - 비디오 데이터\n",
    "    주로 샘플(samples), 프레임(frames), 채널(channel), 높이(height), 너비(weight) 을 가진 구조\n",
    "\n",
    "0DTensor(Scalar) - 하나의 숫자를 담고 있는 텐서, 축과 형상이 없다\n",
    "\n",
    "Rank: 축의 개수\n",
    "Shape: 형상(각 축에 따른 차원 개수)\n",
    "Type: 데이터 타입\n",
    "\n",
    "2. 텐서 타입 및 변환\n",
    "\n",
    "3. 테서 연산"
   ]
  },
  {
   "cell_type": "code",
   "execution_count": null,
   "metadata": {},
   "outputs": [],
   "source": []
  }
 ],
 "metadata": {
  "language_info": {
   "name": "python"
  },
  "orig_nbformat": 4
 },
 "nbformat": 4,
 "nbformat_minor": 2
}
