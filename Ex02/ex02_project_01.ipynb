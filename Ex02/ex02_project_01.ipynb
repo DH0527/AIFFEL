{
 "cells": [
  {
   "cell_type": "markdown",
   "metadata": {},
   "source": [
    "# 2-1. 프로젝트 1 : 손수 설계하는 선형회귀, 당뇨병 수치를 맞춰보자!"
   ]
  },
  {
   "cell_type": "markdown",
   "metadata": {},
   "source": [
    "## (1) 데이터 가져오기"
   ]
  },
  {
   "cell_type": "code",
   "execution_count": 1,
   "metadata": {},
   "outputs": [
    {
     "name": "stdout",
     "output_type": "stream",
     "text": [
      ".. _diabetes_dataset:\n",
      "\n",
      "Diabetes dataset\n",
      "----------------\n",
      "\n",
      "Ten baseline variables, age, sex, body mass index, average blood\n",
      "pressure, and six blood serum measurements were obtained for each of n =\n",
      "442 diabetes patients, as well as the response of interest, a\n",
      "quantitative measure of disease progression one year after baseline.\n",
      "\n",
      "**Data Set Characteristics:**\n",
      "\n",
      "  :Number of Instances: 442\n",
      "\n",
      "  :Number of Attributes: First 10 columns are numeric predictive values\n",
      "\n",
      "  :Target: Column 11 is a quantitative measure of disease progression one year after baseline\n",
      "\n",
      "  :Attribute Information:\n",
      "      - age     age in years\n",
      "      - sex\n",
      "      - bmi     body mass index\n",
      "      - bp      average blood pressure\n",
      "      - s1      tc, total serum cholesterol\n",
      "      - s2      ldl, low-density lipoproteins\n",
      "      - s3      hdl, high-density lipoproteins\n",
      "      - s4      tch, total cholesterol / HDL\n",
      "      - s5      ltg, possibly log of serum triglycerides level\n",
      "      - s6      glu, blood sugar level\n",
      "\n",
      "Note: Each of these 10 feature variables have been mean centered and scaled by the standard deviation times the square root of `n_samples` (i.e. the sum of squares of each column totals 1).\n",
      "\n",
      "Source URL:\n",
      "https://www4.stat.ncsu.edu/~boos/var.select/diabetes.html\n",
      "\n",
      "For more information see:\n",
      "Bradley Efron, Trevor Hastie, Iain Johnstone and Robert Tibshirani (2004) \"Least Angle Regression,\" Annals of Statistics (with discussion), 407-499.\n",
      "(https://web.stanford.edu/~hastie/Papers/LARS/LeastAngle_2002.pdf)\n",
      "\n"
     ]
    }
   ],
   "source": [
    "from sklearn.datasets import load_diabetes\n",
    "\n",
    "diabetes = load_diabetes()\n",
    "print(diabetes.DESCR)\n"
   ]
  },
  {
   "cell_type": "markdown",
   "metadata": {},
   "source": [
    "## (2) 모델에 입력할 데이터 X 준비하기\n",
    "## (3) 모델에 예측할 데이터 y 준비하기"
   ]
  },
  {
   "cell_type": "code",
   "execution_count": 2,
   "metadata": {},
   "outputs": [
    {
     "name": "stdout",
     "output_type": "stream",
     "text": [
      "<class 'numpy.ndarray'> (442, 10)\n",
      "<class 'numpy.ndarray'> (442,)\n"
     ]
    }
   ],
   "source": [
    "df_X = diabetes['data']\n",
    "df_y = diabetes['target']\n",
    "print(type(df_X), df_X.shape)\n",
    "print(type(df_y), df_y.shape)"
   ]
  },
  {
   "cell_type": "markdown",
   "metadata": {},
   "source": [
    "## (4) train 데이터와 test 데이터로 분리하기"
   ]
  },
  {
   "cell_type": "code",
   "execution_count": 3,
   "metadata": {},
   "outputs": [
    {
     "name": "stdout",
     "output_type": "stream",
     "text": [
      "(353, 10) (353,)\n",
      "(89, 10) (89,)\n"
     ]
    }
   ],
   "source": [
    "from sklearn.model_selection import train_test_split\n",
    "\n",
    "X_train, X_test, y_train, y_test = train_test_split(df_X, df_y, test_size=0.2, random_state=42)\n",
    "print(X_train.shape, y_train.shape)\n",
    "print(X_test.shape, y_test.shape)"
   ]
  },
  {
   "cell_type": "markdown",
   "metadata": {},
   "source": [
    "## (5) 모델 준비하기"
   ]
  },
  {
   "cell_type": "code",
   "execution_count": 4,
   "metadata": {},
   "outputs": [],
   "source": [
    "# 모델 함수\n",
    "def model(X, W, b):\n",
    "    predictions = 0\n",
    "    for i in range(X.shape[1]):\n",
    "        predictions += X[:, i] * W[i]\n",
    "    predictions += b\n",
    "    return predictions"
   ]
  },
  {
   "cell_type": "markdown",
   "metadata": {},
   "source": [
    "## (6) 손실함수 loss 정의하기"
   ]
  },
  {
   "cell_type": "code",
   "execution_count": 5,
   "metadata": {},
   "outputs": [],
   "source": [
    "# MSE 계산 함수\n",
    "def MSE(predictions, y):\n",
    "    return ((predictions - y) ** 2).mean()  # 두 값의 차이의 제곱의 평균    \n",
    "# 손실함수: MSE\n",
    "def loss(X, W, b, y):\n",
    "    predictions = model(X, W, b)\n",
    "    return MSE(predictions, y)"
   ]
  },
  {
   "cell_type": "markdown",
   "metadata": {},
   "source": [
    "## (7)기울기를 구하는 gradient 함수 구현하기"
   ]
  },
  {
   "cell_type": "code",
   "execution_count": 6,
   "metadata": {},
   "outputs": [],
   "source": [
    "import matplotlib.pyplot as plt\n",
    "\n",
    "# 기울기 함수\n",
    "def gradient(X, W, b, y):\n",
    "    # N은 데이터 포인트의 개수\n",
    "    N = len(y)\n",
    "        \n",
    "    # y_pred 준비\n",
    "    y_pred = model(X, W, b)\n",
    "    \n",
    "    # 공식에 맞게 gradient 계산\n",
    "    dW = 1/N * 2 * X.T.dot(y_pred - y)\n",
    "        \n",
    "    # b의 gradient 계산\n",
    "    db = 2 * (y_pred - y).mean()\n",
    "    return dW, db\n",
    "\n",
    "\n",
    "'''\n",
    "학습 함수\n",
    "    학습률 및 횟수를 지정하여 학습 진행 및 시각화\n",
    "    학습 결과 파라메터 W, b 반환\n",
    "''' \n",
    "def linear_regression_fit(X, y, W, b, l_rate = 0.0001, cnt = 1000):    \n",
    "    losses = []\n",
    "    for i in range(1, (cnt + 1)):\n",
    "        dW, db = gradient(X, W, b, y)\n",
    "        W -= l_rate * dW\n",
    "        b -= l_rate * db\n",
    "        L = loss(X, W, b, y)\n",
    "        losses.append(L)\n",
    "        if i % 10 == 0:\n",
    "            print('Iteration %d : Loss %0.4f' % (i, L))\n",
    "    plt.plot(losses)\n",
    "    plt.show()\n",
    "    return (W, b)"
   ]
  },
  {
   "cell_type": "markdown",
   "metadata": {},
   "source": [
    "## (8) 하이퍼 파라미터인 학습률 설정하기\n",
    "## (9) 모델 학습하기"
   ]
  },
  {
   "cell_type": "code",
   "execution_count": 10,
   "metadata": {},
   "outputs": [
    {
     "name": "stdout",
     "output_type": "stream",
     "text": [
      "Start(W, b): [0.62002182 0.5460171  0.36016253 0.15210841 0.37857406 0.14365349\n",
      " 0.72515717 0.84610854 0.44113919 0.69446812] 0.5340929116521158\n",
      "Iteration 10 : Loss 6256.2638\n",
      "Iteration 20 : Loss 5912.7654\n",
      "Iteration 30 : Loss 5836.0466\n",
      "Iteration 40 : Loss 5764.6588\n",
      "Iteration 50 : Loss 5695.5115\n",
      "Iteration 60 : Loss 5628.4950\n",
      "Iteration 70 : Loss 5563.5367\n",
      "Iteration 80 : Loss 5500.5671\n",
      "Iteration 90 : Loss 5439.5189\n",
      "Iteration 100 : Loss 5380.3272\n",
      "Iteration 110 : Loss 5322.9294\n",
      "Iteration 120 : Loss 5267.2651\n",
      "Iteration 130 : Loss 5213.2760\n",
      "Iteration 140 : Loss 5160.9057\n",
      "Iteration 150 : Loss 5110.1000\n",
      "Iteration 160 : Loss 5060.8064\n",
      "Iteration 170 : Loss 5012.9744\n",
      "Iteration 180 : Loss 4966.5550\n"
     ]
    },
    {
     "name": "stdout",
     "output_type": "stream",
     "text": [
      "Iteration 190 : Loss 4921.5011\n",
      "Iteration 200 : Loss 4877.7673\n",
      "Iteration 210 : Loss 4835.3095\n",
      "Iteration 220 : Loss 4794.0855\n",
      "Iteration 230 : Loss 4754.0542\n",
      "Iteration 240 : Loss 4715.1762\n",
      "Iteration 250 : Loss 4677.4132\n",
      "Iteration 260 : Loss 4640.7286\n",
      "Iteration 270 : Loss 4605.0868\n",
      "Iteration 280 : Loss 4570.4534\n",
      "Iteration 290 : Loss 4536.7953\n",
      "Iteration 300 : Loss 4504.0806\n",
      "Iteration 310 : Loss 4472.2784\n",
      "Iteration 320 : Loss 4441.3588\n",
      "Iteration 330 : Loss 4411.2932\n",
      "Iteration 340 : Loss 4382.0537\n",
      "Iteration 350 : Loss 4353.6135\n",
      "Iteration 360 : Loss 4325.9467\n",
      "Iteration 370 : Loss 4299.0283\n",
      "Iteration 380 : Loss 4272.8341\n",
      "Iteration 390 : Loss 4247.3409\n",
      "Iteration 400 : Loss 4222.5260\n",
      "Iteration 410 : Loss 4198.3679\n",
      "Iteration 420 : Loss 4174.8454\n",
      "Iteration 430 : Loss 4151.9383\n",
      "Iteration 440 : Loss 4129.6271\n",
      "Iteration 450 : Loss 4107.8927\n",
      "Iteration 460 : Loss 4086.7169\n",
      "Iteration 470 : Loss 4066.0822\n",
      "Iteration 480 : Loss 4045.9714\n",
      "Iteration 490 : Loss 4026.3681\n",
      "Iteration 500 : Loss 4007.2564\n",
      "Iteration 510 : Loss 3988.6210\n",
      "Iteration 520 : Loss 3970.4470\n",
      "Iteration 530 : Loss 3952.7200\n",
      "Iteration 540 : Loss 3935.4263\n",
      "Iteration 550 : Loss 3918.5524\n",
      "Iteration 560 : Loss 3902.0855\n",
      "Iteration 570 : Loss 3886.0131\n",
      "Iteration 580 : Loss 3870.3230\n",
      "Iteration 590 : Loss 3855.0037\n",
      "Iteration 600 : Loss 3840.0439\n",
      "Iteration 610 : Loss 3825.4326\n",
      "Iteration 620 : Loss 3811.1594\n",
      "Iteration 630 : Loss 3797.2142\n",
      "Iteration 640 : Loss 3783.5870\n",
      "Iteration 650 : Loss 3770.2685\n",
      "Iteration 660 : Loss 3757.2493\n",
      "Iteration 670 : Loss 3744.5208\n",
      "Iteration 680 : Loss 3732.0742\n",
      "Iteration 690 : Loss 3719.9013\n",
      "Iteration 700 : Loss 3707.9940\n",
      "Iteration 710 : Loss 3696.3448\n",
      "Iteration 720 : Loss 3684.9459\n",
      "Iteration 730 : Loss 3673.7903\n",
      "Iteration 740 : Loss 3662.8709\n",
      "Iteration 750 : Loss 3652.1809\n",
      "Iteration 760 : Loss 3641.7138\n",
      "Iteration 770 : Loss 3631.4632\n",
      "Iteration 780 : Loss 3621.4231\n",
      "Iteration 790 : Loss 3611.5875\n",
      "Iteration 800 : Loss 3601.9507\n",
      "Iteration 810 : Loss 3592.5071\n",
      "Iteration 820 : Loss 3583.2514\n",
      "Iteration 830 : Loss 3574.1784\n",
      "Iteration 840 : Loss 3565.2830\n",
      "Iteration 850 : Loss 3556.5605\n",
      "Iteration 860 : Loss 3548.0061\n",
      "Iteration 870 : Loss 3539.6152\n",
      "Iteration 880 : Loss 3531.3835\n",
      "Iteration 890 : Loss 3523.3068\n",
      "Iteration 900 : Loss 3515.3808\n",
      "Iteration 910 : Loss 3507.6016\n",
      "Iteration 920 : Loss 3499.9653\n",
      "Iteration 930 : Loss 3492.4682\n",
      "Iteration 940 : Loss 3485.1067\n",
      "Iteration 950 : Loss 3477.8772\n",
      "Iteration 960 : Loss 3470.7764\n",
      "Iteration 970 : Loss 3463.8010\n",
      "Iteration 980 : Loss 3456.9477\n",
      "Iteration 990 : Loss 3450.2136\n",
      "Iteration 1000 : Loss 3443.5955\n",
      "Iteration 1010 : Loss 3437.0907\n",
      "Iteration 1020 : Loss 3430.6963\n",
      "Iteration 1030 : Loss 3424.4095\n",
      "Iteration 1040 : Loss 3418.2278\n",
      "Iteration 1050 : Loss 3412.1486\n",
      "Iteration 1060 : Loss 3406.1695\n",
      "Iteration 1070 : Loss 3400.2879\n",
      "Iteration 1080 : Loss 3394.5016\n",
      "Iteration 1090 : Loss 3388.8084\n",
      "Iteration 1100 : Loss 3383.2060\n",
      "Iteration 1110 : Loss 3377.6923\n",
      "Iteration 1120 : Loss 3372.2653\n",
      "Iteration 1130 : Loss 3366.9229\n",
      "Iteration 1140 : Loss 3361.6633\n",
      "Iteration 1150 : Loss 3356.4845\n",
      "Iteration 1160 : Loss 3351.3848\n",
      "Iteration 1170 : Loss 3346.3623\n",
      "Iteration 1180 : Loss 3341.4154\n",
      "Iteration 1190 : Loss 3336.5423\n",
      "Iteration 1200 : Loss 3331.7415\n",
      "Iteration 1210 : Loss 3327.0113\n",
      "Iteration 1220 : Loss 3322.3503\n",
      "Iteration 1230 : Loss 3317.7570\n",
      "Iteration 1240 : Loss 3313.2299\n",
      "Iteration 1250 : Loss 3308.7677\n",
      "Iteration 1260 : Loss 3304.3689\n",
      "Iteration 1270 : Loss 3300.0323\n",
      "Iteration 1280 : Loss 3295.7566\n",
      "Iteration 1290 : Loss 3291.5404\n",
      "Iteration 1300 : Loss 3287.3827\n",
      "Iteration 1310 : Loss 3283.2823\n",
      "Iteration 1320 : Loss 3279.2379\n",
      "Iteration 1330 : Loss 3275.2485\n",
      "Iteration 1340 : Loss 3271.3130\n",
      "Iteration 1350 : Loss 3267.4303\n",
      "Iteration 1360 : Loss 3263.5994\n",
      "Iteration 1370 : Loss 3259.8194\n",
      "Iteration 1380 : Loss 3256.0892\n",
      "Iteration 1390 : Loss 3252.4079\n",
      "Iteration 1400 : Loss 3248.7745\n",
      "Iteration 1410 : Loss 3245.1883\n",
      "Iteration 1420 : Loss 3241.6482\n",
      "Iteration 1430 : Loss 3238.1535\n",
      "Iteration 1440 : Loss 3234.7034\n",
      "Iteration 1450 : Loss 3231.2970\n",
      "Iteration 1460 : Loss 3227.9335\n",
      "Iteration 1470 : Loss 3224.6121\n",
      "Iteration 1480 : Loss 3221.3323\n",
      "Iteration 1490 : Loss 3218.0931\n",
      "Iteration 1500 : Loss 3214.8939\n",
      "Iteration 1510 : Loss 3211.7340\n",
      "Iteration 1520 : Loss 3208.6127\n",
      "Iteration 1530 : Loss 3205.5294\n",
      "Iteration 1540 : Loss 3202.4834\n",
      "Iteration 1550 : Loss 3199.4742\n",
      "Iteration 1560 : Loss 3196.5010\n",
      "Iteration 1570 : Loss 3193.5633\n",
      "Iteration 1580 : Loss 3190.6605\n",
      "Iteration 1590 : Loss 3187.7921\n",
      "Iteration 1600 : Loss 3184.9574\n",
      "Iteration 1610 : Loss 3182.1560\n",
      "Iteration 1620 : Loss 3179.3874\n",
      "Iteration 1630 : Loss 3176.6509\n",
      "Iteration 1640 : Loss 3173.9461\n",
      "Iteration 1650 : Loss 3171.2725\n",
      "Iteration 1660 : Loss 3168.6296\n",
      "Iteration 1670 : Loss 3166.0170\n",
      "Iteration 1680 : Loss 3163.4341\n",
      "Iteration 1690 : Loss 3160.8806\n",
      "Iteration 1700 : Loss 3158.3560\n",
      "Iteration 1710 : Loss 3155.8598\n",
      "Iteration 1720 : Loss 3153.3917\n",
      "Iteration 1730 : Loss 3150.9512\n",
      "Iteration 1740 : Loss 3148.5379\n",
      "Iteration 1750 : Loss 3146.1515\n",
      "Iteration 1760 : Loss 3143.7914\n",
      "Iteration 1770 : Loss 3141.4574\n",
      "Iteration 1780 : Loss 3139.1491\n",
      "Iteration 1790 : Loss 3136.8662\n",
      "Iteration 1800 : Loss 3134.6081\n",
      "Iteration 1810 : Loss 3132.3747\n",
      "Iteration 1820 : Loss 3130.1656\n",
      "Iteration 1830 : Loss 3127.9804\n",
      "Iteration 1840 : Loss 3125.8188\n",
      "Iteration 1850 : Loss 3123.6805\n",
      "Iteration 1860 : Loss 3121.5651\n",
      "Iteration 1870 : Loss 3119.4724\n",
      "Iteration 1880 : Loss 3117.4020\n",
      "Iteration 1890 : Loss 3115.3537\n",
      "Iteration 1900 : Loss 3113.3272\n",
      "Iteration 1910 : Loss 3111.3221\n",
      "Iteration 1920 : Loss 3109.3382\n",
      "Iteration 1930 : Loss 3107.3752\n",
      "Iteration 1940 : Loss 3105.4329\n",
      "Iteration 1950 : Loss 3103.5109\n",
      "Iteration 1960 : Loss 3101.6090\n",
      "Iteration 1970 : Loss 3099.7270\n",
      "Iteration 1980 : Loss 3097.8646\n",
      "Iteration 1990 : Loss 3096.0215\n",
      "Iteration 2000 : Loss 3094.1976\n",
      "Iteration 2010 : Loss 3092.3925\n",
      "Iteration 2020 : Loss 3090.6060\n",
      "Iteration 2030 : Loss 3088.8380\n",
      "Iteration 2040 : Loss 3087.0881\n",
      "Iteration 2050 : Loss 3085.3561\n",
      "Iteration 2060 : Loss 3083.6419\n",
      "Iteration 2070 : Loss 3081.9452\n",
      "Iteration 2080 : Loss 3080.2658\n",
      "Iteration 2090 : Loss 3078.6035\n",
      "Iteration 2100 : Loss 3076.9581\n",
      "Iteration 2110 : Loss 3075.3293\n",
      "Iteration 2120 : Loss 3073.7170\n",
      "Iteration 2130 : Loss 3072.1211\n",
      "Iteration 2140 : Loss 3070.5412\n",
      "Iteration 2150 : Loss 3068.9772\n",
      "Iteration 2160 : Loss 3067.4289\n",
      "Iteration 2170 : Loss 3065.8961\n",
      "Iteration 2180 : Loss 3064.3787\n",
      "Iteration 2190 : Loss 3062.8765\n",
      "Iteration 2200 : Loss 3061.3892\n",
      "Iteration 2210 : Loss 3059.9168\n",
      "Iteration 2220 : Loss 3058.4590\n",
      "Iteration 2230 : Loss 3057.0157\n",
      "Iteration 2240 : Loss 3055.5868\n",
      "Iteration 2250 : Loss 3054.1719\n",
      "Iteration 2260 : Loss 3052.7711\n",
      "Iteration 2270 : Loss 3051.3841\n",
      "Iteration 2280 : Loss 3050.0108\n",
      "Iteration 2290 : Loss 3048.6510\n",
      "Iteration 2300 : Loss 3047.3046\n",
      "Iteration 2310 : Loss 3045.9714\n",
      "Iteration 2320 : Loss 3044.6512\n",
      "Iteration 2330 : Loss 3043.3440\n",
      "Iteration 2340 : Loss 3042.0496\n",
      "Iteration 2350 : Loss 3040.7678\n",
      "Iteration 2360 : Loss 3039.4986\n",
      "Iteration 2370 : Loss 3038.2417\n",
      "Iteration 2380 : Loss 3036.9970\n",
      "Iteration 2390 : Loss 3035.7644\n",
      "Iteration 2400 : Loss 3034.5438\n",
      "Iteration 2410 : Loss 3033.3350\n",
      "Iteration 2420 : Loss 3032.1379\n",
      "Iteration 2430 : Loss 3030.9525\n",
      "Iteration 2440 : Loss 3029.7784\n",
      "Iteration 2450 : Loss 3028.6157\n",
      "Iteration 2460 : Loss 3027.4642\n",
      "Iteration 2470 : Loss 3026.3238\n",
      "Iteration 2480 : Loss 3025.1944\n",
      "Iteration 2490 : Loss 3024.0758\n",
      "Iteration 2500 : Loss 3022.9679\n",
      "Iteration 2510 : Loss 3021.8707\n",
      "Iteration 2520 : Loss 3020.7840\n",
      "Iteration 2530 : Loss 3019.7077\n",
      "Iteration 2540 : Loss 3018.6416\n",
      "Iteration 2550 : Loss 3017.5858\n",
      "Iteration 2560 : Loss 3016.5400\n",
      "Iteration 2570 : Loss 3015.5042\n",
      "Iteration 2580 : Loss 3014.4782\n",
      "Iteration 2590 : Loss 3013.4620\n",
      "Iteration 2600 : Loss 3012.4555\n",
      "Iteration 2610 : Loss 3011.4585\n",
      "Iteration 2620 : Loss 3010.4710\n",
      "Iteration 2630 : Loss 3009.4928\n",
      "Iteration 2640 : Loss 3008.5239\n",
      "Iteration 2650 : Loss 3007.5642\n",
      "Iteration 2660 : Loss 3006.6135\n",
      "Iteration 2670 : Loss 3005.6718\n",
      "Iteration 2680 : Loss 3004.7390\n",
      "Iteration 2690 : Loss 3003.8149\n",
      "Iteration 2700 : Loss 3002.8996\n",
      "Iteration 2710 : Loss 3001.9929\n",
      "Iteration 2720 : Loss 3001.0947\n",
      "Iteration 2730 : Loss 3000.2049\n",
      "Iteration 2740 : Loss 2999.3235\n",
      "Iteration 2750 : Loss 2998.4504\n",
      "Iteration 2760 : Loss 2997.5854\n",
      "Iteration 2770 : Loss 2996.7286\n",
      "Iteration 2780 : Loss 2995.8797\n",
      "Iteration 2790 : Loss 2995.0388\n",
      "Iteration 2800 : Loss 2994.2057\n",
      "Iteration 2810 : Loss 2993.3804\n",
      "Iteration 2820 : Loss 2992.5628\n",
      "Iteration 2830 : Loss 2991.7528\n",
      "Iteration 2840 : Loss 2990.9504\n",
      "Iteration 2850 : Loss 2990.1554\n",
      "Iteration 2860 : Loss 2989.3678\n",
      "Iteration 2870 : Loss 2988.5875\n",
      "Iteration 2880 : Loss 2987.8145\n",
      "Iteration 2890 : Loss 2987.0486\n",
      "Iteration 2900 : Loss 2986.2898\n",
      "Iteration 2910 : Loss 2985.5381\n",
      "Iteration 2920 : Loss 2984.7933\n",
      "Iteration 2930 : Loss 2984.0553\n",
      "Iteration 2940 : Loss 2983.3242\n",
      "Iteration 2950 : Loss 2982.5999\n",
      "Iteration 2960 : Loss 2981.8822\n",
      "Iteration 2970 : Loss 2981.1712\n",
      "Iteration 2980 : Loss 2980.4667\n",
      "Iteration 2990 : Loss 2979.7686\n",
      "Iteration 3000 : Loss 2979.0770\n"
     ]
    },
    {
     "data": {
      "image/png": "[encoded data removed]",
      "text/plain": [
       "<Figure size 640x480 with 1 Axes>"
      ]
     },
     "metadata": {},
     "output_type": "display_data"
    },
    {
     "name": "stdout",
     "output_type": "stream",
     "text": [
      "End(W, b): [  49.8574218  -151.30859244  446.82796351  295.94103524  -39.3686802\n",
      "  -85.94078057 -204.5973504   147.53061579  336.89601148  138.88183586] 151.54732708854488\n"
     ]
    }
   ],
   "source": [
    "import numpy as np\n",
    "\n",
    "# 초기 파라메터: W 백터, b 상수\n",
    "W = np.random.rand(X_train.shape[1])\n",
    "b = np.random.rand()\n",
    "print('Start(W, b):', W, b)\n",
    "\n",
    "# 학습률\n",
    "LEARNING_RATE = 0.1\n",
    "\n",
    "# 학습\n",
    "(W, b) = linear_regression_fit(X_train, y_train, W, b, LEARNING_RATE, 3000)\n",
    "print('End(W, b):', W, b)\n"
   ]
  },
  {
   "cell_type": "markdown",
   "metadata": {},
   "source": [
    "## (10) test 데이터에 대한 성능 확인하기"
   ]
  },
  {
   "cell_type": "code",
   "execution_count": 11,
   "metadata": {},
   "outputs": [
    {
     "name": "stdout",
     "output_type": "stream",
     "text": [
      "mse: 2870.478681135662\n"
     ]
    }
   ],
   "source": [
    "prediction = model(X_test, W, b)\n",
    "mse = loss(X_test, W, b, y_test)\n",
    "print('mse:', mse)"
   ]
  },
  {
   "cell_type": "markdown",
   "metadata": {},
   "source": [
    "## (11) 정답 데이터와 예측한 데이터 시각화하기"
   ]
  },
  {
   "cell_type": "code",
   "execution_count": 12,
   "metadata": {},
   "outputs": [
    {
     "data": {
      "image/png": "[encoded data removed]",
      "text/plain": [
       "<Figure size 640x480 with 1 Axes>"
      ]
     },
     "metadata": {},
     "output_type": "display_data"
    }
   ],
   "source": [
    "plt.scatter(X_test[:, 0], y_test)\n",
    "plt.scatter(X_test[:, 0], prediction)\n",
    "plt.show()"
   ]
  }
 ],
 "metadata": {
  "kernelspec": {
   "display_name": "base",
   "language": "python",
   "name": "python3"
  },
  "language_info": {
   "codemirror_mode": {
    "name": "ipython",
    "version": 3
   },
   "file_extension": ".py",
   "mimetype": "text/x-python",
   "name": "python",
   "nbconvert_exporter": "python",
   "pygments_lexer": "ipython3",
   "version": "3.10.9"
  },
  "orig_nbformat": 4
 },
 "nbformat": 4,
 "nbformat_minor": 2
}
