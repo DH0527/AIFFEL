{
 "cells": [
  {
   "cell_type": "markdown",
   "metadata": {},
   "source": [
    "## 3. 나의 첫 번째 캐글 경진대회, 무작정 따라해보기\n",
    "캐글에서 데이터\n",
    "Baseline 모델\n",
    "앙상블 기법\n",
    "하이퍼 파라미터 튜닝\n",
    "- Grid Search\n",
    "- Random Search"
   ]
  },
  {
   "cell_type": "code",
   "execution_count": 16,
   "metadata": {},
   "outputs": [
    {
     "name": "stdout",
     "output_type": "stream",
     "text": [
      "(15035, 21) (6468, 20)\n"
     ]
    },
    {
     "data": {
      "text/plain": [
       "{'price'}"
      ]
     },
     "execution_count": 16,
     "metadata": {},
     "output_type": "execute_result"
    }
   ],
   "source": [
    "import pandas as pd\n",
    "\n",
    "train_data = pd.read_csv('./data/train.csv')\n",
    "test_data = pd.read_csv('./data/test.csv')\n",
    "print(train_data.shape, test_data.shape)\n",
    "train_col_set = set(train_data.columns)\n",
    "test_col_set = set(test_data.columns)\n",
    "train_col_set - test_col_set"
   ]
  },
  {
   "cell_type": "markdown",
   "metadata": {},
   "source": []
  }
 ],
 "metadata": {
  "kernelspec": {
   "display_name": "base",
   "language": "python",
   "name": "python3"
  },
  "language_info": {
   "codemirror_mode": {
    "name": "ipython",
    "version": 3
   },
   "file_extension": ".py",
   "mimetype": "text/x-python",
   "name": "python",
   "nbconvert_exporter": "python",
   "pygments_lexer": "ipython3",
   "version": "3.10.9"
  },
  "orig_nbformat": 4
 },
 "nbformat": 4,
 "nbformat_minor": 2
}
